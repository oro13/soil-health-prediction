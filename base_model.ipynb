{
 "cells": [
  {
   "cell_type": "code",
   "execution_count": 1,
   "metadata": {},
   "outputs": [],
   "source": [
    "import pandas as pd\n",
    "import matplotlib.pyplot as plt\n",
    "\n"
   ]
  },
  {
   "cell_type": "code",
   "execution_count": 2,
   "metadata": {},
   "outputs": [],
   "source": [
    "from src.model import *"
   ]
  },
  {
   "cell_type": "code",
   "execution_count": 3,
   "metadata": {},
   "outputs": [
    {
     "data": {
      "application/vnd.jupyter.widget-view+json": {
       "model_id": "b3aa8dd8fb474994ba6295f77d5d54e9",
       "version_major": 2,
       "version_minor": 0
      },
      "text/plain": [
       "HBox(children=(FloatProgress(value=1.0, bar_style='info', max=1.0), HTML(value='')))"
      ]
     },
     "metadata": {},
     "output_type": "display_data"
    },
    {
     "name": "stdout",
     "output_type": "stream",
     "text": [
      "\n"
     ]
    }
   ],
   "source": [
    "SPECTRA_DIR = 'Bruker_MPA/*'\n",
    "\n",
    "AFSIS_PATH = Path('afsis/2009-2013/Dry_Chemistry/ICRAF/')\n",
    "\n",
    "spectra_df = load_spectra_df(SPECTRA_DIR, AFSIS_PATH)\n"
   ]
  },
  {
   "cell_type": "code",
   "execution_count": 4,
   "metadata": {},
   "outputs": [
    {
     "data": {
      "text/html": [
       "<div>\n",
       "<style scoped>\n",
       "    .dataframe tbody tr th:only-of-type {\n",
       "        vertical-align: middle;\n",
       "    }\n",
       "\n",
       "    .dataframe tbody tr th {\n",
       "        vertical-align: top;\n",
       "    }\n",
       "\n",
       "    .dataframe thead th {\n",
       "        text-align: right;\n",
       "    }\n",
       "</style>\n",
       "<table border=\"1\" class=\"dataframe\">\n",
       "  <thead>\n",
       "    <tr style=\"text-align: right;\">\n",
       "      <th></th>\n",
       "      <th>SSN</th>\n",
       "      <th>Public</th>\n",
       "      <th>EC</th>\n",
       "      <th>ExAc</th>\n",
       "      <th>ExBas</th>\n",
       "      <th>M3 Al</th>\n",
       "      <th>M3 B</th>\n",
       "      <th>M3 Ca</th>\n",
       "      <th>M3 Cu</th>\n",
       "      <th>M3 Fe</th>\n",
       "      <th>M3 K</th>\n",
       "      <th>M3 Mg</th>\n",
       "      <th>M3 Mn</th>\n",
       "      <th>M3 Na</th>\n",
       "      <th>M3 P</th>\n",
       "      <th>M3 S</th>\n",
       "      <th>M3 Zn</th>\n",
       "      <th>PH</th>\n",
       "      <th>PSI</th>\n",
       "    </tr>\n",
       "  </thead>\n",
       "  <tbody>\n",
       "    <tr>\n",
       "      <th>0</th>\n",
       "      <td>icr006475</td>\n",
       "      <td>True</td>\n",
       "      <td>0.053</td>\n",
       "      <td>2.56</td>\n",
       "      <td>2.744241</td>\n",
       "      <td>1095.0</td>\n",
       "      <td>0.3337</td>\n",
       "      <td>207.1</td>\n",
       "      <td>1.3150</td>\n",
       "      <td>153.70</td>\n",
       "      <td>306.30</td>\n",
       "      <td>89.5</td>\n",
       "      <td>9.266</td>\n",
       "      <td>42.71</td>\n",
       "      <td>4.495</td>\n",
       "      <td>18.960</td>\n",
       "      <td>2.825</td>\n",
       "      <td>4.682</td>\n",
       "      <td>67.052495</td>\n",
       "    </tr>\n",
       "    <tr>\n",
       "      <th>1</th>\n",
       "      <td>icr006586</td>\n",
       "      <td>True</td>\n",
       "      <td>0.193</td>\n",
       "      <td>0.59</td>\n",
       "      <td>16.797753</td>\n",
       "      <td>1165.0</td>\n",
       "      <td>0.7899</td>\n",
       "      <td>1665.0</td>\n",
       "      <td>2.8140</td>\n",
       "      <td>126.80</td>\n",
       "      <td>1186.00</td>\n",
       "      <td>636.7</td>\n",
       "      <td>254.700</td>\n",
       "      <td>40.83</td>\n",
       "      <td>12.510</td>\n",
       "      <td>13.600</td>\n",
       "      <td>1.952</td>\n",
       "      <td>7.062</td>\n",
       "      <td>30.420552</td>\n",
       "    </tr>\n",
       "    <tr>\n",
       "      <th>2</th>\n",
       "      <td>icr007929</td>\n",
       "      <td>True</td>\n",
       "      <td>0.305</td>\n",
       "      <td>0.19</td>\n",
       "      <td>16.503619</td>\n",
       "      <td>727.6</td>\n",
       "      <td>0.6142</td>\n",
       "      <td>2518.0</td>\n",
       "      <td>0.2496</td>\n",
       "      <td>260.40</td>\n",
       "      <td>72.57</td>\n",
       "      <td>428.5</td>\n",
       "      <td>35.820</td>\n",
       "      <td>42.94</td>\n",
       "      <td>21.090</td>\n",
       "      <td>14.810</td>\n",
       "      <td>2.742</td>\n",
       "      <td>7.114</td>\n",
       "      <td>60.506163</td>\n",
       "    </tr>\n",
       "    <tr>\n",
       "      <th>3</th>\n",
       "      <td>icr008008</td>\n",
       "      <td>True</td>\n",
       "      <td>0.053</td>\n",
       "      <td>0.48</td>\n",
       "      <td>6.302775</td>\n",
       "      <td>1458.0</td>\n",
       "      <td>0.3603</td>\n",
       "      <td>734.3</td>\n",
       "      <td>1.3690</td>\n",
       "      <td>134.10</td>\n",
       "      <td>274.60</td>\n",
       "      <td>222.5</td>\n",
       "      <td>29.110</td>\n",
       "      <td>20.73</td>\n",
       "      <td>109.200</td>\n",
       "      <td>11.400</td>\n",
       "      <td>0.980</td>\n",
       "      <td>5.650</td>\n",
       "      <td>51.470143</td>\n",
       "    </tr>\n",
       "    <tr>\n",
       "      <th>4</th>\n",
       "      <td>icr010198</td>\n",
       "      <td>True</td>\n",
       "      <td>0.032</td>\n",
       "      <td>1.05</td>\n",
       "      <td>2.390303</td>\n",
       "      <td>2166.0</td>\n",
       "      <td>0.0100</td>\n",
       "      <td>261.8</td>\n",
       "      <td>1.6860</td>\n",
       "      <td>97.49</td>\n",
       "      <td>91.76</td>\n",
       "      <td>76.5</td>\n",
       "      <td>375.200</td>\n",
       "      <td>49.31</td>\n",
       "      <td>3.958</td>\n",
       "      <td>5.281</td>\n",
       "      <td>1.258</td>\n",
       "      <td>5.501</td>\n",
       "      <td>247.626533</td>\n",
       "    </tr>\n",
       "  </tbody>\n",
       "</table>\n",
       "</div>"
      ],
      "text/plain": [
       "         SSN  Public     EC  ExAc      ExBas   M3 Al    M3 B   M3 Ca   M3 Cu  \\\n",
       "0  icr006475    True  0.053  2.56   2.744241  1095.0  0.3337   207.1  1.3150   \n",
       "1  icr006586    True  0.193  0.59  16.797753  1165.0  0.7899  1665.0  2.8140   \n",
       "2  icr007929    True  0.305  0.19  16.503619   727.6  0.6142  2518.0  0.2496   \n",
       "3  icr008008    True  0.053  0.48   6.302775  1458.0  0.3603   734.3  1.3690   \n",
       "4  icr010198    True  0.032  1.05   2.390303  2166.0  0.0100   261.8  1.6860   \n",
       "\n",
       "    M3 Fe     M3 K  M3 Mg    M3 Mn  M3 Na     M3 P    M3 S  M3 Zn     PH  \\\n",
       "0  153.70   306.30   89.5    9.266  42.71    4.495  18.960  2.825  4.682   \n",
       "1  126.80  1186.00  636.7  254.700  40.83   12.510  13.600  1.952  7.062   \n",
       "2  260.40    72.57  428.5   35.820  42.94   21.090  14.810  2.742  7.114   \n",
       "3  134.10   274.60  222.5   29.110  20.73  109.200  11.400  0.980  5.650   \n",
       "4   97.49    91.76   76.5  375.200  49.31    3.958   5.281  1.258  5.501   \n",
       "\n",
       "          PSI  \n",
       "0   67.052495  \n",
       "1   30.420552  \n",
       "2   60.506163  \n",
       "3   51.470143  \n",
       "4  247.626533  "
      ]
     },
     "execution_count": 4,
     "metadata": {},
     "output_type": "execute_result"
    }
   ],
   "source": [
    "wet_chem_df = pd.read_csv('afsis/2009-2013/Wet_Chemistry/CROPNUTS/Wet_Chemistry_CROPNUTS.csv')\n",
    "wet_chem_df.head()"
   ]
  },
  {
   "cell_type": "code",
   "execution_count": 5,
   "metadata": {},
   "outputs": [],
   "source": [
    "WET_CHEM_PATH = 'afsis/2009-2013/Wet_Chemistry/CROPNUTS/Wet_Chemistry_CROPNUTS.csv'\n",
    "elements = ['M3 Ca', 'M3 K', 'M3 Mg', 'M3 P']\n",
    "columns_to_load = elements + ['SSN']\n",
    "\n",
    "\n",
    "wet_chem_df = pd.read_csv(WET_CHEM_PATH, index_col='SSN', usecols=columns_to_load)"
   ]
  },
  {
   "cell_type": "code",
   "execution_count": 6,
   "metadata": {},
   "outputs": [
    {
     "name": "stdout",
     "output_type": "stream",
     "text": [
      "Training model for M3 K.\n",
      "1907 samples available.\n",
      "CV r^2 score: 0.5022611336321301\n"
     ]
    }
   ],
   "source": [
    "WET_CHEM_PATH = 'afsis/2009-2013/Wet_Chemistry/CROPNUTS/Wet_Chemistry_CROPNUTS.csv'\n",
    "Y_COLUMN = 'M3 K'\n",
    "\n",
    "basic_xgboost(spectra_df, WET_CHEM_PATH, Y_COLUMN)"
   ]
  }
 ],
 "metadata": {
  "kernelspec": {
   "display_name": "Python 3",
   "language": "python",
   "name": "python3"
  },
  "language_info": {
   "codemirror_mode": {
    "name": "ipython",
    "version": 3
   },
   "file_extension": ".py",
   "mimetype": "text/x-python",
   "name": "python",
   "nbconvert_exporter": "python",
   "pygments_lexer": "ipython3",
   "version": "3.7.6"
  }
 },
 "nbformat": 4,
 "nbformat_minor": 4
}
