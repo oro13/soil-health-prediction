{
 "cells": [
  {
   "cell_type": "code",
   "execution_count": 1,
   "metadata": {},
   "outputs": [],
   "source": [
    "import pandas as pd\n",
    "import matplotlib.pyplot as plt\n",
    "import numpy as np\n",
    "\n",
    "from sklearn.model_selection import train_test_split\n",
    "\n",
    "import time"
   ]
  },
  {
   "cell_type": "code",
   "execution_count": 2,
   "metadata": {
    "collapsed": true,
    "jupyter": {
     "outputs_hidden": true,
     "source_hidden": true
    }
   },
   "outputs": [
    {
     "name": "stdout",
     "output_type": "stream",
     "text": [
      "Requirement already satisfied: jupyter_contrib_nbextensions in /home/ubuntu/anaconda3/lib/python3.7/site-packages (0.5.1)\n",
      "Requirement already satisfied: jupyter-nbextensions-configurator>=0.4.0 in /home/ubuntu/anaconda3/lib/python3.7/site-packages (from jupyter_contrib_nbextensions) (0.4.1)\n",
      "Requirement already satisfied: pyyaml in /home/ubuntu/anaconda3/lib/python3.7/site-packages (from jupyter_contrib_nbextensions) (5.3)\n",
      "Requirement already satisfied: jupyter-highlight-selected-word>=0.1.1 in /home/ubuntu/anaconda3/lib/python3.7/site-packages (from jupyter_contrib_nbextensions) (0.2.0)\n",
      "Requirement already satisfied: tornado in /home/ubuntu/anaconda3/lib/python3.7/site-packages (from jupyter_contrib_nbextensions) (6.0.3)\n",
      "Requirement already satisfied: nbconvert>=4.2 in /home/ubuntu/anaconda3/lib/python3.7/site-packages (from jupyter_contrib_nbextensions) (5.6.1)\n",
      "Requirement already satisfied: jupyter-contrib-core>=0.3.3 in /home/ubuntu/anaconda3/lib/python3.7/site-packages (from jupyter_contrib_nbextensions) (0.3.3)\n",
      "Requirement already satisfied: jupyter-latex-envs>=1.3.8 in /home/ubuntu/anaconda3/lib/python3.7/site-packages (from jupyter_contrib_nbextensions) (1.4.6)\n",
      "Requirement already satisfied: ipython-genutils in /home/ubuntu/anaconda3/lib/python3.7/site-packages (from jupyter_contrib_nbextensions) (0.2.0)\n",
      "Requirement already satisfied: traitlets>=4.1 in /home/ubuntu/anaconda3/lib/python3.7/site-packages (from jupyter_contrib_nbextensions) (4.3.3)\n",
      "Requirement already satisfied: lxml in /home/ubuntu/anaconda3/lib/python3.7/site-packages (from jupyter_contrib_nbextensions) (4.5.0)\n",
      "Requirement already satisfied: notebook>=4.0 in /home/ubuntu/anaconda3/lib/python3.7/site-packages (from jupyter_contrib_nbextensions) (6.0.3)\n",
      "Requirement already satisfied: jupyter-core in /home/ubuntu/anaconda3/lib/python3.7/site-packages (from jupyter_contrib_nbextensions) (4.6.1)\n",
      "Requirement already satisfied: entrypoints>=0.2.2 in /home/ubuntu/anaconda3/lib/python3.7/site-packages (from nbconvert>=4.2->jupyter_contrib_nbextensions) (0.3)\n",
      "Requirement already satisfied: defusedxml in /home/ubuntu/anaconda3/lib/python3.7/site-packages (from nbconvert>=4.2->jupyter_contrib_nbextensions) (0.6.0)\n",
      "Requirement already satisfied: jinja2>=2.4 in /home/ubuntu/anaconda3/lib/python3.7/site-packages (from nbconvert>=4.2->jupyter_contrib_nbextensions) (2.11.1)\n",
      "Requirement already satisfied: pygments in /home/ubuntu/anaconda3/lib/python3.7/site-packages (from nbconvert>=4.2->jupyter_contrib_nbextensions) (2.5.2)\n",
      "Requirement already satisfied: pandocfilters>=1.4.1 in /home/ubuntu/anaconda3/lib/python3.7/site-packages (from nbconvert>=4.2->jupyter_contrib_nbextensions) (1.4.2)\n",
      "Requirement already satisfied: nbformat>=4.4 in /home/ubuntu/anaconda3/lib/python3.7/site-packages (from nbconvert>=4.2->jupyter_contrib_nbextensions) (5.0.4)\n",
      "Requirement already satisfied: testpath in /home/ubuntu/anaconda3/lib/python3.7/site-packages (from nbconvert>=4.2->jupyter_contrib_nbextensions) (0.4.4)\n",
      "Requirement already satisfied: bleach in /home/ubuntu/anaconda3/lib/python3.7/site-packages (from nbconvert>=4.2->jupyter_contrib_nbextensions) (3.1.0)\n",
      "Requirement already satisfied: mistune<2,>=0.8.1 in /home/ubuntu/anaconda3/lib/python3.7/site-packages (from nbconvert>=4.2->jupyter_contrib_nbextensions) (0.8.4)\n",
      "Requirement already satisfied: setuptools in /home/ubuntu/anaconda3/lib/python3.7/site-packages (from jupyter-contrib-core>=0.3.3->jupyter_contrib_nbextensions) (45.2.0.post20200210)\n",
      "Requirement already satisfied: ipython in /home/ubuntu/anaconda3/lib/python3.7/site-packages (from jupyter-latex-envs>=1.3.8->jupyter_contrib_nbextensions) (7.12.0)\n",
      "Requirement already satisfied: decorator in /home/ubuntu/anaconda3/lib/python3.7/site-packages (from traitlets>=4.1->jupyter_contrib_nbextensions) (4.4.1)\n",
      "Requirement already satisfied: six in /home/ubuntu/anaconda3/lib/python3.7/site-packages (from traitlets>=4.1->jupyter_contrib_nbextensions) (1.14.0)\n",
      "Requirement already satisfied: Send2Trash in /home/ubuntu/anaconda3/lib/python3.7/site-packages (from notebook>=4.0->jupyter_contrib_nbextensions) (1.5.0)\n",
      "Requirement already satisfied: ipykernel in /home/ubuntu/anaconda3/lib/python3.7/site-packages (from notebook>=4.0->jupyter_contrib_nbextensions) (5.1.4)\n",
      "Requirement already satisfied: terminado>=0.8.1 in /home/ubuntu/anaconda3/lib/python3.7/site-packages (from notebook>=4.0->jupyter_contrib_nbextensions) (0.8.3)\n",
      "Requirement already satisfied: pyzmq>=17 in /home/ubuntu/anaconda3/lib/python3.7/site-packages (from notebook>=4.0->jupyter_contrib_nbextensions) (18.1.1)\n",
      "Requirement already satisfied: jupyter-client>=5.3.4 in /home/ubuntu/anaconda3/lib/python3.7/site-packages (from notebook>=4.0->jupyter_contrib_nbextensions) (5.3.4)\n",
      "Requirement already satisfied: prometheus-client in /home/ubuntu/anaconda3/lib/python3.7/site-packages (from notebook>=4.0->jupyter_contrib_nbextensions) (0.7.1)\n",
      "Requirement already satisfied: MarkupSafe>=0.23 in /home/ubuntu/anaconda3/lib/python3.7/site-packages (from jinja2>=2.4->nbconvert>=4.2->jupyter_contrib_nbextensions) (1.1.1)\n",
      "Requirement already satisfied: jsonschema!=2.5.0,>=2.4 in /home/ubuntu/anaconda3/lib/python3.7/site-packages (from nbformat>=4.4->nbconvert>=4.2->jupyter_contrib_nbextensions) (3.2.0)\n",
      "Requirement already satisfied: webencodings in /home/ubuntu/anaconda3/lib/python3.7/site-packages (from bleach->nbconvert>=4.2->jupyter_contrib_nbextensions) (0.5.1)\n",
      "Requirement already satisfied: jedi>=0.10 in /home/ubuntu/anaconda3/lib/python3.7/site-packages (from ipython->jupyter-latex-envs>=1.3.8->jupyter_contrib_nbextensions) (0.14.1)\n",
      "Requirement already satisfied: pexpect; sys_platform != \"win32\" in /home/ubuntu/anaconda3/lib/python3.7/site-packages (from ipython->jupyter-latex-envs>=1.3.8->jupyter_contrib_nbextensions) (4.8.0)\n",
      "Requirement already satisfied: prompt-toolkit!=3.0.0,!=3.0.1,<3.1.0,>=2.0.0 in /home/ubuntu/anaconda3/lib/python3.7/site-packages (from ipython->jupyter-latex-envs>=1.3.8->jupyter_contrib_nbextensions) (3.0.3)\n",
      "Requirement already satisfied: backcall in /home/ubuntu/anaconda3/lib/python3.7/site-packages (from ipython->jupyter-latex-envs>=1.3.8->jupyter_contrib_nbextensions) (0.1.0)\n",
      "Requirement already satisfied: pickleshare in /home/ubuntu/anaconda3/lib/python3.7/site-packages (from ipython->jupyter-latex-envs>=1.3.8->jupyter_contrib_nbextensions) (0.7.5)\n",
      "Requirement already satisfied: python-dateutil>=2.1 in /home/ubuntu/anaconda3/lib/python3.7/site-packages (from jupyter-client>=5.3.4->notebook>=4.0->jupyter_contrib_nbextensions) (2.8.1)\n",
      "Requirement already satisfied: attrs>=17.4.0 in /home/ubuntu/anaconda3/lib/python3.7/site-packages (from jsonschema!=2.5.0,>=2.4->nbformat>=4.4->nbconvert>=4.2->jupyter_contrib_nbextensions) (19.3.0)\n",
      "Requirement already satisfied: pyrsistent>=0.14.0 in /home/ubuntu/anaconda3/lib/python3.7/site-packages (from jsonschema!=2.5.0,>=2.4->nbformat>=4.4->nbconvert>=4.2->jupyter_contrib_nbextensions) (0.15.7)\n",
      "Requirement already satisfied: importlib-metadata; python_version < \"3.8\" in /home/ubuntu/anaconda3/lib/python3.7/site-packages (from jsonschema!=2.5.0,>=2.4->nbformat>=4.4->nbconvert>=4.2->jupyter_contrib_nbextensions) (1.5.0)\n",
      "Requirement already satisfied: parso>=0.5.0 in /home/ubuntu/anaconda3/lib/python3.7/site-packages (from jedi>=0.10->ipython->jupyter-latex-envs>=1.3.8->jupyter_contrib_nbextensions) (0.5.2)\n",
      "Requirement already satisfied: ptyprocess>=0.5 in /home/ubuntu/anaconda3/lib/python3.7/site-packages (from pexpect; sys_platform != \"win32\"->ipython->jupyter-latex-envs>=1.3.8->jupyter_contrib_nbextensions) (0.6.0)\n",
      "Requirement already satisfied: wcwidth in /home/ubuntu/anaconda3/lib/python3.7/site-packages (from prompt-toolkit!=3.0.0,!=3.0.1,<3.1.0,>=2.0.0->ipython->jupyter-latex-envs>=1.3.8->jupyter_contrib_nbextensions) (0.1.8)\n",
      "Requirement already satisfied: zipp>=0.5 in /home/ubuntu/anaconda3/lib/python3.7/site-packages (from importlib-metadata; python_version < \"3.8\"->jsonschema!=2.5.0,>=2.4->nbformat>=4.4->nbconvert>=4.2->jupyter_contrib_nbextensions) (2.2.0)\n",
      "\u001b[32m[I 16:16:59 InstallContribNbextensionsApp]\u001b[m jupyter contrib nbextension install --user\n",
      "\u001b[32m[I 16:16:59 InstallContribNbextensionsApp]\u001b[m Installing jupyter_contrib_nbextensions nbextension files to jupyter data directory\n",
      "\u001b[32m[I 16:16:59 InstallContribNbextensionsApp]\u001b[m Installing /home/ubuntu/anaconda3/lib/python3.7/site-packages/jupyter_contrib_nbextensions/nbextensions/spellchecker -> spellchecker\n",
      "\u001b[32m[I 16:16:59 InstallContribNbextensionsApp]\u001b[m Up to date: /home/ubuntu/.local/share/jupyter/nbextensions/spellchecker/main.css\n",
      "\u001b[32m[I 16:16:59 InstallContribNbextensionsApp]\u001b[m Up to date: /home/ubuntu/.local/share/jupyter/nbextensions/spellchecker/config.yaml\n",
      "\u001b[32m[I 16:16:59 InstallContribNbextensionsApp]\u001b[m Up to date: /home/ubuntu/.local/share/jupyter/nbextensions/spellchecker/README.md\n",
      "\u001b[32m[I 16:16:59 InstallContribNbextensionsApp]\u001b[m Up to date: /home/ubuntu/.local/share/jupyter/nbextensions/spellchecker/main.js\n",
      "\u001b[32m[I 16:16:59 InstallContribNbextensionsApp]\u001b[m Up to date: /home/ubuntu/.local/share/jupyter/nbextensions/spellchecker/download_new_dict.py\n",
      "\u001b[32m[I 16:16:59 InstallContribNbextensionsApp]\u001b[m Up to date: /home/ubuntu/.local/share/jupyter/nbextensions/spellchecker/screenshot.png\n",
      "\u001b[32m[I 16:16:59 InstallContribNbextensionsApp]\u001b[m Up to date: /home/ubuntu/.local/share/jupyter/nbextensions/spellchecker/typo/LICENSE.txt\n",
      "\u001b[32m[I 16:16:59 InstallContribNbextensionsApp]\u001b[m Up to date: /home/ubuntu/.local/share/jupyter/nbextensions/spellchecker/typo/typo.js\n",
      "\u001b[32m[I 16:16:59 InstallContribNbextensionsApp]\u001b[m Up to date: /home/ubuntu/.local/share/jupyter/nbextensions/spellchecker/__pycache__/download_new_dict.cpython-37.pyc\n",
      "\u001b[32m[I 16:16:59 InstallContribNbextensionsApp]\u001b[m - Validating: \u001b[32mOK\u001b[0m\n",
      "\u001b[32m[I 16:16:59 InstallContribNbextensionsApp]\u001b[m Installing /home/ubuntu/anaconda3/lib/python3.7/site-packages/jupyter_contrib_nbextensions/nbextensions/table_beautifier -> table_beautifier\n",
      "\u001b[32m[I 16:16:59 InstallContribNbextensionsApp]\u001b[m Up to date: /home/ubuntu/.local/share/jupyter/nbextensions/table_beautifier/main.css\n",
      "\u001b[32m[I 16:16:59 InstallContribNbextensionsApp]\u001b[m Up to date: /home/ubuntu/.local/share/jupyter/nbextensions/table_beautifier/table_beautifier.yaml\n",
      "\u001b[32m[I 16:16:59 InstallContribNbextensionsApp]\u001b[m Up to date: /home/ubuntu/.local/share/jupyter/nbextensions/table_beautifier/README.md\n",
      "\u001b[32m[I 16:16:59 InstallContribNbextensionsApp]\u001b[m Up to date: /home/ubuntu/.local/share/jupyter/nbextensions/table_beautifier/main.js\n",
      "\u001b[32m[I 16:16:59 InstallContribNbextensionsApp]\u001b[m - Validating: \u001b[32mOK\u001b[0m\n",
      "\u001b[32m[I 16:16:59 InstallContribNbextensionsApp]\u001b[m Installing /home/ubuntu/anaconda3/lib/python3.7/site-packages/jupyter_contrib_nbextensions/nbextensions/select_keymap -> select_keymap\n",
      "\u001b[32m[I 16:16:59 InstallContribNbextensionsApp]\u001b[m Up to date: /home/ubuntu/.local/share/jupyter/nbextensions/select_keymap/select_keymap.yaml\n",
      "\u001b[32m[I 16:16:59 InstallContribNbextensionsApp]\u001b[m Up to date: /home/ubuntu/.local/share/jupyter/nbextensions/select_keymap/select_keymap.png\n",
      "\u001b[32m[I 16:16:59 InstallContribNbextensionsApp]\u001b[m Up to date: /home/ubuntu/.local/share/jupyter/nbextensions/select_keymap/README.md\n",
      "\u001b[32m[I 16:16:59 InstallContribNbextensionsApp]\u001b[m Up to date: /home/ubuntu/.local/share/jupyter/nbextensions/select_keymap/main.js\n",
      "\u001b[32m[I 16:16:59 InstallContribNbextensionsApp]\u001b[m - Validating: \u001b[32mOK\u001b[0m\n",
      "\u001b[32m[I 16:16:59 InstallContribNbextensionsApp]\u001b[m Installing /home/ubuntu/anaconda3/lib/python3.7/site-packages/jupyter_contrib_nbextensions/nbextensions/exercise -> exercise\n",
      "\u001b[32m[I 16:16:59 InstallContribNbextensionsApp]\u001b[m Up to date: /home/ubuntu/.local/share/jupyter/nbextensions/exercise/main.css\n",
      "\u001b[32m[I 16:16:59 InstallContribNbextensionsApp]\u001b[m Up to date: /home/ubuntu/.local/share/jupyter/nbextensions/exercise/history.md\n",
      "\u001b[32m[I 16:16:59 InstallContribNbextensionsApp]\u001b[m Up to date: /home/ubuntu/.local/share/jupyter/nbextensions/exercise/image.gif\n",
      "\u001b[32m[I 16:16:59 InstallContribNbextensionsApp]\u001b[m Up to date: /home/ubuntu/.local/share/jupyter/nbextensions/exercise/main.js\n",
      "\u001b[32m[I 16:16:59 InstallContribNbextensionsApp]\u001b[m Up to date: /home/ubuntu/.local/share/jupyter/nbextensions/exercise/readme.md\n",
      "\u001b[32m[I 16:16:59 InstallContribNbextensionsApp]\u001b[m Up to date: /home/ubuntu/.local/share/jupyter/nbextensions/exercise/exercise.yaml\n",
      "\u001b[32m[I 16:16:59 InstallContribNbextensionsApp]\u001b[m Up to date: /home/ubuntu/.local/share/jupyter/nbextensions/exercise/icon.png\n",
      "\u001b[32m[I 16:16:59 InstallContribNbextensionsApp]\u001b[m - Validating: \u001b[32mOK\u001b[0m\n",
      "\u001b[32m[I 16:16:59 InstallContribNbextensionsApp]\u001b[m Installing /home/ubuntu/anaconda3/lib/python3.7/site-packages/jupyter_contrib_nbextensions/nbextensions/codemirror_mode_extensions -> codemirror_mode_extensions\n",
      "\u001b[32m[I 16:16:59 InstallContribNbextensionsApp]\u001b[m Up to date: /home/ubuntu/.local/share/jupyter/nbextensions/codemirror_mode_extensions/codemirror_mode_extensions.yaml\n",
      "\u001b[32m[I 16:16:59 InstallContribNbextensionsApp]\u001b[m Up to date: /home/ubuntu/.local/share/jupyter/nbextensions/codemirror_mode_extensions/main.js\n",
      "\u001b[32m[I 16:16:59 InstallContribNbextensionsApp]\u001b[m - Validating: \u001b[32mOK\u001b[0m\n",
      "\u001b[32m[I 16:16:59 InstallContribNbextensionsApp]\u001b[m Installing /home/ubuntu/anaconda3/lib/python3.7/site-packages/jupyter_contrib_nbextensions/nbextensions/code_prettify -> code_prettify\n",
      "\u001b[32m[I 16:16:59 InstallContribNbextensionsApp]\u001b[m Up to date: /home/ubuntu/.local/share/jupyter/nbextensions/code_prettify/README_2to3.md\n",
      "\u001b[32m[I 16:16:59 InstallContribNbextensionsApp]\u001b[m Up to date: /home/ubuntu/.local/share/jupyter/nbextensions/code_prettify/code_prettify.js\n",
      "\u001b[32m[I 16:16:59 InstallContribNbextensionsApp]\u001b[m Up to date: /home/ubuntu/.local/share/jupyter/nbextensions/code_prettify/README_isort.md\n",
      "\u001b[32m[I 16:16:59 InstallContribNbextensionsApp]\u001b[m Up to date: /home/ubuntu/.local/share/jupyter/nbextensions/code_prettify/autopep8.yaml\n",
      "\u001b[32m[I 16:16:59 InstallContribNbextensionsApp]\u001b[m Up to date: /home/ubuntu/.local/share/jupyter/nbextensions/code_prettify/kernel_exec_on_cell.js\n",
      "\u001b[32m[I 16:16:59 InstallContribNbextensionsApp]\u001b[m Up to date: /home/ubuntu/.local/share/jupyter/nbextensions/code_prettify/demo-jv.gif\n",
      "\u001b[32m[I 16:16:59 InstallContribNbextensionsApp]\u001b[m Up to date: /home/ubuntu/.local/share/jupyter/nbextensions/code_prettify/demo_2to3.gif\n",
      "\u001b[32m[I 16:16:59 InstallContribNbextensionsApp]\u001b[m Up to date: /home/ubuntu/.local/share/jupyter/nbextensions/code_prettify/2to3.js\n",
      "\u001b[32m[I 16:16:59 InstallContribNbextensionsApp]\u001b[m Up to date: /home/ubuntu/.local/share/jupyter/nbextensions/code_prettify/demo-R.gif\n",
      "\u001b[32m[I 16:16:59 InstallContribNbextensionsApp]\u001b[m Up to date: /home/ubuntu/.local/share/jupyter/nbextensions/code_prettify/isort.js\n",
      "\u001b[32m[I 16:16:59 InstallContribNbextensionsApp]\u001b[m Up to date: /home/ubuntu/.local/share/jupyter/nbextensions/code_prettify/isort.yaml\n",
      "\u001b[32m[I 16:16:59 InstallContribNbextensionsApp]\u001b[m Up to date: /home/ubuntu/.local/share/jupyter/nbextensions/code_prettify/README_code_prettify.md\n",
      "\u001b[32m[I 16:16:59 InstallContribNbextensionsApp]\u001b[m Up to date: /home/ubuntu/.local/share/jupyter/nbextensions/code_prettify/autopep8.js\n",
      "\u001b[32m[I 16:16:59 InstallContribNbextensionsApp]\u001b[m Up to date: /home/ubuntu/.local/share/jupyter/nbextensions/code_prettify/README.md\n",
      "\u001b[32m[I 16:16:59 InstallContribNbextensionsApp]\u001b[m Up to date: /home/ubuntu/.local/share/jupyter/nbextensions/code_prettify/2to3.yaml\n",
      "\u001b[32m[I 16:16:59 InstallContribNbextensionsApp]\u001b[m Up to date: /home/ubuntu/.local/share/jupyter/nbextensions/code_prettify/code_prettify.yaml\n",
      "\u001b[32m[I 16:16:59 InstallContribNbextensionsApp]\u001b[m Up to date: /home/ubuntu/.local/share/jupyter/nbextensions/code_prettify/README_autopep8.md\n",
      "\u001b[32m[I 16:16:59 InstallContribNbextensionsApp]\u001b[m Up to date: /home/ubuntu/.local/share/jupyter/nbextensions/code_prettify/demo-py.gif\n",
      "\u001b[32m[I 16:16:59 InstallContribNbextensionsApp]\u001b[m - Validating: \u001b[32mOK\u001b[0m\n",
      "\u001b[32m[I 16:16:59 InstallContribNbextensionsApp]\u001b[m Installing /home/ubuntu/anaconda3/lib/python3.7/site-packages/jupyter_contrib_nbextensions/nbextensions/code_prettify -> code_prettify\n",
      "\u001b[32m[I 16:16:59 InstallContribNbextensionsApp]\u001b[m Up to date: /home/ubuntu/.local/share/jupyter/nbextensions/code_prettify/README_2to3.md\n",
      "\u001b[32m[I 16:16:59 InstallContribNbextensionsApp]\u001b[m Up to date: /home/ubuntu/.local/share/jupyter/nbextensions/code_prettify/code_prettify.js\n",
      "\u001b[32m[I 16:16:59 InstallContribNbextensionsApp]\u001b[m Up to date: /home/ubuntu/.local/share/jupyter/nbextensions/code_prettify/README_isort.md\n",
      "\u001b[32m[I 16:16:59 InstallContribNbextensionsApp]\u001b[m Up to date: /home/ubuntu/.local/share/jupyter/nbextensions/code_prettify/autopep8.yaml\n",
      "\u001b[32m[I 16:16:59 InstallContribNbextensionsApp]\u001b[m Up to date: /home/ubuntu/.local/share/jupyter/nbextensions/code_prettify/kernel_exec_on_cell.js\n",
      "\u001b[32m[I 16:16:59 InstallContribNbextensionsApp]\u001b[m Up to date: /home/ubuntu/.local/share/jupyter/nbextensions/code_prettify/demo-jv.gif\n",
      "\u001b[32m[I 16:16:59 InstallContribNbextensionsApp]\u001b[m Up to date: /home/ubuntu/.local/share/jupyter/nbextensions/code_prettify/demo_2to3.gif\n",
      "\u001b[32m[I 16:16:59 InstallContribNbextensionsApp]\u001b[m Up to date: /home/ubuntu/.local/share/jupyter/nbextensions/code_prettify/2to3.js\n",
      "\u001b[32m[I 16:16:59 InstallContribNbextensionsApp]\u001b[m Up to date: /home/ubuntu/.local/share/jupyter/nbextensions/code_prettify/demo-R.gif\n",
      "\u001b[32m[I 16:16:59 InstallContribNbextensionsApp]\u001b[m Up to date: /home/ubuntu/.local/share/jupyter/nbextensions/code_prettify/isort.js\n",
      "\u001b[32m[I 16:16:59 InstallContribNbextensionsApp]\u001b[m Up to date: /home/ubuntu/.local/share/jupyter/nbextensions/code_prettify/isort.yaml\n",
      "\u001b[32m[I 16:16:59 InstallContribNbextensionsApp]\u001b[m Up to date: /home/ubuntu/.local/share/jupyter/nbextensions/code_prettify/README_code_prettify.md\n",
      "\u001b[32m[I 16:16:59 InstallContribNbextensionsApp]\u001b[m Up to date: /home/ubuntu/.local/share/jupyter/nbextensions/code_prettify/autopep8.js\n",
      "\u001b[32m[I 16:16:59 InstallContribNbextensionsApp]\u001b[m Up to date: /home/ubuntu/.local/share/jupyter/nbextensions/code_prettify/README.md\n",
      "\u001b[32m[I 16:16:59 InstallContribNbextensionsApp]\u001b[m Up to date: /home/ubuntu/.local/share/jupyter/nbextensions/code_prettify/2to3.yaml\n",
      "\u001b[32m[I 16:16:59 InstallContribNbextensionsApp]\u001b[m Up to date: /home/ubuntu/.local/share/jupyter/nbextensions/code_prettify/code_prettify.yaml\n",
      "\u001b[32m[I 16:16:59 InstallContribNbextensionsApp]\u001b[m Up to date: /home/ubuntu/.local/share/jupyter/nbextensions/code_prettify/README_autopep8.md\n",
      "\u001b[32m[I 16:16:59 InstallContribNbextensionsApp]\u001b[m Up to date: /home/ubuntu/.local/share/jupyter/nbextensions/code_prettify/demo-py.gif\n",
      "\u001b[32m[I 16:16:59 InstallContribNbextensionsApp]\u001b[m - Validating: \u001b[32mOK\u001b[0m\n",
      "\u001b[32m[I 16:16:59 InstallContribNbextensionsApp]\u001b[m Installing /home/ubuntu/anaconda3/lib/python3.7/site-packages/jupyter_contrib_nbextensions/nbextensions/code_prettify -> code_prettify\n",
      "\u001b[32m[I 16:16:59 InstallContribNbextensionsApp]\u001b[m Up to date: /home/ubuntu/.local/share/jupyter/nbextensions/code_prettify/README_2to3.md\n",
      "\u001b[32m[I 16:16:59 InstallContribNbextensionsApp]\u001b[m Up to date: /home/ubuntu/.local/share/jupyter/nbextensions/code_prettify/code_prettify.js\n",
      "\u001b[32m[I 16:16:59 InstallContribNbextensionsApp]\u001b[m Up to date: /home/ubuntu/.local/share/jupyter/nbextensions/code_prettify/README_isort.md\n",
      "\u001b[32m[I 16:16:59 InstallContribNbextensionsApp]\u001b[m Up to date: /home/ubuntu/.local/share/jupyter/nbextensions/code_prettify/autopep8.yaml\n",
      "\u001b[32m[I 16:16:59 InstallContribNbextensionsApp]\u001b[m Up to date: /home/ubuntu/.local/share/jupyter/nbextensions/code_prettify/kernel_exec_on_cell.js\n",
      "\u001b[32m[I 16:16:59 InstallContribNbextensionsApp]\u001b[m Up to date: /home/ubuntu/.local/share/jupyter/nbextensions/code_prettify/demo-jv.gif\n",
      "\u001b[32m[I 16:16:59 InstallContribNbextensionsApp]\u001b[m Up to date: /home/ubuntu/.local/share/jupyter/nbextensions/code_prettify/demo_2to3.gif\n",
      "\u001b[32m[I 16:16:59 InstallContribNbextensionsApp]\u001b[m Up to date: /home/ubuntu/.local/share/jupyter/nbextensions/code_prettify/2to3.js\n",
      "\u001b[32m[I 16:16:59 InstallContribNbextensionsApp]\u001b[m Up to date: /home/ubuntu/.local/share/jupyter/nbextensions/code_prettify/demo-R.gif\n",
      "\u001b[32m[I 16:16:59 InstallContribNbextensionsApp]\u001b[m Up to date: /home/ubuntu/.local/share/jupyter/nbextensions/code_prettify/isort.js\n",
      "\u001b[32m[I 16:16:59 InstallContribNbextensionsApp]\u001b[m Up to date: /home/ubuntu/.local/share/jupyter/nbextensions/code_prettify/isort.yaml\n",
      "\u001b[32m[I 16:16:59 InstallContribNbextensionsApp]\u001b[m Up to date: /home/ubuntu/.local/share/jupyter/nbextensions/code_prettify/README_code_prettify.md\n",
      "\u001b[32m[I 16:16:59 InstallContribNbextensionsApp]\u001b[m Up to date: /home/ubuntu/.local/share/jupyter/nbextensions/code_prettify/autopep8.js\n",
      "\u001b[32m[I 16:16:59 InstallContribNbextensionsApp]\u001b[m Up to date: /home/ubuntu/.local/share/jupyter/nbextensions/code_prettify/README.md\n",
      "\u001b[32m[I 16:16:59 InstallContribNbextensionsApp]\u001b[m Up to date: /home/ubuntu/.local/share/jupyter/nbextensions/code_prettify/2to3.yaml\n",
      "\u001b[32m[I 16:16:59 InstallContribNbextensionsApp]\u001b[m Up to date: /home/ubuntu/.local/share/jupyter/nbextensions/code_prettify/code_prettify.yaml\n",
      "\u001b[32m[I 16:16:59 InstallContribNbextensionsApp]\u001b[m Up to date: /home/ubuntu/.local/share/jupyter/nbextensions/code_prettify/README_autopep8.md\n",
      "\u001b[32m[I 16:16:59 InstallContribNbextensionsApp]\u001b[m Up to date: /home/ubuntu/.local/share/jupyter/nbextensions/code_prettify/demo-py.gif\n",
      "\u001b[32m[I 16:16:59 InstallContribNbextensionsApp]\u001b[m - Validating: \u001b[32mOK\u001b[0m\n",
      "\u001b[32m[I 16:16:59 InstallContribNbextensionsApp]\u001b[m Installing /home/ubuntu/anaconda3/lib/python3.7/site-packages/jupyter_contrib_nbextensions/nbextensions/code_prettify -> code_prettify\n",
      "\u001b[32m[I 16:16:59 InstallContribNbextensionsApp]\u001b[m Up to date: /home/ubuntu/.local/share/jupyter/nbextensions/code_prettify/README_2to3.md\n",
      "\u001b[32m[I 16:16:59 InstallContribNbextensionsApp]\u001b[m Up to date: /home/ubuntu/.local/share/jupyter/nbextensions/code_prettify/code_prettify.js\n",
      "\u001b[32m[I 16:16:59 InstallContribNbextensionsApp]\u001b[m Up to date: /home/ubuntu/.local/share/jupyter/nbextensions/code_prettify/README_isort.md\n",
      "\u001b[32m[I 16:16:59 InstallContribNbextensionsApp]\u001b[m Up to date: /home/ubuntu/.local/share/jupyter/nbextensions/code_prettify/autopep8.yaml\n",
      "\u001b[32m[I 16:16:59 InstallContribNbextensionsApp]\u001b[m Up to date: /home/ubuntu/.local/share/jupyter/nbextensions/code_prettify/kernel_exec_on_cell.js\n",
      "\u001b[32m[I 16:16:59 InstallContribNbextensionsApp]\u001b[m Up to date: /home/ubuntu/.local/share/jupyter/nbextensions/code_prettify/demo-jv.gif\n",
      "\u001b[32m[I 16:16:59 InstallContribNbextensionsApp]\u001b[m Up to date: /home/ubuntu/.local/share/jupyter/nbextensions/code_prettify/demo_2to3.gif\n",
      "\u001b[32m[I 16:16:59 InstallContribNbextensionsApp]\u001b[m Up to date: /home/ubuntu/.local/share/jupyter/nbextensions/code_prettify/2to3.js\n",
      "\u001b[32m[I 16:16:59 InstallContribNbextensionsApp]\u001b[m Up to date: /home/ubuntu/.local/share/jupyter/nbextensions/code_prettify/demo-R.gif\n",
      "\u001b[32m[I 16:16:59 InstallContribNbextensionsApp]\u001b[m Up to date: /home/ubuntu/.local/share/jupyter/nbextensions/code_prettify/isort.js\n",
      "\u001b[32m[I 16:16:59 InstallContribNbextensionsApp]\u001b[m Up to date: /home/ubuntu/.local/share/jupyter/nbextensions/code_prettify/isort.yaml\n",
      "\u001b[32m[I 16:16:59 InstallContribNbextensionsApp]\u001b[m Up to date: /home/ubuntu/.local/share/jupyter/nbextensions/code_prettify/README_code_prettify.md\n",
      "\u001b[32m[I 16:16:59 InstallContribNbextensionsApp]\u001b[m Up to date: /home/ubuntu/.local/share/jupyter/nbextensions/code_prettify/autopep8.js\n",
      "\u001b[32m[I 16:16:59 InstallContribNbextensionsApp]\u001b[m Up to date: /home/ubuntu/.local/share/jupyter/nbextensions/code_prettify/README.md\n",
      "\u001b[32m[I 16:16:59 InstallContribNbextensionsApp]\u001b[m Up to date: /home/ubuntu/.local/share/jupyter/nbextensions/code_prettify/2to3.yaml\n",
      "\u001b[32m[I 16:16:59 InstallContribNbextensionsApp]\u001b[m Up to date: /home/ubuntu/.local/share/jupyter/nbextensions/code_prettify/code_prettify.yaml\n",
      "\u001b[32m[I 16:16:59 InstallContribNbextensionsApp]\u001b[m Up to date: /home/ubuntu/.local/share/jupyter/nbextensions/code_prettify/README_autopep8.md\n",
      "\u001b[32m[I 16:16:59 InstallContribNbextensionsApp]\u001b[m Up to date: /home/ubuntu/.local/share/jupyter/nbextensions/code_prettify/demo-py.gif\n",
      "\u001b[32m[I 16:16:59 InstallContribNbextensionsApp]\u001b[m - Validating: \u001b[32mOK\u001b[0m\n",
      "\u001b[32m[I 16:16:59 InstallContribNbextensionsApp]\u001b[m Installing /home/ubuntu/anaconda3/lib/python3.7/site-packages/jupyter_contrib_nbextensions/nbextensions/hide_input_all -> hide_input_all\n",
      "\u001b[32m[I 16:16:59 InstallContribNbextensionsApp]\u001b[m Up to date: /home/ubuntu/.local/share/jupyter/nbextensions/hide_input_all/hide_input_all_show.png\n",
      "\u001b[32m[I 16:16:59 InstallContribNbextensionsApp]\u001b[m Up to date: /home/ubuntu/.local/share/jupyter/nbextensions/hide_input_all/hide_input_all_hide.png\n",
      "\u001b[32m[I 16:16:59 InstallContribNbextensionsApp]\u001b[m Up to date: /home/ubuntu/.local/share/jupyter/nbextensions/hide_input_all/hide_input_all.yaml\n",
      "\u001b[32m[I 16:16:59 InstallContribNbextensionsApp]\u001b[m Up to date: /home/ubuntu/.local/share/jupyter/nbextensions/hide_input_all/main.js\n",
      "\u001b[32m[I 16:16:59 InstallContribNbextensionsApp]\u001b[m Up to date: /home/ubuntu/.local/share/jupyter/nbextensions/hide_input_all/readme.md\n",
      "\u001b[32m[I 16:16:59 InstallContribNbextensionsApp]\u001b[m Up to date: /home/ubuntu/.local/share/jupyter/nbextensions/hide_input_all/icon.png\n",
      "\u001b[32m[I 16:16:59 InstallContribNbextensionsApp]\u001b[m - Validating: \u001b[32mOK\u001b[0m\n",
      "\u001b[32m[I 16:16:59 InstallContribNbextensionsApp]\u001b[m Installing /home/ubuntu/anaconda3/lib/python3.7/site-packages/jupyter_contrib_nbextensions/nbextensions/code_font_size -> code_font_size\n",
      "\u001b[32m[I 16:16:59 InstallContribNbextensionsApp]\u001b[m Up to date: /home/ubuntu/.local/share/jupyter/nbextensions/code_font_size/code_font_size.yaml\n",
      "\u001b[32m[I 16:16:59 InstallContribNbextensionsApp]\u001b[m Up to date: /home/ubuntu/.local/share/jupyter/nbextensions/code_font_size/README.md\n",
      "\u001b[32m[I 16:16:59 InstallContribNbextensionsApp]\u001b[m Up to date: /home/ubuntu/.local/share/jupyter/nbextensions/code_font_size/code_font_size.js\n",
      "\u001b[32m[I 16:16:59 InstallContribNbextensionsApp]\u001b[m - Validating: \u001b[32mOK\u001b[0m\n",
      "\u001b[32m[I 16:16:59 InstallContribNbextensionsApp]\u001b[m Installing /home/ubuntu/anaconda3/lib/python3.7/site-packages/jupyter_contrib_nbextensions/nbextensions/gist_it -> gist_it\n",
      "\u001b[32m[I 16:16:59 InstallContribNbextensionsApp]\u001b[m Up to date: /home/ubuntu/.local/share/jupyter/nbextensions/gist_it/gist_it.yaml\n",
      "\u001b[32m[I 16:16:59 InstallContribNbextensionsApp]\u001b[m Up to date: /home/ubuntu/.local/share/jupyter/nbextensions/gist_it/main.js\n",
      "\u001b[32m[I 16:16:59 InstallContribNbextensionsApp]\u001b[m Up to date: /home/ubuntu/.local/share/jupyter/nbextensions/gist_it/readme.md\n",
      "\u001b[32m[I 16:16:59 InstallContribNbextensionsApp]\u001b[m Up to date: /home/ubuntu/.local/share/jupyter/nbextensions/gist_it/icon.png\n",
      "\u001b[32m[I 16:16:59 InstallContribNbextensionsApp]\u001b[m - Validating: \u001b[32mOK\u001b[0m\n",
      "\u001b[32m[I 16:16:59 InstallContribNbextensionsApp]\u001b[m Installing /home/ubuntu/anaconda3/lib/python3.7/site-packages/jupyter_contrib_nbextensions/nbextensions/scroll_down -> scroll_down\n",
      "\u001b[32m[I 16:16:59 InstallContribNbextensionsApp]\u001b[m Up to date: /home/ubuntu/.local/share/jupyter/nbextensions/scroll_down/config.yaml\n",
      "\u001b[32m[I 16:16:59 InstallContribNbextensionsApp]\u001b[m Up to date: /home/ubuntu/.local/share/jupyter/nbextensions/scroll_down/main.js\n",
      "\u001b[32m[I 16:16:59 InstallContribNbextensionsApp]\u001b[m Up to date: /home/ubuntu/.local/share/jupyter/nbextensions/scroll_down/readme.md\n",
      "\u001b[32m[I 16:16:59 InstallContribNbextensionsApp]\u001b[m Up to date: /home/ubuntu/.local/share/jupyter/nbextensions/scroll_down/icon.png\n",
      "\u001b[32m[I 16:16:59 InstallContribNbextensionsApp]\u001b[m - Validating: \u001b[32mOK\u001b[0m\n",
      "\u001b[32m[I 16:16:59 InstallContribNbextensionsApp]\u001b[m Installing /home/ubuntu/anaconda3/lib/python3.7/site-packages/jupyter_contrib_nbextensions/nbextensions/livemdpreview -> livemdpreview\n",
      "\u001b[32m[I 16:16:59 InstallContribNbextensionsApp]\u001b[m Up to date: /home/ubuntu/.local/share/jupyter/nbextensions/livemdpreview/livemdpreview.yml\n",
      "\u001b[32m[I 16:16:59 InstallContribNbextensionsApp]\u001b[m Up to date: /home/ubuntu/.local/share/jupyter/nbextensions/livemdpreview/livemdpreview.js\n",
      "\u001b[32m[I 16:16:59 InstallContribNbextensionsApp]\u001b[m - Validating: \u001b[32mOK\u001b[0m\n",
      "\u001b[32m[I 16:16:59 InstallContribNbextensionsApp]\u001b[m Installing /home/ubuntu/anaconda3/lib/python3.7/site-packages/jupyter_contrib_nbextensions/nbextensions/equation-numbering -> equation-numbering\n",
      "\u001b[32m[I 16:16:59 InstallContribNbextensionsApp]\u001b[m Up to date: /home/ubuntu/.local/share/jupyter/nbextensions/equation-numbering/button.png\n",
      "\u001b[32m[I 16:16:59 InstallContribNbextensionsApp]\u001b[m Up to date: /home/ubuntu/.local/share/jupyter/nbextensions/equation-numbering/main.js\n",
      "\u001b[32m[I 16:16:59 InstallContribNbextensionsApp]\u001b[m Up to date: /home/ubuntu/.local/share/jupyter/nbextensions/equation-numbering/info.yaml\n",
      "\u001b[32m[I 16:16:59 InstallContribNbextensionsApp]\u001b[m Up to date: /home/ubuntu/.local/share/jupyter/nbextensions/equation-numbering/readme.md\n",
      "\u001b[32m[I 16:16:59 InstallContribNbextensionsApp]\u001b[m Up to date: /home/ubuntu/.local/share/jupyter/nbextensions/equation-numbering/icon.png\n",
      "\u001b[32m[I 16:16:59 InstallContribNbextensionsApp]\u001b[m - Validating: \u001b[32mOK\u001b[0m\n",
      "\u001b[32m[I 16:16:59 InstallContribNbextensionsApp]\u001b[m Installing /home/ubuntu/anaconda3/lib/python3.7/site-packages/jupyter_contrib_nbextensions/nbextensions/limit_output -> limit_output\n",
      "\u001b[32m[I 16:16:59 InstallContribNbextensionsApp]\u001b[m Up to date: /home/ubuntu/.local/share/jupyter/nbextensions/limit_output/limit-output.yaml\n",
      "\u001b[32m[I 16:16:59 InstallContribNbextensionsApp]\u001b[m Up to date: /home/ubuntu/.local/share/jupyter/nbextensions/limit_output/main.js\n",
      "\u001b[32m[I 16:16:59 InstallContribNbextensionsApp]\u001b[m Up to date: /home/ubuntu/.local/share/jupyter/nbextensions/limit_output/readme.md\n",
      "\u001b[32m[I 16:16:59 InstallContribNbextensionsApp]\u001b[m Up to date: /home/ubuntu/.local/share/jupyter/nbextensions/limit_output/icon.png\n",
      "\u001b[32m[I 16:16:59 InstallContribNbextensionsApp]\u001b[m - Validating: \u001b[32mOK\u001b[0m\n",
      "\u001b[32m[I 16:16:59 InstallContribNbextensionsApp]\u001b[m Installing /home/ubuntu/anaconda3/lib/python3.7/site-packages/jupyter_contrib_nbextensions/nbextensions/toggle_all_line_numbers -> toggle_all_line_numbers\n",
      "\u001b[32m[I 16:16:59 InstallContribNbextensionsApp]\u001b[m Up to date: /home/ubuntu/.local/share/jupyter/nbextensions/toggle_all_line_numbers/main.js\n",
      "\u001b[32m[I 16:16:59 InstallContribNbextensionsApp]\u001b[m Up to date: /home/ubuntu/.local/share/jupyter/nbextensions/toggle_all_line_numbers/readme.md\n",
      "\u001b[32m[I 16:16:59 InstallContribNbextensionsApp]\u001b[m Up to date: /home/ubuntu/.local/share/jupyter/nbextensions/toggle_all_line_numbers/icon.png\n",
      "\u001b[32m[I 16:16:59 InstallContribNbextensionsApp]\u001b[m Up to date: /home/ubuntu/.local/share/jupyter/nbextensions/toggle_all_line_numbers/main.yaml\n",
      "\u001b[32m[I 16:16:59 InstallContribNbextensionsApp]\u001b[m - Validating: \u001b[32mOK\u001b[0m\n",
      "\u001b[32m[I 16:16:59 InstallContribNbextensionsApp]\u001b[m Installing /home/ubuntu/anaconda3/lib/python3.7/site-packages/jupyter_contrib_nbextensions/nbextensions/skip-traceback -> skip-traceback\n",
      "\u001b[32m[I 16:16:59 InstallContribNbextensionsApp]\u001b[m Up to date: /home/ubuntu/.local/share/jupyter/nbextensions/skip-traceback/traceback.png\n",
      "\u001b[32m[I 16:16:59 InstallContribNbextensionsApp]\u001b[m Up to date: /home/ubuntu/.local/share/jupyter/nbextensions/skip-traceback/skip-traceback.yaml\n",
      "\u001b[32m[I 16:16:59 InstallContribNbextensionsApp]\u001b[m Up to date: /home/ubuntu/.local/share/jupyter/nbextensions/skip-traceback/skip-traceback.png\n",
      "\u001b[32m[I 16:16:59 InstallContribNbextensionsApp]\u001b[m Up to date: /home/ubuntu/.local/share/jupyter/nbextensions/skip-traceback/main.js\n",
      "\u001b[32m[I 16:16:59 InstallContribNbextensionsApp]\u001b[m Up to date: /home/ubuntu/.local/share/jupyter/nbextensions/skip-traceback/readme.md\n",
      "\u001b[32m[I 16:16:59 InstallContribNbextensionsApp]\u001b[m Up to date: /home/ubuntu/.local/share/jupyter/nbextensions/skip-traceback/icon.png\n",
      "\u001b[32m[I 16:16:59 InstallContribNbextensionsApp]\u001b[m - Validating: \u001b[32mOK\u001b[0m\n",
      "\u001b[32m[I 16:16:59 InstallContribNbextensionsApp]\u001b[m Installing /home/ubuntu/anaconda3/lib/python3.7/site-packages/jupyter_contrib_nbextensions/nbextensions/execution_dependencies -> execution_dependencies\n",
      "\u001b[32m[I 16:16:59 InstallContribNbextensionsApp]\u001b[m Up to date: /home/ubuntu/.local/share/jupyter/nbextensions/execution_dependencies/execution_dependencies.js\n",
      "\u001b[32m[I 16:16:59 InstallContribNbextensionsApp]\u001b[m Up to date: /home/ubuntu/.local/share/jupyter/nbextensions/execution_dependencies/execution_dependencies.yml\n",
      "\u001b[32m[I 16:16:59 InstallContribNbextensionsApp]\u001b[m Up to date: /home/ubuntu/.local/share/jupyter/nbextensions/execution_dependencies/README.md\n",
      "\u001b[32m[I 16:16:59 InstallContribNbextensionsApp]\u001b[m - Validating: \u001b[32mOK\u001b[0m\n",
      "\u001b[32m[I 16:16:59 InstallContribNbextensionsApp]\u001b[m Installing /home/ubuntu/anaconda3/lib/python3.7/site-packages/jupyter_contrib_nbextensions/nbextensions/autoscroll -> autoscroll\n",
      "\u001b[32m[I 16:16:59 InstallContribNbextensionsApp]\u001b[m Up to date: /home/ubuntu/.local/share/jupyter/nbextensions/autoscroll/autoscroll.yaml\n",
      "\u001b[32m[I 16:16:59 InstallContribNbextensionsApp]\u001b[m Up to date: /home/ubuntu/.local/share/jupyter/nbextensions/autoscroll/README.md\n",
      "\u001b[32m[I 16:16:59 InstallContribNbextensionsApp]\u001b[m Up to date: /home/ubuntu/.local/share/jupyter/nbextensions/autoscroll/main.js\n",
      "\u001b[32m[I 16:16:59 InstallContribNbextensionsApp]\u001b[m Up to date: /home/ubuntu/.local/share/jupyter/nbextensions/autoscroll/icon.png\n",
      "\u001b[32m[I 16:16:59 InstallContribNbextensionsApp]\u001b[m - Validating: \u001b[32mOK\u001b[0m\n",
      "\u001b[32m[I 16:16:59 InstallContribNbextensionsApp]\u001b[m Installing /home/ubuntu/anaconda3/lib/python3.7/site-packages/jupyter_contrib_nbextensions/nbextensions/execute_time -> execute_time\n",
      "\u001b[32m[I 16:16:59 InstallContribNbextensionsApp]\u001b[m Up to date: /home/ubuntu/.local/share/jupyter/nbextensions/execute_time/ExecuteTime.js\n",
      "\u001b[32m[I 16:16:59 InstallContribNbextensionsApp]\u001b[m Up to date: /home/ubuntu/.local/share/jupyter/nbextensions/execute_time/execution-timings-menu.png\n",
      "\u001b[32m[I 16:16:59 InstallContribNbextensionsApp]\u001b[m Up to date: /home/ubuntu/.local/share/jupyter/nbextensions/execute_time/ExecuteTime.css\n",
      "\u001b[32m[I 16:16:59 InstallContribNbextensionsApp]\u001b[m Up to date: /home/ubuntu/.local/share/jupyter/nbextensions/execute_time/execution-timings-box.png\n",
      "\u001b[32m[I 16:16:59 InstallContribNbextensionsApp]\u001b[m Up to date: /home/ubuntu/.local/share/jupyter/nbextensions/execute_time/readme.md\n",
      "\u001b[32m[I 16:16:59 InstallContribNbextensionsApp]\u001b[m Up to date: /home/ubuntu/.local/share/jupyter/nbextensions/execute_time/icon.png\n",
      "\u001b[32m[I 16:16:59 InstallContribNbextensionsApp]\u001b[m Up to date: /home/ubuntu/.local/share/jupyter/nbextensions/execute_time/ExecuteTime.yaml\n",
      "\u001b[32m[I 16:16:59 InstallContribNbextensionsApp]\u001b[m - Validating: \u001b[32mOK\u001b[0m\n",
      "\u001b[32m[I 16:16:59 InstallContribNbextensionsApp]\u001b[m Installing /home/ubuntu/anaconda3/lib/python3.7/site-packages/jupyter_contrib_nbextensions/nbextensions/varInspector -> varInspector\n",
      "\u001b[32m[I 16:16:59 InstallContribNbextensionsApp]\u001b[m Up to date: /home/ubuntu/.local/share/jupyter/nbextensions/varInspector/main.css\n",
      "\u001b[32m[I 16:16:59 InstallContribNbextensionsApp]\u001b[m Up to date: /home/ubuntu/.local/share/jupyter/nbextensions/varInspector/var_list.r\n",
      "\u001b[32m[I 16:16:59 InstallContribNbextensionsApp]\u001b[m Up to date: /home/ubuntu/.local/share/jupyter/nbextensions/varInspector/varInspector.yaml\n",
      "\u001b[32m[I 16:16:59 InstallContribNbextensionsApp]\u001b[m Up to date: /home/ubuntu/.local/share/jupyter/nbextensions/varInspector/var_list.py\n",
      "\u001b[32m[I 16:16:59 InstallContribNbextensionsApp]\u001b[m Up to date: /home/ubuntu/.local/share/jupyter/nbextensions/varInspector/tablesorter_LICENSE.txt\n",
      "\u001b[32m[I 16:16:59 InstallContribNbextensionsApp]\u001b[m Up to date: /home/ubuntu/.local/share/jupyter/nbextensions/varInspector/README.md\n",
      "\u001b[32m[I 16:16:59 InstallContribNbextensionsApp]\u001b[m Up to date: /home/ubuntu/.local/share/jupyter/nbextensions/varInspector/demo.gif\n",
      "\u001b[32m[I 16:16:59 InstallContribNbextensionsApp]\u001b[m Up to date: /home/ubuntu/.local/share/jupyter/nbextensions/varInspector/main.js\n",
      "\u001b[32m[I 16:16:59 InstallContribNbextensionsApp]\u001b[m Up to date: /home/ubuntu/.local/share/jupyter/nbextensions/varInspector/jquery.tablesorter.min.js\n",
      "\u001b[32m[I 16:16:59 InstallContribNbextensionsApp]\u001b[m Up to date: /home/ubuntu/.local/share/jupyter/nbextensions/varInspector/icon.png\n",
      "\u001b[32m[I 16:16:59 InstallContribNbextensionsApp]\u001b[m Up to date: /home/ubuntu/.local/share/jupyter/nbextensions/varInspector/__pycache__/var_list.cpython-37.pyc\n",
      "\u001b[32m[I 16:16:59 InstallContribNbextensionsApp]\u001b[m - Validating: \u001b[32mOK\u001b[0m\n",
      "\u001b[32m[I 16:16:59 InstallContribNbextensionsApp]\u001b[m Installing /home/ubuntu/anaconda3/lib/python3.7/site-packages/jupyter_contrib_nbextensions/nbextensions/export_embedded -> export_embedded\n",
      "\u001b[32m[I 16:16:59 InstallContribNbextensionsApp]\u001b[m Up to date: /home/ubuntu/.local/share/jupyter/nbextensions/export_embedded/export_embedded.yaml\n",
      "\u001b[32m[I 16:16:59 InstallContribNbextensionsApp]\u001b[m Up to date: /home/ubuntu/.local/share/jupyter/nbextensions/export_embedded/main.js\n",
      "\u001b[32m[I 16:16:59 InstallContribNbextensionsApp]\u001b[m Up to date: /home/ubuntu/.local/share/jupyter/nbextensions/export_embedded/readme.md\n",
      "\u001b[32m[I 16:16:59 InstallContribNbextensionsApp]\u001b[m Up to date: /home/ubuntu/.local/share/jupyter/nbextensions/export_embedded/icon.png\n",
      "\u001b[32m[I 16:16:59 InstallContribNbextensionsApp]\u001b[m - Validating: \u001b[32mOK\u001b[0m\n",
      "\u001b[32m[I 16:16:59 InstallContribNbextensionsApp]\u001b[m Installing /home/ubuntu/anaconda3/lib/python3.7/site-packages/jupyter_contrib_nbextensions/nbextensions/autosavetime -> autosavetime\n",
      "\u001b[32m[I 16:16:59 InstallContribNbextensionsApp]\u001b[m Up to date: /home/ubuntu/.local/share/jupyter/nbextensions/autosavetime/autosavetime.yaml\n",
      "\u001b[32m[I 16:16:59 InstallContribNbextensionsApp]\u001b[m Up to date: /home/ubuntu/.local/share/jupyter/nbextensions/autosavetime/README.md\n",
      "\u001b[32m[I 16:16:59 InstallContribNbextensionsApp]\u001b[m Up to date: /home/ubuntu/.local/share/jupyter/nbextensions/autosavetime/main.js\n",
      "\u001b[32m[I 16:16:59 InstallContribNbextensionsApp]\u001b[m Up to date: /home/ubuntu/.local/share/jupyter/nbextensions/autosavetime/icon.png\n",
      "\u001b[32m[I 16:16:59 InstallContribNbextensionsApp]\u001b[m - Validating: \u001b[32mOK\u001b[0m\n",
      "\u001b[32m[I 16:16:59 InstallContribNbextensionsApp]\u001b[m Installing /home/ubuntu/anaconda3/lib/python3.7/site-packages/jupyter_contrib_nbextensions/nbextensions/rubberband -> rubberband\n",
      "\u001b[32m[I 16:16:59 InstallContribNbextensionsApp]\u001b[m Up to date: /home/ubuntu/.local/share/jupyter/nbextensions/rubberband/main.css\n",
      "\u001b[32m[I 16:16:59 InstallContribNbextensionsApp]\u001b[m Up to date: /home/ubuntu/.local/share/jupyter/nbextensions/rubberband/main.js\n",
      "\u001b[32m[I 16:16:59 InstallContribNbextensionsApp]\u001b[m Up to date: /home/ubuntu/.local/share/jupyter/nbextensions/rubberband/rubberband.yaml\n",
      "\u001b[32m[I 16:16:59 InstallContribNbextensionsApp]\u001b[m Up to date: /home/ubuntu/.local/share/jupyter/nbextensions/rubberband/readme.md\n",
      "\u001b[32m[I 16:16:59 InstallContribNbextensionsApp]\u001b[m Up to date: /home/ubuntu/.local/share/jupyter/nbextensions/rubberband/icon.png\n",
      "\u001b[32m[I 16:16:59 InstallContribNbextensionsApp]\u001b[m - Validating: \u001b[32mOK\u001b[0m\n",
      "\u001b[32m[I 16:16:59 InstallContribNbextensionsApp]\u001b[m Installing /home/ubuntu/anaconda3/lib/python3.7/site-packages/jupyter_contrib_nbextensions/nbextensions/navigation-hotkeys -> navigation-hotkeys\n",
      "\u001b[32m[I 16:16:59 InstallContribNbextensionsApp]\u001b[m Up to date: /home/ubuntu/.local/share/jupyter/nbextensions/navigation-hotkeys/hotkeys.yaml\n",
      "\u001b[32m[I 16:16:59 InstallContribNbextensionsApp]\u001b[m Up to date: /home/ubuntu/.local/share/jupyter/nbextensions/navigation-hotkeys/main.js\n",
      "\u001b[32m[I 16:16:59 InstallContribNbextensionsApp]\u001b[m Up to date: /home/ubuntu/.local/share/jupyter/nbextensions/navigation-hotkeys/readme.md\n",
      "\u001b[32m[I 16:16:59 InstallContribNbextensionsApp]\u001b[m Up to date: /home/ubuntu/.local/share/jupyter/nbextensions/navigation-hotkeys/icon.png\n",
      "\u001b[32m[I 16:16:59 InstallContribNbextensionsApp]\u001b[m - Validating: \u001b[32mOK\u001b[0m\n",
      "\u001b[32m[I 16:16:59 InstallContribNbextensionsApp]\u001b[m Installing /home/ubuntu/anaconda3/lib/python3.7/site-packages/jupyter_contrib_nbextensions/nbextensions/hide_input -> hide_input\n",
      "\u001b[32m[I 16:16:59 InstallContribNbextensionsApp]\u001b[m Up to date: /home/ubuntu/.local/share/jupyter/nbextensions/hide_input/main.js\n",
      "\u001b[32m[I 16:16:59 InstallContribNbextensionsApp]\u001b[m Up to date: /home/ubuntu/.local/share/jupyter/nbextensions/hide_input/hide-input.yaml\n",
      "\u001b[32m[I 16:16:59 InstallContribNbextensionsApp]\u001b[m Up to date: /home/ubuntu/.local/share/jupyter/nbextensions/hide_input/readme.md\n",
      "\u001b[32m[I 16:16:59 InstallContribNbextensionsApp]\u001b[m Up to date: /home/ubuntu/.local/share/jupyter/nbextensions/hide_input/icon.png\n",
      "\u001b[32m[I 16:16:59 InstallContribNbextensionsApp]\u001b[m - Validating: \u001b[32mOK\u001b[0m\n",
      "\u001b[32m[I 16:16:59 InstallContribNbextensionsApp]\u001b[m Installing /home/ubuntu/anaconda3/lib/python3.7/site-packages/jupyter_contrib_nbextensions/nbextensions/datestamper -> datestamper\n",
      "\u001b[32m[I 16:16:59 InstallContribNbextensionsApp]\u001b[m Up to date: /home/ubuntu/.local/share/jupyter/nbextensions/datestamper/main.js\n",
      "\u001b[32m[I 16:16:59 InstallContribNbextensionsApp]\u001b[m Up to date: /home/ubuntu/.local/share/jupyter/nbextensions/datestamper/readme.md\n",
      "\u001b[32m[I 16:16:59 InstallContribNbextensionsApp]\u001b[m Up to date: /home/ubuntu/.local/share/jupyter/nbextensions/datestamper/icon.png\n",
      "\u001b[32m[I 16:16:59 InstallContribNbextensionsApp]\u001b[m Up to date: /home/ubuntu/.local/share/jupyter/nbextensions/datestamper/main.yaml\n",
      "\u001b[32m[I 16:16:59 InstallContribNbextensionsApp]\u001b[m - Validating: \u001b[32mOK\u001b[0m\n",
      "\u001b[32m[I 16:16:59 InstallContribNbextensionsApp]\u001b[m Installing /home/ubuntu/anaconda3/lib/python3.7/site-packages/jupyter_contrib_nbextensions/nbextensions/snippets_menu -> snippets_menu\n",
      "\u001b[32m[I 16:16:59 InstallContribNbextensionsApp]\u001b[m Up to date: /home/ubuntu/.local/share/jupyter/nbextensions/snippets_menu/examples_for_custom.js\n",
      "\u001b[32m[I 16:16:59 InstallContribNbextensionsApp]\u001b[m Up to date: /home/ubuntu/.local/share/jupyter/nbextensions/snippets_menu/screenshot2.png\n",
      "\u001b[32m[I 16:16:59 InstallContribNbextensionsApp]\u001b[m Up to date: /home/ubuntu/.local/share/jupyter/nbextensions/snippets_menu/thumbnail.png\n",
      "\u001b[32m[I 16:16:59 InstallContribNbextensionsApp]\u001b[m Up to date: /home/ubuntu/.local/share/jupyter/nbextensions/snippets_menu/snippets_submenu_python.js\n",
      "\u001b[32m[I 16:16:59 InstallContribNbextensionsApp]\u001b[m Up to date: /home/ubuntu/.local/share/jupyter/nbextensions/snippets_menu/config.yaml\n",
      "\u001b[32m[I 16:16:59 InstallContribNbextensionsApp]\u001b[m Up to date: /home/ubuntu/.local/share/jupyter/nbextensions/snippets_menu/screenshot1.png\n",
      "\u001b[32m[I 16:16:59 InstallContribNbextensionsApp]\u001b[m Up to date: /home/ubuntu/.local/share/jupyter/nbextensions/snippets_menu/main.js\n",
      "\u001b[32m[I 16:16:59 InstallContribNbextensionsApp]\u001b[m Up to date: /home/ubuntu/.local/share/jupyter/nbextensions/snippets_menu/snippets_submenu_markdown.js\n",
      "\u001b[32m[I 16:16:59 InstallContribNbextensionsApp]\u001b[m Up to date: /home/ubuntu/.local/share/jupyter/nbextensions/snippets_menu/screenshot3.png\n",
      "\u001b[32m[I 16:16:59 InstallContribNbextensionsApp]\u001b[m Up to date: /home/ubuntu/.local/share/jupyter/nbextensions/snippets_menu/readme.md\n",
      "\u001b[32m[I 16:16:59 InstallContribNbextensionsApp]\u001b[m Up to date: /home/ubuntu/.local/share/jupyter/nbextensions/snippets_menu/snippets_menu.css\n",
      "\u001b[32m[I 16:16:59 InstallContribNbextensionsApp]\u001b[m Up to date: /home/ubuntu/.local/share/jupyter/nbextensions/snippets_menu/snippets_submenus_python/matplotlib.js\n",
      "\u001b[32m[I 16:16:59 InstallContribNbextensionsApp]\u001b[m Up to date: /home/ubuntu/.local/share/jupyter/nbextensions/snippets_menu/snippets_submenus_python/sympy_assumptions.js\n",
      "\u001b[32m[I 16:16:59 InstallContribNbextensionsApp]\u001b[m Up to date: /home/ubuntu/.local/share/jupyter/nbextensions/snippets_menu/snippets_submenus_python/numpy_ufuncs.js\n",
      "\u001b[32m[I 16:16:59 InstallContribNbextensionsApp]\u001b[m Up to date: /home/ubuntu/.local/share/jupyter/nbextensions/snippets_menu/snippets_submenus_python/scipy.js\n",
      "\u001b[32m[I 16:16:59 InstallContribNbextensionsApp]\u001b[m Up to date: /home/ubuntu/.local/share/jupyter/nbextensions/snippets_menu/snippets_submenus_python/python_regex.js\n",
      "\u001b[32m[I 16:16:59 InstallContribNbextensionsApp]\u001b[m Up to date: /home/ubuntu/.local/share/jupyter/nbextensions/snippets_menu/snippets_submenus_python/numpy.js\n",
      "\u001b[32m[I 16:16:59 InstallContribNbextensionsApp]\u001b[m Up to date: /home/ubuntu/.local/share/jupyter/nbextensions/snippets_menu/snippets_submenus_python/pandas.js\n",
      "\u001b[32m[I 16:16:59 InstallContribNbextensionsApp]\u001b[m Up to date: /home/ubuntu/.local/share/jupyter/nbextensions/snippets_menu/snippets_submenus_python/numba.js\n",
      "\u001b[32m[I 16:16:59 InstallContribNbextensionsApp]\u001b[m Up to date: /home/ubuntu/.local/share/jupyter/nbextensions/snippets_menu/snippets_submenus_python/numpy_polynomial.js\n",
      "\u001b[32m[I 16:16:59 InstallContribNbextensionsApp]\u001b[m Up to date: /home/ubuntu/.local/share/jupyter/nbextensions/snippets_menu/snippets_submenus_python/python.js\n",
      "\u001b[32m[I 16:16:59 InstallContribNbextensionsApp]\u001b[m Up to date: /home/ubuntu/.local/share/jupyter/nbextensions/snippets_menu/snippets_submenus_python/scipy_special.js\n",
      "\u001b[32m[I 16:16:59 InstallContribNbextensionsApp]\u001b[m Up to date: /home/ubuntu/.local/share/jupyter/nbextensions/snippets_menu/snippets_submenus_python/sympy_functions.js\n",
      "\u001b[32m[I 16:16:59 InstallContribNbextensionsApp]\u001b[m Up to date: /home/ubuntu/.local/share/jupyter/nbextensions/snippets_menu/snippets_submenus_python/h5py.js\n",
      "\u001b[32m[I 16:16:59 InstallContribNbextensionsApp]\u001b[m Up to date: /home/ubuntu/.local/share/jupyter/nbextensions/snippets_menu/snippets_submenus_python/astropy.js\n",
      "\u001b[32m[I 16:16:59 InstallContribNbextensionsApp]\u001b[m Up to date: /home/ubuntu/.local/share/jupyter/nbextensions/snippets_menu/snippets_submenus_python/sympy.js\n",
      "\u001b[32m[I 16:16:59 InstallContribNbextensionsApp]\u001b[m Up to date: /home/ubuntu/.local/share/jupyter/nbextensions/snippets_menu/snippets_submenus_python/scipy_constants.js\n",
      "\u001b[32m[I 16:16:59 InstallContribNbextensionsApp]\u001b[m - Validating: \u001b[32mOK\u001b[0m\n",
      "\u001b[32m[I 16:16:59 InstallContribNbextensionsApp]\u001b[m Installing /home/ubuntu/anaconda3/lib/python3.7/site-packages/jupyter_contrib_nbextensions/nbextensions/runtools -> runtools\n",
      "\u001b[32m[I 16:16:59 InstallContribNbextensionsApp]\u001b[m Up to date: /home/ubuntu/.local/share/jupyter/nbextensions/runtools/main.css\n",
      "\u001b[32m[I 16:16:59 InstallContribNbextensionsApp]\u001b[m Up to date: /home/ubuntu/.local/share/jupyter/nbextensions/runtools/runtools_show_hide.png\n",
      "\u001b[32m[I 16:16:59 InstallContribNbextensionsApp]\u001b[m Up to date: /home/ubuntu/.local/share/jupyter/nbextensions/runtools/demo.gif\n",
      "\u001b[32m[I 16:16:59 InstallContribNbextensionsApp]\u001b[m Up to date: /home/ubuntu/.local/share/jupyter/nbextensions/runtools/runtools_execute.png\n",
      "\u001b[32m[I 16:16:59 InstallContribNbextensionsApp]\u001b[m Up to date: /home/ubuntu/.local/share/jupyter/nbextensions/runtools/main.js\n",
      "\u001b[32m[I 16:16:59 InstallContribNbextensionsApp]\u001b[m Up to date: /home/ubuntu/.local/share/jupyter/nbextensions/runtools/runtools_lock.png\n",
      "\u001b[32m[I 16:16:59 InstallContribNbextensionsApp]\u001b[m Up to date: /home/ubuntu/.local/share/jupyter/nbextensions/runtools/runtools.yaml\n",
      "\u001b[32m[I 16:16:59 InstallContribNbextensionsApp]\u001b[m Up to date: /home/ubuntu/.local/share/jupyter/nbextensions/runtools/annotations.odg\n",
      "\u001b[32m[I 16:16:59 InstallContribNbextensionsApp]\u001b[m Up to date: /home/ubuntu/.local/share/jupyter/nbextensions/runtools/readme.md\n",
      "\u001b[32m[I 16:16:59 InstallContribNbextensionsApp]\u001b[m Up to date: /home/ubuntu/.local/share/jupyter/nbextensions/runtools/icon.png\n",
      "\u001b[32m[I 16:16:59 InstallContribNbextensionsApp]\u001b[m Up to date: /home/ubuntu/.local/share/jupyter/nbextensions/runtools/cellstate.js\n",
      "\u001b[32m[I 16:16:59 InstallContribNbextensionsApp]\u001b[m Up to date: /home/ubuntu/.local/share/jupyter/nbextensions/runtools/runtools_nb.png\n",
      "\u001b[32m[I 16:16:59 InstallContribNbextensionsApp]\u001b[m Up to date: /home/ubuntu/.local/share/jupyter/nbextensions/runtools/gutter.css\n",
      "\u001b[32m[I 16:16:59 InstallContribNbextensionsApp]\u001b[m Up to date: /home/ubuntu/.local/share/jupyter/nbextensions/runtools/runtools_marker.png\n",
      "\u001b[32m[I 16:16:59 InstallContribNbextensionsApp]\u001b[m - Validating: \u001b[32mOK\u001b[0m\n",
      "\u001b[32m[I 16:16:59 InstallContribNbextensionsApp]\u001b[m Installing /home/ubuntu/anaconda3/lib/python3.7/site-packages/jupyter_contrib_nbextensions/nbextensions/tree-filter -> tree-filter\n",
      "\u001b[32m[I 16:16:59 InstallContribNbextensionsApp]\u001b[m Up to date: /home/ubuntu/.local/share/jupyter/nbextensions/tree-filter/index.js\n",
      "\u001b[32m[I 16:16:59 InstallContribNbextensionsApp]\u001b[m Up to date: /home/ubuntu/.local/share/jupyter/nbextensions/tree-filter/tree-filter.yaml\n",
      "\u001b[32m[I 16:16:59 InstallContribNbextensionsApp]\u001b[m Up to date: /home/ubuntu/.local/share/jupyter/nbextensions/tree-filter/demo.gif\n",
      "\u001b[32m[I 16:16:59 InstallContribNbextensionsApp]\u001b[m Up to date: /home/ubuntu/.local/share/jupyter/nbextensions/tree-filter/readme.md\n",
      "\u001b[32m[I 16:16:59 InstallContribNbextensionsApp]\u001b[m - Validating: \u001b[32mOK\u001b[0m\n",
      "\u001b[32m[I 16:16:59 InstallContribNbextensionsApp]\u001b[m Installing /home/ubuntu/anaconda3/lib/python3.7/site-packages/jupyter_contrib_nbextensions/nbextensions/hinterland -> hinterland\n",
      "\u001b[32m[I 16:16:59 InstallContribNbextensionsApp]\u001b[m Up to date: /home/ubuntu/.local/share/jupyter/nbextensions/hinterland/hinterland.js\n",
      "\u001b[32m[I 16:16:59 InstallContribNbextensionsApp]\u001b[m Up to date: /home/ubuntu/.local/share/jupyter/nbextensions/hinterland/hinterland.yaml\n",
      "\u001b[32m[I 16:16:59 InstallContribNbextensionsApp]\u001b[m Up to date: /home/ubuntu/.local/share/jupyter/nbextensions/hinterland/README.md\n",
      "\u001b[32m[I 16:16:59 InstallContribNbextensionsApp]\u001b[m - Validating: \u001b[32mOK\u001b[0m\n",
      "\u001b[32m[I 16:16:59 InstallContribNbextensionsApp]\u001b[m Installing /home/ubuntu/anaconda3/lib/python3.7/site-packages/jupyter_contrib_nbextensions/nbextensions/codefolding -> codefolding\n",
      "\u001b[32m[I 16:16:59 InstallContribNbextensionsApp]\u001b[m Up to date: /home/ubuntu/.local/share/jupyter/nbextensions/codefolding/magic-fold.js\n",
      "\u001b[32m[I 16:16:59 InstallContribNbextensionsApp]\u001b[m Up to date: /home/ubuntu/.local/share/jupyter/nbextensions/codefolding/codefolding_editor.png\n",
      "\u001b[32m[I 16:16:59 InstallContribNbextensionsApp]\u001b[m Up to date: /home/ubuntu/.local/share/jupyter/nbextensions/codefolding/edit.js\n",
      "\u001b[32m[I 16:16:59 InstallContribNbextensionsApp]\u001b[m Up to date: /home/ubuntu/.local/share/jupyter/nbextensions/codefolding/magic-unfolded.png\n",
      "\u001b[32m[I 16:16:59 InstallContribNbextensionsApp]\u001b[m Up to date: /home/ubuntu/.local/share/jupyter/nbextensions/codefolding/firstline-fold.js\n",
      "\u001b[32m[I 16:16:59 InstallContribNbextensionsApp]\u001b[m Up to date: /home/ubuntu/.local/share/jupyter/nbextensions/codefolding/codefolding.yaml\n",
      "\u001b[32m[I 16:16:59 InstallContribNbextensionsApp]\u001b[m Up to date: /home/ubuntu/.local/share/jupyter/nbextensions/codefolding/codefolding_firstline_folded.png\n",
      "\u001b[32m[I 16:16:59 InstallContribNbextensionsApp]\u001b[m Up to date: /home/ubuntu/.local/share/jupyter/nbextensions/codefolding/codefolding_indent_folded_2.png\n",
      "\u001b[32m[I 16:16:59 InstallContribNbextensionsApp]\u001b[m Up to date: /home/ubuntu/.local/share/jupyter/nbextensions/codefolding/codefolding_indent_unfolded.png\n",
      "\u001b[32m[I 16:16:59 InstallContribNbextensionsApp]\u001b[m Up to date: /home/ubuntu/.local/share/jupyter/nbextensions/codefolding/codefolding_indent_folded_1.png\n",
      "\u001b[32m[I 16:16:59 InstallContribNbextensionsApp]\u001b[m Up to date: /home/ubuntu/.local/share/jupyter/nbextensions/codefolding/foldgutter.css\n",
      "\u001b[32m[I 16:16:59 InstallContribNbextensionsApp]\u001b[m Up to date: /home/ubuntu/.local/share/jupyter/nbextensions/codefolding/main.js\n",
      "\u001b[32m[I 16:16:59 InstallContribNbextensionsApp]\u001b[m Up to date: /home/ubuntu/.local/share/jupyter/nbextensions/codefolding/readme.md\n",
      "\u001b[32m[I 16:16:59 InstallContribNbextensionsApp]\u001b[m Up to date: /home/ubuntu/.local/share/jupyter/nbextensions/codefolding/icon.png\n",
      "\u001b[32m[I 16:16:59 InstallContribNbextensionsApp]\u001b[m Up to date: /home/ubuntu/.local/share/jupyter/nbextensions/codefolding/codefolding_firstline_unfolded.png\n",
      "\u001b[32m[I 16:16:59 InstallContribNbextensionsApp]\u001b[m Up to date: /home/ubuntu/.local/share/jupyter/nbextensions/codefolding/magic-folded.png\n",
      "\u001b[32m[I 16:16:59 InstallContribNbextensionsApp]\u001b[m Up to date: /home/ubuntu/.local/share/jupyter/nbextensions/codefolding/codefolding_editor.yaml\n",
      "\u001b[32m[I 16:16:59 InstallContribNbextensionsApp]\u001b[m - Validating: \u001b[32mOK\u001b[0m\n",
      "\u001b[32m[I 16:16:59 InstallContribNbextensionsApp]\u001b[m Installing /home/ubuntu/anaconda3/lib/python3.7/site-packages/jupyter_contrib_nbextensions/nbextensions/codefolding -> codefolding\n",
      "\u001b[32m[I 16:16:59 InstallContribNbextensionsApp]\u001b[m Up to date: /home/ubuntu/.local/share/jupyter/nbextensions/codefolding/magic-fold.js\n",
      "\u001b[32m[I 16:16:59 InstallContribNbextensionsApp]\u001b[m Up to date: /home/ubuntu/.local/share/jupyter/nbextensions/codefolding/codefolding_editor.png\n",
      "\u001b[32m[I 16:16:59 InstallContribNbextensionsApp]\u001b[m Up to date: /home/ubuntu/.local/share/jupyter/nbextensions/codefolding/edit.js\n",
      "\u001b[32m[I 16:16:59 InstallContribNbextensionsApp]\u001b[m Up to date: /home/ubuntu/.local/share/jupyter/nbextensions/codefolding/magic-unfolded.png\n",
      "\u001b[32m[I 16:16:59 InstallContribNbextensionsApp]\u001b[m Up to date: /home/ubuntu/.local/share/jupyter/nbextensions/codefolding/firstline-fold.js\n",
      "\u001b[32m[I 16:16:59 InstallContribNbextensionsApp]\u001b[m Up to date: /home/ubuntu/.local/share/jupyter/nbextensions/codefolding/codefolding.yaml\n",
      "\u001b[32m[I 16:16:59 InstallContribNbextensionsApp]\u001b[m Up to date: /home/ubuntu/.local/share/jupyter/nbextensions/codefolding/codefolding_firstline_folded.png\n",
      "\u001b[32m[I 16:16:59 InstallContribNbextensionsApp]\u001b[m Up to date: /home/ubuntu/.local/share/jupyter/nbextensions/codefolding/codefolding_indent_folded_2.png\n",
      "\u001b[32m[I 16:16:59 InstallContribNbextensionsApp]\u001b[m Up to date: /home/ubuntu/.local/share/jupyter/nbextensions/codefolding/codefolding_indent_unfolded.png\n",
      "\u001b[32m[I 16:16:59 InstallContribNbextensionsApp]\u001b[m Up to date: /home/ubuntu/.local/share/jupyter/nbextensions/codefolding/codefolding_indent_folded_1.png\n",
      "\u001b[32m[I 16:16:59 InstallContribNbextensionsApp]\u001b[m Up to date: /home/ubuntu/.local/share/jupyter/nbextensions/codefolding/foldgutter.css\n",
      "\u001b[32m[I 16:16:59 InstallContribNbextensionsApp]\u001b[m Up to date: /home/ubuntu/.local/share/jupyter/nbextensions/codefolding/main.js\n",
      "\u001b[32m[I 16:16:59 InstallContribNbextensionsApp]\u001b[m Up to date: /home/ubuntu/.local/share/jupyter/nbextensions/codefolding/readme.md\n",
      "\u001b[32m[I 16:16:59 InstallContribNbextensionsApp]\u001b[m Up to date: /home/ubuntu/.local/share/jupyter/nbextensions/codefolding/icon.png\n",
      "\u001b[32m[I 16:16:59 InstallContribNbextensionsApp]\u001b[m Up to date: /home/ubuntu/.local/share/jupyter/nbextensions/codefolding/codefolding_firstline_unfolded.png\n",
      "\u001b[32m[I 16:16:59 InstallContribNbextensionsApp]\u001b[m Up to date: /home/ubuntu/.local/share/jupyter/nbextensions/codefolding/magic-folded.png\n",
      "\u001b[32m[I 16:16:59 InstallContribNbextensionsApp]\u001b[m Up to date: /home/ubuntu/.local/share/jupyter/nbextensions/codefolding/codefolding_editor.yaml\n",
      "\u001b[32m[I 16:16:59 InstallContribNbextensionsApp]\u001b[m - Validating: \u001b[32mOK\u001b[0m\n",
      "\u001b[32m[I 16:16:59 InstallContribNbextensionsApp]\u001b[m Installing /home/ubuntu/anaconda3/lib/python3.7/site-packages/jupyter_contrib_nbextensions/nbextensions/toc2 -> toc2\n",
      "\u001b[32m[I 16:16:59 InstallContribNbextensionsApp]\u001b[m Up to date: /home/ubuntu/.local/share/jupyter/nbextensions/toc2/main.css\n",
      "\u001b[32m[I 16:16:59 InstallContribNbextensionsApp]\u001b[m Up to date: /home/ubuntu/.local/share/jupyter/nbextensions/toc2/demo3.gif\n",
      "\u001b[32m[I 16:16:59 InstallContribNbextensionsApp]\u001b[m Up to date: /home/ubuntu/.local/share/jupyter/nbextensions/toc2/image.png\n",
      "\u001b[32m[I 16:16:59 InstallContribNbextensionsApp]\u001b[m Up to date: /home/ubuntu/.local/share/jupyter/nbextensions/toc2/toc2.js\n",
      "\u001b[32m[I 16:16:59 InstallContribNbextensionsApp]\u001b[m Up to date: /home/ubuntu/.local/share/jupyter/nbextensions/toc2/toc2.yaml\n",
      "\u001b[32m[I 16:16:59 InstallContribNbextensionsApp]\u001b[m Up to date: /home/ubuntu/.local/share/jupyter/nbextensions/toc2/demo2.gif\n",
      "\u001b[32m[I 16:16:59 InstallContribNbextensionsApp]\u001b[m Up to date: /home/ubuntu/.local/share/jupyter/nbextensions/toc2/demo_dark.png\n",
      "\u001b[32m[I 16:16:59 InstallContribNbextensionsApp]\u001b[m Up to date: /home/ubuntu/.local/share/jupyter/nbextensions/toc2/README.md\n",
      "\u001b[32m[I 16:16:59 InstallContribNbextensionsApp]\u001b[m Up to date: /home/ubuntu/.local/share/jupyter/nbextensions/toc2/demo.gif\n",
      "\u001b[32m[I 16:16:59 InstallContribNbextensionsApp]\u001b[m Up to date: /home/ubuntu/.local/share/jupyter/nbextensions/toc2/main.js\n",
      "\u001b[32m[I 16:16:59 InstallContribNbextensionsApp]\u001b[m Up to date: /home/ubuntu/.local/share/jupyter/nbextensions/toc2/icon.png\n",
      "\u001b[32m[I 16:16:59 InstallContribNbextensionsApp]\u001b[m - Validating: \u001b[32mOK\u001b[0m\n",
      "\u001b[32m[I 16:16:59 InstallContribNbextensionsApp]\u001b[m Installing /home/ubuntu/anaconda3/lib/python3.7/site-packages/jupyter_contrib_nbextensions/nbextensions/help_panel -> help_panel\n",
      "\u001b[32m[I 16:16:59 InstallContribNbextensionsApp]\u001b[m Up to date: /home/ubuntu/.local/share/jupyter/nbextensions/help_panel/help_panel_ext_fullscreen.png\n",
      "\u001b[32m[I 16:16:59 InstallContribNbextensionsApp]\u001b[m Up to date: /home/ubuntu/.local/share/jupyter/nbextensions/help_panel/help_panel.css\n",
      "\u001b[32m[I 16:16:59 InstallContribNbextensionsApp]\u001b[m Up to date: /home/ubuntu/.local/share/jupyter/nbextensions/help_panel/help_panel.yaml\n",
      "\u001b[32m[I 16:16:59 InstallContribNbextensionsApp]\u001b[m Up to date: /home/ubuntu/.local/share/jupyter/nbextensions/help_panel/help_panel.js\n",
      "\u001b[32m[I 16:16:59 InstallContribNbextensionsApp]\u001b[m Up to date: /home/ubuntu/.local/share/jupyter/nbextensions/help_panel/help_panel_ext.png\n",
      "\u001b[32m[I 16:16:59 InstallContribNbextensionsApp]\u001b[m Up to date: /home/ubuntu/.local/share/jupyter/nbextensions/help_panel/readme.md\n",
      "\u001b[32m[I 16:16:59 InstallContribNbextensionsApp]\u001b[m Up to date: /home/ubuntu/.local/share/jupyter/nbextensions/help_panel/icon.png\n",
      "\u001b[32m[I 16:16:59 InstallContribNbextensionsApp]\u001b[m Up to date: /home/ubuntu/.local/share/jupyter/nbextensions/help_panel/img/handle-v.png\n",
      "\u001b[32m[I 16:16:59 InstallContribNbextensionsApp]\u001b[m - Validating: \u001b[32mOK\u001b[0m\n",
      "\u001b[32m[I 16:16:59 InstallContribNbextensionsApp]\u001b[m Installing /home/ubuntu/anaconda3/lib/python3.7/site-packages/jupyter_contrib_nbextensions/nbextensions/comment-uncomment -> comment-uncomment\n",
      "\u001b[32m[I 16:16:59 InstallContribNbextensionsApp]\u001b[m Up to date: /home/ubuntu/.local/share/jupyter/nbextensions/comment-uncomment/comment-uncomment.yaml\n",
      "\u001b[32m[I 16:16:59 InstallContribNbextensionsApp]\u001b[m Up to date: /home/ubuntu/.local/share/jupyter/nbextensions/comment-uncomment/main.js\n",
      "\u001b[32m[I 16:16:59 InstallContribNbextensionsApp]\u001b[m Up to date: /home/ubuntu/.local/share/jupyter/nbextensions/comment-uncomment/readme.md\n",
      "\u001b[32m[I 16:16:59 InstallContribNbextensionsApp]\u001b[m Up to date: /home/ubuntu/.local/share/jupyter/nbextensions/comment-uncomment/icon.png\n",
      "\u001b[32m[I 16:16:59 InstallContribNbextensionsApp]\u001b[m - Validating: \u001b[32mOK\u001b[0m\n",
      "\u001b[32m[I 16:16:59 InstallContribNbextensionsApp]\u001b[m Installing /home/ubuntu/anaconda3/lib/python3.7/site-packages/jupyter_contrib_nbextensions/nbextensions/ruler -> ruler\n",
      "\u001b[32m[I 16:16:59 InstallContribNbextensionsApp]\u001b[m Up to date: /home/ubuntu/.local/share/jupyter/nbextensions/ruler/ruler.yaml\n",
      "\u001b[32m[I 16:16:59 InstallContribNbextensionsApp]\u001b[m Up to date: /home/ubuntu/.local/share/jupyter/nbextensions/ruler/edit.js\n",
      "\u001b[32m[I 16:16:59 InstallContribNbextensionsApp]\u001b[m Up to date: /home/ubuntu/.local/share/jupyter/nbextensions/ruler/ruler_editor.yaml\n",
      "\u001b[32m[I 16:16:59 InstallContribNbextensionsApp]\u001b[m Up to date: /home/ubuntu/.local/share/jupyter/nbextensions/ruler/main.js\n",
      "\u001b[32m[I 16:16:59 InstallContribNbextensionsApp]\u001b[m Up to date: /home/ubuntu/.local/share/jupyter/nbextensions/ruler/readme.md\n",
      "\u001b[32m[I 16:16:59 InstallContribNbextensionsApp]\u001b[m Up to date: /home/ubuntu/.local/share/jupyter/nbextensions/ruler/icon.png\n",
      "\u001b[32m[I 16:16:59 InstallContribNbextensionsApp]\u001b[m - Validating: \u001b[32mOK\u001b[0m\n",
      "\u001b[32m[I 16:16:59 InstallContribNbextensionsApp]\u001b[m Installing /home/ubuntu/anaconda3/lib/python3.7/site-packages/jupyter_contrib_nbextensions/nbextensions/ruler -> ruler\n",
      "\u001b[32m[I 16:16:59 InstallContribNbextensionsApp]\u001b[m Up to date: /home/ubuntu/.local/share/jupyter/nbextensions/ruler/ruler.yaml\n",
      "\u001b[32m[I 16:16:59 InstallContribNbextensionsApp]\u001b[m Up to date: /home/ubuntu/.local/share/jupyter/nbextensions/ruler/edit.js\n",
      "\u001b[32m[I 16:16:59 InstallContribNbextensionsApp]\u001b[m Up to date: /home/ubuntu/.local/share/jupyter/nbextensions/ruler/ruler_editor.yaml\n",
      "\u001b[32m[I 16:16:59 InstallContribNbextensionsApp]\u001b[m Up to date: /home/ubuntu/.local/share/jupyter/nbextensions/ruler/main.js\n",
      "\u001b[32m[I 16:16:59 InstallContribNbextensionsApp]\u001b[m Up to date: /home/ubuntu/.local/share/jupyter/nbextensions/ruler/readme.md\n",
      "\u001b[32m[I 16:16:59 InstallContribNbextensionsApp]\u001b[m Up to date: /home/ubuntu/.local/share/jupyter/nbextensions/ruler/icon.png\n",
      "\u001b[32m[I 16:16:59 InstallContribNbextensionsApp]\u001b[m - Validating: \u001b[32mOK\u001b[0m\n",
      "\u001b[32m[I 16:16:59 InstallContribNbextensionsApp]\u001b[m Installing /home/ubuntu/anaconda3/lib/python3.7/site-packages/jupyter_contrib_nbextensions/nbextensions/freeze -> freeze\n",
      "\u001b[32m[I 16:16:59 InstallContribNbextensionsApp]\u001b[m Up to date: /home/ubuntu/.local/share/jupyter/nbextensions/freeze/config.yaml\n",
      "\u001b[32m[I 16:16:59 InstallContribNbextensionsApp]\u001b[m Up to date: /home/ubuntu/.local/share/jupyter/nbextensions/freeze/main.js\n",
      "\u001b[32m[I 16:16:59 InstallContribNbextensionsApp]\u001b[m Up to date: /home/ubuntu/.local/share/jupyter/nbextensions/freeze/readme.md\n",
      "\u001b[32m[I 16:16:59 InstallContribNbextensionsApp]\u001b[m Up to date: /home/ubuntu/.local/share/jupyter/nbextensions/freeze/icon.png\n",
      "\u001b[32m[I 16:16:59 InstallContribNbextensionsApp]\u001b[m - Validating: \u001b[32mOK\u001b[0m\n",
      "\u001b[32m[I 16:16:59 InstallContribNbextensionsApp]\u001b[m Installing /home/ubuntu/anaconda3/lib/python3.7/site-packages/jupyter_contrib_nbextensions/nbextensions/zenmode -> zenmode\n",
      "\u001b[32m[I 16:16:59 InstallContribNbextensionsApp]\u001b[m Up to date: /home/ubuntu/.local/share/jupyter/nbextensions/zenmode/main.css\n",
      "\u001b[32m[I 16:16:59 InstallContribNbextensionsApp]\u001b[m Up to date: /home/ubuntu/.local/share/jupyter/nbextensions/zenmode/README.md\n",
      "\u001b[32m[I 16:16:59 InstallContribNbextensionsApp]\u001b[m Up to date: /home/ubuntu/.local/share/jupyter/nbextensions/zenmode/main.js\n",
      "\u001b[32m[I 16:16:59 InstallContribNbextensionsApp]\u001b[m Up to date: /home/ubuntu/.local/share/jupyter/nbextensions/zenmode/zenmode.yaml\n",
      "\u001b[32m[I 16:16:59 InstallContribNbextensionsApp]\u001b[m Up to date: /home/ubuntu/.local/share/jupyter/nbextensions/zenmode/images/back11.jpg\n",
      "\u001b[32m[I 16:16:59 InstallContribNbextensionsApp]\u001b[m Up to date: /home/ubuntu/.local/share/jupyter/nbextensions/zenmode/images/ipynblogo1.png\n",
      "\u001b[32m[I 16:16:59 InstallContribNbextensionsApp]\u001b[m Up to date: /home/ubuntu/.local/share/jupyter/nbextensions/zenmode/images/back2.jpg\n",
      "\u001b[32m[I 16:16:59 InstallContribNbextensionsApp]\u001b[m Up to date: /home/ubuntu/.local/share/jupyter/nbextensions/zenmode/images/back21.jpg\n",
      "\u001b[32m[I 16:16:59 InstallContribNbextensionsApp]\u001b[m Up to date: /home/ubuntu/.local/share/jupyter/nbextensions/zenmode/images/ipynblogo0.png\n",
      "\u001b[32m[I 16:16:59 InstallContribNbextensionsApp]\u001b[m Up to date: /home/ubuntu/.local/share/jupyter/nbextensions/zenmode/images/back3.jpg\n",
      "\u001b[32m[I 16:16:59 InstallContribNbextensionsApp]\u001b[m Up to date: /home/ubuntu/.local/share/jupyter/nbextensions/zenmode/images/back12.jpg\n",
      "\u001b[32m[I 16:16:59 InstallContribNbextensionsApp]\u001b[m Up to date: /home/ubuntu/.local/share/jupyter/nbextensions/zenmode/images/back1.jpg\n",
      "\u001b[32m[I 16:16:59 InstallContribNbextensionsApp]\u001b[m Up to date: /home/ubuntu/.local/share/jupyter/nbextensions/zenmode/images/back22.jpg\n",
      "\u001b[32m[I 16:16:59 InstallContribNbextensionsApp]\u001b[m - Validating: \u001b[32mOK\u001b[0m\n",
      "\u001b[32m[I 16:16:59 InstallContribNbextensionsApp]\u001b[m Installing /home/ubuntu/anaconda3/lib/python3.7/site-packages/jupyter_contrib_nbextensions/nbextensions/collapsible_headings -> collapsible_headings\n",
      "\u001b[32m[I 16:16:59 InstallContribNbextensionsApp]\u001b[m Up to date: /home/ubuntu/.local/share/jupyter/nbextensions/collapsible_headings/main.css\n",
      "\u001b[32m[I 16:16:59 InstallContribNbextensionsApp]\u001b[m Up to date: /home/ubuntu/.local/share/jupyter/nbextensions/collapsible_headings/collapsible_headings.yaml\n",
      "\u001b[32m[I 16:16:59 InstallContribNbextensionsApp]\u001b[m Up to date: /home/ubuntu/.local/share/jupyter/nbextensions/collapsible_headings/main.js\n",
      "\u001b[32m[I 16:16:59 InstallContribNbextensionsApp]\u001b[m Up to date: /home/ubuntu/.local/share/jupyter/nbextensions/collapsible_headings/readme.md\n",
      "\u001b[32m[I 16:16:59 InstallContribNbextensionsApp]\u001b[m Up to date: /home/ubuntu/.local/share/jupyter/nbextensions/collapsible_headings/icon.png\n",
      "\u001b[32m[I 16:16:59 InstallContribNbextensionsApp]\u001b[m Up to date: /home/ubuntu/.local/share/jupyter/nbextensions/collapsible_headings/screenshot.png\n",
      "\u001b[32m[I 16:16:59 InstallContribNbextensionsApp]\u001b[m - Validating: \u001b[32mOK\u001b[0m\n",
      "\u001b[32m[I 16:16:59 InstallContribNbextensionsApp]\u001b[m Installing /home/ubuntu/anaconda3/lib/python3.7/site-packages/jupyter_contrib_nbextensions/nbextensions/qtconsole -> qtconsole\n",
      "\u001b[32m[I 16:16:59 InstallContribNbextensionsApp]\u001b[m Up to date: /home/ubuntu/.local/share/jupyter/nbextensions/qtconsole/qtconsole.js\n",
      "\u001b[32m[I 16:16:59 InstallContribNbextensionsApp]\u001b[m Up to date: /home/ubuntu/.local/share/jupyter/nbextensions/qtconsole/qtconsole.yaml\n",
      "\u001b[32m[I 16:16:59 InstallContribNbextensionsApp]\u001b[m Up to date: /home/ubuntu/.local/share/jupyter/nbextensions/qtconsole/README.md\n",
      "\u001b[32m[I 16:16:59 InstallContribNbextensionsApp]\u001b[m - Validating: \u001b[32mOK\u001b[0m\n",
      "\u001b[32m[I 16:16:59 InstallContribNbextensionsApp]\u001b[m Installing /home/ubuntu/anaconda3/lib/python3.7/site-packages/jupyter_contrib_nbextensions/nbextensions/hide_header -> hide_header\n",
      "\u001b[32m[I 16:16:59 InstallContribNbextensionsApp]\u001b[m Up to date: /home/ubuntu/.local/share/jupyter/nbextensions/hide_header/README.md\n",
      "\u001b[32m[I 16:16:59 InstallContribNbextensionsApp]\u001b[m Up to date: /home/ubuntu/.local/share/jupyter/nbextensions/hide_header/main.js\n",
      "\u001b[32m[I 16:16:59 InstallContribNbextensionsApp]\u001b[m Up to date: /home/ubuntu/.local/share/jupyter/nbextensions/hide_header/hide_header.yaml\n",
      "\u001b[32m[I 16:16:59 InstallContribNbextensionsApp]\u001b[m - Validating: \u001b[32mOK\u001b[0m\n",
      "\u001b[32m[I 16:16:59 InstallContribNbextensionsApp]\u001b[m Installing /home/ubuntu/anaconda3/lib/python3.7/site-packages/jupyter_contrib_nbextensions/nbextensions/contrib_nbextensions_help_item -> contrib_nbextensions_help_item\n",
      "\u001b[32m[I 16:16:59 InstallContribNbextensionsApp]\u001b[m Up to date: /home/ubuntu/.local/share/jupyter/nbextensions/contrib_nbextensions_help_item/contrib_nbextensions_help_item.yaml\n",
      "\u001b[32m[I 16:16:59 InstallContribNbextensionsApp]\u001b[m Up to date: /home/ubuntu/.local/share/jupyter/nbextensions/contrib_nbextensions_help_item/README.md\n",
      "\u001b[32m[I 16:16:59 InstallContribNbextensionsApp]\u001b[m Up to date: /home/ubuntu/.local/share/jupyter/nbextensions/contrib_nbextensions_help_item/main.js\n",
      "\u001b[32m[I 16:16:59 InstallContribNbextensionsApp]\u001b[m - Validating: \u001b[32mOK\u001b[0m\n",
      "\u001b[32m[I 16:16:59 InstallContribNbextensionsApp]\u001b[m Installing /home/ubuntu/anaconda3/lib/python3.7/site-packages/jupyter_contrib_nbextensions/nbextensions/nbTranslate -> nbTranslate\n",
      "\u001b[32m[I 16:16:59 InstallContribNbextensionsApp]\u001b[m Up to date: /home/ubuntu/.local/share/jupyter/nbextensions/nbTranslate/nbTranslate.yaml\n",
      "\u001b[32m[I 16:16:59 InstallContribNbextensionsApp]\u001b[m Up to date: /home/ubuntu/.local/share/jupyter/nbextensions/nbTranslate/nbTranslate.js\n",
      "\u001b[32m[I 16:16:59 InstallContribNbextensionsApp]\u001b[m Up to date: /home/ubuntu/.local/share/jupyter/nbextensions/nbTranslate/demo2.gif\n",
      "\u001b[32m[I 16:16:59 InstallContribNbextensionsApp]\u001b[m Up to date: /home/ubuntu/.local/share/jupyter/nbextensions/nbTranslate/mutils.js\n",
      "\u001b[32m[I 16:16:59 InstallContribNbextensionsApp]\u001b[m Up to date: /home/ubuntu/.local/share/jupyter/nbextensions/nbTranslate/README.md\n",
      "\u001b[32m[I 16:16:59 InstallContribNbextensionsApp]\u001b[m Up to date: /home/ubuntu/.local/share/jupyter/nbextensions/nbTranslate/main.js\n",
      "\u001b[32m[I 16:16:59 InstallContribNbextensionsApp]\u001b[m Up to date: /home/ubuntu/.local/share/jupyter/nbextensions/nbTranslate/demo1.gif\n",
      "\u001b[32m[I 16:16:59 InstallContribNbextensionsApp]\u001b[m Up to date: /home/ubuntu/.local/share/jupyter/nbextensions/nbTranslate/languages.js\n",
      "\u001b[32m[I 16:16:59 InstallContribNbextensionsApp]\u001b[m - Validating: \u001b[32mOK\u001b[0m\n",
      "\u001b[32m[I 16:16:59 InstallContribNbextensionsApp]\u001b[m Installing /home/ubuntu/anaconda3/lib/python3.7/site-packages/jupyter_contrib_nbextensions/nbextensions/cell_filter -> cell_filter\n",
      "\u001b[32m[I 16:16:59 InstallContribNbextensionsApp]\u001b[m Up to date: /home/ubuntu/.local/share/jupyter/nbextensions/cell_filter/cell_filter.yml\n",
      "\u001b[32m[I 16:16:59 InstallContribNbextensionsApp]\u001b[m Up to date: /home/ubuntu/.local/share/jupyter/nbextensions/cell_filter/README.md\n",
      "\u001b[32m[I 16:16:59 InstallContribNbextensionsApp]\u001b[m Up to date: /home/ubuntu/.local/share/jupyter/nbextensions/cell_filter/cell_filter.js\n",
      "\u001b[32m[I 16:16:59 InstallContribNbextensionsApp]\u001b[m - Validating: \u001b[32mOK\u001b[0m\n",
      "\u001b[32m[I 16:16:59 InstallContribNbextensionsApp]\u001b[m Installing /home/ubuntu/anaconda3/lib/python3.7/site-packages/jupyter_contrib_nbextensions/nbextensions/highlighter -> highlighter\n",
      "\u001b[32m[I 16:16:59 InstallContribNbextensionsApp]\u001b[m Up to date: /home/ubuntu/.local/share/jupyter/nbextensions/highlighter/highlighter.css\n",
      "\u001b[32m[I 16:16:59 InstallContribNbextensionsApp]\u001b[m Up to date: /home/ubuntu/.local/share/jupyter/nbextensions/highlighter/highlighter.yaml\n",
      "\u001b[32m[I 16:16:59 InstallContribNbextensionsApp]\u001b[m Up to date: /home/ubuntu/.local/share/jupyter/nbextensions/highlighter/tst_highlights.ipynb\n",
      "\u001b[32m[I 16:16:59 InstallContribNbextensionsApp]\u001b[m Up to date: /home/ubuntu/.local/share/jupyter/nbextensions/highlighter/export_highlights.tex\n",
      "\u001b[32m[I 16:16:59 InstallContribNbextensionsApp]\u001b[m Up to date: /home/ubuntu/.local/share/jupyter/nbextensions/highlighter/demo_highlighter.ipynb\n",
      "\u001b[32m[I 16:16:59 InstallContribNbextensionsApp]\u001b[m Up to date: /home/ubuntu/.local/share/jupyter/nbextensions/highlighter/export_highlights.ipynb\n",
      "\u001b[32m[I 16:16:59 InstallContribNbextensionsApp]\u001b[m Up to date: /home/ubuntu/.local/share/jupyter/nbextensions/highlighter/tst_highlights.tex\n",
      "\u001b[32m[I 16:16:59 InstallContribNbextensionsApp]\u001b[m Up to date: /home/ubuntu/.local/share/jupyter/nbextensions/highlighter/export_highlights.html\n",
      "\u001b[32m[I 16:16:59 InstallContribNbextensionsApp]\u001b[m Up to date: /home/ubuntu/.local/share/jupyter/nbextensions/highlighter/image.gif\n",
      "\u001b[32m[I 16:16:59 InstallContribNbextensionsApp]\u001b[m Up to date: /home/ubuntu/.local/share/jupyter/nbextensions/highlighter/tst_highlights.pdf\n",
      "\u001b[32m[I 16:16:59 InstallContribNbextensionsApp]\u001b[m Up to date: /home/ubuntu/.local/share/jupyter/nbextensions/highlighter/demo_highlighter.html\n",
      "\u001b[32m[I 16:16:59 InstallContribNbextensionsApp]\u001b[m Up to date: /home/ubuntu/.local/share/jupyter/nbextensions/highlighter/readme.md\n",
      "\u001b[32m[I 16:16:59 InstallContribNbextensionsApp]\u001b[m Up to date: /home/ubuntu/.local/share/jupyter/nbextensions/highlighter/icon.png\n",
      "\u001b[32m[I 16:16:59 InstallContribNbextensionsApp]\u001b[m Up to date: /home/ubuntu/.local/share/jupyter/nbextensions/highlighter/tst_highlights.html\n",
      "\u001b[32m[I 16:16:59 InstallContribNbextensionsApp]\u001b[m Up to date: /home/ubuntu/.local/share/jupyter/nbextensions/highlighter/highlighter.js\n",
      "\u001b[32m[I 16:16:59 InstallContribNbextensionsApp]\u001b[m Up to date: /home/ubuntu/.local/share/jupyter/nbextensions/highlighter/export_highlights.pdf\n",
      "\u001b[32m[I 16:16:59 InstallContribNbextensionsApp]\u001b[m - Validating: \u001b[32mOK\u001b[0m\n",
      "\u001b[32m[I 16:16:59 InstallContribNbextensionsApp]\u001b[m Installing /home/ubuntu/anaconda3/lib/python3.7/site-packages/jupyter_contrib_nbextensions/nbextensions/scratchpad -> scratchpad\n",
      "\u001b[32m[I 16:16:59 InstallContribNbextensionsApp]\u001b[m Up to date: /home/ubuntu/.local/share/jupyter/nbextensions/scratchpad/README.md\n",
      "\u001b[32m[I 16:16:59 InstallContribNbextensionsApp]\u001b[m Up to date: /home/ubuntu/.local/share/jupyter/nbextensions/scratchpad/demo.gif\n",
      "\u001b[32m[I 16:16:59 InstallContribNbextensionsApp]\u001b[m Up to date: /home/ubuntu/.local/share/jupyter/nbextensions/scratchpad/main.js\n",
      "\u001b[32m[I 16:16:59 InstallContribNbextensionsApp]\u001b[m Up to date: /home/ubuntu/.local/share/jupyter/nbextensions/scratchpad/scratchpad.css\n",
      "\u001b[32m[I 16:16:59 InstallContribNbextensionsApp]\u001b[m Up to date: /home/ubuntu/.local/share/jupyter/nbextensions/scratchpad/LICENSE\n",
      "\u001b[32m[I 16:16:59 InstallContribNbextensionsApp]\u001b[m Up to date: /home/ubuntu/.local/share/jupyter/nbextensions/scratchpad/scratchpad.yaml\n",
      "\u001b[32m[I 16:16:59 InstallContribNbextensionsApp]\u001b[m - Validating: \u001b[32mOK\u001b[0m\n",
      "\u001b[32m[I 16:16:59 InstallContribNbextensionsApp]\u001b[m Installing /home/ubuntu/anaconda3/lib/python3.7/site-packages/jupyter_contrib_nbextensions/nbextensions/splitcell -> splitcell\n",
      "\u001b[32m[I 16:16:59 InstallContribNbextensionsApp]\u001b[m Up to date: /home/ubuntu/.local/share/jupyter/nbextensions/splitcell/splitcell.js\n",
      "\u001b[32m[I 16:16:59 InstallContribNbextensionsApp]\u001b[m Up to date: /home/ubuntu/.local/share/jupyter/nbextensions/splitcell/splitcell.yaml\n",
      "\u001b[32m[I 16:16:59 InstallContribNbextensionsApp]\u001b[m Up to date: /home/ubuntu/.local/share/jupyter/nbextensions/splitcell/readme.md\n",
      "\u001b[32m[I 16:16:59 InstallContribNbextensionsApp]\u001b[m Up to date: /home/ubuntu/.local/share/jupyter/nbextensions/splitcell/icon.png\n",
      "\u001b[32m[I 16:16:59 InstallContribNbextensionsApp]\u001b[m - Validating: \u001b[32mOK\u001b[0m\n",
      "\u001b[32m[I 16:16:59 InstallContribNbextensionsApp]\u001b[m Installing /home/ubuntu/anaconda3/lib/python3.7/site-packages/jupyter_contrib_nbextensions/nbextensions/keyboard_shortcut_editor -> keyboard_shortcut_editor\n",
      "\u001b[32m[I 16:16:59 InstallContribNbextensionsApp]\u001b[m Up to date: /home/ubuntu/.local/share/jupyter/nbextensions/keyboard_shortcut_editor/readme_dropdown.png\n",
      "\u001b[32m[I 16:16:59 InstallContribNbextensionsApp]\u001b[m Up to date: /home/ubuntu/.local/share/jupyter/nbextensions/keyboard_shortcut_editor/readme_undefined_key.png\n",
      "\u001b[32m[I 16:16:59 InstallContribNbextensionsApp]\u001b[m Up to date: /home/ubuntu/.local/share/jupyter/nbextensions/keyboard_shortcut_editor/main.css\n",
      "\u001b[32m[I 16:16:59 InstallContribNbextensionsApp]\u001b[m Up to date: /home/ubuntu/.local/share/jupyter/nbextensions/keyboard_shortcut_editor/kse_components.js\n",
      "\u001b[32m[I 16:16:59 InstallContribNbextensionsApp]\u001b[m Up to date: /home/ubuntu/.local/share/jupyter/nbextensions/keyboard_shortcut_editor/readme_reset_disabled.png\n",
      "\u001b[32m[I 16:16:59 InstallContribNbextensionsApp]\u001b[m Up to date: /home/ubuntu/.local/share/jupyter/nbextensions/keyboard_shortcut_editor/keyboard_shortcut_editor.yaml\n",
      "\u001b[32m[I 16:16:59 InstallContribNbextensionsApp]\u001b[m Up to date: /home/ubuntu/.local/share/jupyter/nbextensions/keyboard_shortcut_editor/readme_shortcut_editor_success.png\n",
      "\u001b[32m[I 16:16:59 InstallContribNbextensionsApp]\u001b[m Up to date: /home/ubuntu/.local/share/jupyter/nbextensions/keyboard_shortcut_editor/quickhelp_shim.js\n",
      "\u001b[32m[I 16:16:59 InstallContribNbextensionsApp]\u001b[m Up to date: /home/ubuntu/.local/share/jupyter/nbextensions/keyboard_shortcut_editor/README.md\n",
      "\u001b[32m[I 16:16:59 InstallContribNbextensionsApp]\u001b[m Up to date: /home/ubuntu/.local/share/jupyter/nbextensions/keyboard_shortcut_editor/readme_shortcut_editor_blank.png\n",
      "\u001b[32m[I 16:16:59 InstallContribNbextensionsApp]\u001b[m Up to date: /home/ubuntu/.local/share/jupyter/nbextensions/keyboard_shortcut_editor/readme_add_new_select_action.png\n",
      "\u001b[32m[I 16:16:59 InstallContribNbextensionsApp]\u001b[m Up to date: /home/ubuntu/.local/share/jupyter/nbextensions/keyboard_shortcut_editor/main.js\n",
      "\u001b[32m[I 16:16:59 InstallContribNbextensionsApp]\u001b[m Up to date: /home/ubuntu/.local/share/jupyter/nbextensions/keyboard_shortcut_editor/readme_add_new_link.png\n",
      "\u001b[32m[I 16:16:59 InstallContribNbextensionsApp]\u001b[m Up to date: /home/ubuntu/.local/share/jupyter/nbextensions/keyboard_shortcut_editor/readme_comma.png\n",
      "\u001b[32m[I 16:16:59 InstallContribNbextensionsApp]\u001b[m Up to date: /home/ubuntu/.local/share/jupyter/nbextensions/keyboard_shortcut_editor/icon.png\n",
      "\u001b[32m[I 16:16:59 InstallContribNbextensionsApp]\u001b[m Up to date: /home/ubuntu/.local/share/jupyter/nbextensions/keyboard_shortcut_editor/readme_conflict.png\n",
      "\u001b[32m[I 16:16:59 InstallContribNbextensionsApp]\u001b[m Up to date: /home/ubuntu/.local/share/jupyter/nbextensions/keyboard_shortcut_editor/readme_menu_item.png\n",
      "\u001b[32m[I 16:16:59 InstallContribNbextensionsApp]\u001b[m - Validating: \u001b[32mOK\u001b[0m\n",
      "\u001b[32m[I 16:16:59 InstallContribNbextensionsApp]\u001b[m Installing /home/ubuntu/anaconda3/lib/python3.7/site-packages/jupyter_contrib_nbextensions/nbextensions/printview -> printview\n",
      "\u001b[32m[I 16:16:59 InstallContribNbextensionsApp]\u001b[m Up to date: /home/ubuntu/.local/share/jupyter/nbextensions/printview/printview-button.png\n",
      "\u001b[32m[I 16:16:59 InstallContribNbextensionsApp]\u001b[m Up to date: /home/ubuntu/.local/share/jupyter/nbextensions/printview/main.js\n",
      "\u001b[32m[I 16:16:59 InstallContribNbextensionsApp]\u001b[m Up to date: /home/ubuntu/.local/share/jupyter/nbextensions/printview/printview.yaml\n",
      "\u001b[32m[I 16:16:59 InstallContribNbextensionsApp]\u001b[m Up to date: /home/ubuntu/.local/share/jupyter/nbextensions/printview/readme.md\n",
      "\u001b[32m[I 16:16:59 InstallContribNbextensionsApp]\u001b[m Up to date: /home/ubuntu/.local/share/jupyter/nbextensions/printview/icon.png\n",
      "\u001b[32m[I 16:16:59 InstallContribNbextensionsApp]\u001b[m - Validating: \u001b[32mOK\u001b[0m\n",
      "\u001b[32m[I 16:16:59 InstallContribNbextensionsApp]\u001b[m Installing /home/ubuntu/anaconda3/lib/python3.7/site-packages/jupyter_contrib_nbextensions/nbextensions/addbefore -> addbefore\n",
      "\u001b[32m[I 16:16:59 InstallContribNbextensionsApp]\u001b[m Up to date: /home/ubuntu/.local/share/jupyter/nbextensions/addbefore/main.js\n",
      "\u001b[32m[I 16:16:59 InstallContribNbextensionsApp]\u001b[m Up to date: /home/ubuntu/.local/share/jupyter/nbextensions/addbefore/readme.md\n",
      "\u001b[32m[I 16:16:59 InstallContribNbextensionsApp]\u001b[m Up to date: /home/ubuntu/.local/share/jupyter/nbextensions/addbefore/icon.png\n",
      "\u001b[32m[I 16:16:59 InstallContribNbextensionsApp]\u001b[m Up to date: /home/ubuntu/.local/share/jupyter/nbextensions/addbefore/addbefore.yaml\n",
      "\u001b[32m[I 16:16:59 InstallContribNbextensionsApp]\u001b[m - Validating: \u001b[32mOK\u001b[0m\n",
      "\u001b[32m[I 16:16:59 InstallContribNbextensionsApp]\u001b[m Installing /home/ubuntu/anaconda3/lib/python3.7/site-packages/jupyter_contrib_nbextensions/nbextensions/notify -> notify\n",
      "\u001b[32m[I 16:16:59 InstallContribNbextensionsApp]\u001b[m Up to date: /home/ubuntu/.local/share/jupyter/nbextensions/notify/notify.js\n",
      "\u001b[32m[I 16:16:59 InstallContribNbextensionsApp]\u001b[m Up to date: /home/ubuntu/.local/share/jupyter/nbextensions/notify/notify.yaml\n",
      "\u001b[32m[I 16:16:59 InstallContribNbextensionsApp]\u001b[m Up to date: /home/ubuntu/.local/share/jupyter/nbextensions/notify/notification.png\n",
      "\u001b[32m[I 16:16:59 InstallContribNbextensionsApp]\u001b[m Up to date: /home/ubuntu/.local/share/jupyter/nbextensions/notify/readme.md\n",
      "\u001b[32m[I 16:16:59 InstallContribNbextensionsApp]\u001b[m Up to date: /home/ubuntu/.local/share/jupyter/nbextensions/notify/notify.mp3\n",
      "\u001b[32m[I 16:16:59 InstallContribNbextensionsApp]\u001b[m - Validating: \u001b[32mOK\u001b[0m\n",
      "\u001b[32m[I 16:16:59 InstallContribNbextensionsApp]\u001b[m Installing /home/ubuntu/anaconda3/lib/python3.7/site-packages/jupyter_contrib_nbextensions/nbextensions/skill -> skill\n",
      "\u001b[32m[I 16:16:59 InstallContribNbextensionsApp]\u001b[m Up to date: /home/ubuntu/.local/share/jupyter/nbextensions/skill/skill.yaml\n",
      "\u001b[32m[I 16:16:59 InstallContribNbextensionsApp]\u001b[m Up to date: /home/ubuntu/.local/share/jupyter/nbextensions/skill/skill.js\n",
      "\u001b[32m[I 16:16:59 InstallContribNbextensionsApp]\u001b[m Up to date: /home/ubuntu/.local/share/jupyter/nbextensions/skill/README.md\n",
      "\u001b[32m[I 16:16:59 InstallContribNbextensionsApp]\u001b[m Up to date: /home/ubuntu/.local/share/jupyter/nbextensions/skill/main.js\n",
      "\u001b[32m[I 16:16:59 InstallContribNbextensionsApp]\u001b[m - Validating: \u001b[32mOK\u001b[0m\n",
      "\u001b[32m[I 16:16:59 InstallContribNbextensionsApp]\u001b[m Installing /home/ubuntu/anaconda3/lib/python3.7/site-packages/jupyter_contrib_nbextensions/nbextensions/init_cell -> init_cell\n",
      "\u001b[32m[I 16:16:59 InstallContribNbextensionsApp]\u001b[m Up to date: /home/ubuntu/.local/share/jupyter/nbextensions/init_cell/init_cell.yaml\n",
      "\u001b[32m[I 16:16:59 InstallContribNbextensionsApp]\u001b[m Up to date: /home/ubuntu/.local/share/jupyter/nbextensions/init_cell/README.md\n",
      "\u001b[32m[I 16:16:59 InstallContribNbextensionsApp]\u001b[m Up to date: /home/ubuntu/.local/share/jupyter/nbextensions/init_cell/main.js\n",
      "\u001b[32m[I 16:16:59 InstallContribNbextensionsApp]\u001b[m Up to date: /home/ubuntu/.local/share/jupyter/nbextensions/init_cell/cell_toolbar_menu.png\n",
      "\u001b[32m[I 16:16:59 InstallContribNbextensionsApp]\u001b[m Up to date: /home/ubuntu/.local/share/jupyter/nbextensions/init_cell/icon.png\n",
      "\u001b[32m[I 16:16:59 InstallContribNbextensionsApp]\u001b[m - Validating: \u001b[32mOK\u001b[0m\n",
      "\u001b[32m[I 16:16:59 InstallContribNbextensionsApp]\u001b[m Installing /home/ubuntu/anaconda3/lib/python3.7/site-packages/jupyter_contrib_nbextensions/nbextensions/python-markdown -> python-markdown\n",
      "\u001b[32m[I 16:16:59 InstallContribNbextensionsApp]\u001b[m Up to date: /home/ubuntu/.local/share/jupyter/nbextensions/python-markdown/main.css\n",
      "\u001b[32m[I 16:16:59 InstallContribNbextensionsApp]\u001b[m Up to date: /home/ubuntu/.local/share/jupyter/nbextensions/python-markdown/python-markdown-post.png\n",
      "\u001b[32m[I 16:16:59 InstallContribNbextensionsApp]\u001b[m Up to date: /home/ubuntu/.local/share/jupyter/nbextensions/python-markdown/python-markdown-pre.png\n",
      "\u001b[32m[I 16:16:59 InstallContribNbextensionsApp]\u001b[m Up to date: /home/ubuntu/.local/share/jupyter/nbextensions/python-markdown/python-markdown.png\n",
      "\u001b[32m[I 16:16:59 InstallContribNbextensionsApp]\u001b[m Up to date: /home/ubuntu/.local/share/jupyter/nbextensions/python-markdown/trusted.png\n",
      "\u001b[32m[I 16:16:59 InstallContribNbextensionsApp]\u001b[m Up to date: /home/ubuntu/.local/share/jupyter/nbextensions/python-markdown/untrusted.png\n",
      "\u001b[32m[I 16:16:59 InstallContribNbextensionsApp]\u001b[m Up to date: /home/ubuntu/.local/share/jupyter/nbextensions/python-markdown/main.js\n",
      "\u001b[32m[I 16:16:59 InstallContribNbextensionsApp]\u001b[m Up to date: /home/ubuntu/.local/share/jupyter/nbextensions/python-markdown/python-markdown.yaml\n",
      "\u001b[32m[I 16:16:59 InstallContribNbextensionsApp]\u001b[m Up to date: /home/ubuntu/.local/share/jupyter/nbextensions/python-markdown/readme.md\n",
      "\u001b[32m[I 16:16:59 InstallContribNbextensionsApp]\u001b[m - Validating: \u001b[32mOK\u001b[0m\n",
      "\u001b[32m[I 16:16:59 InstallContribNbextensionsApp]\u001b[m Installing /home/ubuntu/anaconda3/lib/python3.7/site-packages/jupyter_contrib_nbextensions/nbextensions/load_tex_macros -> load_tex_macros\n",
      "\u001b[32m[I 16:16:59 InstallContribNbextensionsApp]\u001b[m Up to date: /home/ubuntu/.local/share/jupyter/nbextensions/load_tex_macros/main.js\n",
      "\u001b[32m[I 16:16:59 InstallContribNbextensionsApp]\u001b[m Up to date: /home/ubuntu/.local/share/jupyter/nbextensions/load_tex_macros/readme.md\n",
      "\u001b[32m[I 16:16:59 InstallContribNbextensionsApp]\u001b[m Up to date: /home/ubuntu/.local/share/jupyter/nbextensions/load_tex_macros/icon.png\n",
      "\u001b[32m[I 16:16:59 InstallContribNbextensionsApp]\u001b[m Up to date: /home/ubuntu/.local/share/jupyter/nbextensions/load_tex_macros/load_tex_macros.yaml\n",
      "\u001b[32m[I 16:16:59 InstallContribNbextensionsApp]\u001b[m - Validating: \u001b[32mOK\u001b[0m\n",
      "\u001b[32m[I 16:16:59 InstallContribNbextensionsApp]\u001b[m Installing /home/ubuntu/anaconda3/lib/python3.7/site-packages/jupyter_contrib_nbextensions/nbextensions/move_selected_cells -> move_selected_cells\n",
      "\u001b[32m[I 16:16:59 InstallContribNbextensionsApp]\u001b[m Up to date: /home/ubuntu/.local/share/jupyter/nbextensions/move_selected_cells/move_selected_cells.yaml\n",
      "\u001b[32m[I 16:16:59 InstallContribNbextensionsApp]\u001b[m Up to date: /home/ubuntu/.local/share/jupyter/nbextensions/move_selected_cells/README.md\n",
      "\u001b[32m[I 16:16:59 InstallContribNbextensionsApp]\u001b[m Up to date: /home/ubuntu/.local/share/jupyter/nbextensions/move_selected_cells/main.js\n",
      "\u001b[32m[I 16:16:59 InstallContribNbextensionsApp]\u001b[m - Validating: \u001b[32mOK\u001b[0m\n",
      "\u001b[32m[I 16:16:59 InstallContribNbextensionsApp]\u001b[m Installing /home/ubuntu/anaconda3/lib/python3.7/site-packages/jupyter_contrib_nbextensions/nbextensions/exercise2 -> exercise2\n",
      "\u001b[32m[I 16:16:59 InstallContribNbextensionsApp]\u001b[m Up to date: /home/ubuntu/.local/share/jupyter/nbextensions/exercise2/main.css\n",
      "\u001b[32m[I 16:16:59 InstallContribNbextensionsApp]\u001b[m Up to date: /home/ubuntu/.local/share/jupyter/nbextensions/exercise2/exercise2.yaml\n",
      "\u001b[32m[I 16:16:59 InstallContribNbextensionsApp]\u001b[m Up to date: /home/ubuntu/.local/share/jupyter/nbextensions/exercise2/image.gif\n",
      "\u001b[32m[I 16:16:59 InstallContribNbextensionsApp]\u001b[m Up to date: /home/ubuntu/.local/share/jupyter/nbextensions/exercise2/main.js\n",
      "\u001b[32m[I 16:16:59 InstallContribNbextensionsApp]\u001b[m Up to date: /home/ubuntu/.local/share/jupyter/nbextensions/exercise2/readme.md\n",
      "\u001b[32m[I 16:16:59 InstallContribNbextensionsApp]\u001b[m Up to date: /home/ubuntu/.local/share/jupyter/nbextensions/exercise2/icon.png\n",
      "\u001b[32m[I 16:16:59 InstallContribNbextensionsApp]\u001b[m - Validating: \u001b[32mOK\u001b[0m\n",
      "\u001b[32m[I 16:16:59 InstallContribNbextensionsApp]\u001b[m Installing /home/ubuntu/anaconda3/lib/python3.7/site-packages/jupyter_contrib_nbextensions/nbextensions/snippets -> snippets\n",
      "\u001b[32m[I 16:16:59 InstallContribNbextensionsApp]\u001b[m Up to date: /home/ubuntu/.local/share/jupyter/nbextensions/snippets/snippets-demo.gif\n",
      "\u001b[32m[I 16:16:59 InstallContribNbextensionsApp]\u001b[m Up to date: /home/ubuntu/.local/share/jupyter/nbextensions/snippets/snippets.json\n",
      "\u001b[32m[I 16:16:59 InstallContribNbextensionsApp]\u001b[m Up to date: /home/ubuntu/.local/share/jupyter/nbextensions/snippets/README.md\n",
      "\u001b[32m[I 16:16:59 InstallContribNbextensionsApp]\u001b[m Up to date: /home/ubuntu/.local/share/jupyter/nbextensions/snippets/snippets.yaml\n",
      "\u001b[32m[I 16:16:59 InstallContribNbextensionsApp]\u001b[m Up to date: /home/ubuntu/.local/share/jupyter/nbextensions/snippets/main.js\n",
      "\u001b[32m[I 16:16:59 InstallContribNbextensionsApp]\u001b[m - Validating: \u001b[32mOK\u001b[0m\n",
      "\u001b[32m[I 16:16:59 InstallContribNbextensionsApp]\u001b[m Installing /home/ubuntu/anaconda3/lib/python3.7/site-packages/jupyter_highlight_selected_word/static/highlight_selected_word -> highlight_selected_word\n",
      "\u001b[32m[I 16:16:59 InstallContribNbextensionsApp]\u001b[m Up to date: /home/ubuntu/.local/share/jupyter/nbextensions/highlight_selected_word/configurator.yaml\n",
      "\u001b[32m[I 16:16:59 InstallContribNbextensionsApp]\u001b[m Up to date: /home/ubuntu/.local/share/jupyter/nbextensions/highlight_selected_word/README.md\n",
      "\u001b[32m[I 16:16:59 InstallContribNbextensionsApp]\u001b[m Up to date: /home/ubuntu/.local/share/jupyter/nbextensions/highlight_selected_word/main.js\n",
      "\u001b[32m[I 16:16:59 InstallContribNbextensionsApp]\u001b[m - Validating: \u001b[32mOK\u001b[0m\n",
      "\u001b[32m[I 16:16:59 InstallContribNbextensionsApp]\u001b[m Installing /home/ubuntu/anaconda3/lib/python3.7/site-packages/latex_envs/static -> latex_envs\n",
      "\u001b[32m[I 16:16:59 InstallContribNbextensionsApp]\u001b[m Up to date: /home/ubuntu/.local/share/jupyter/nbextensions/latex_envs/bibtex2.js\n",
      "\u001b[32m[I 16:16:59 InstallContribNbextensionsApp]\u001b[m Up to date: /home/ubuntu/.local/share/jupyter/nbextensions/latex_envs/latex_envs.js\n",
      "\u001b[32m[I 16:16:59 InstallContribNbextensionsApp]\u001b[m Up to date: /home/ubuntu/.local/share/jupyter/nbextensions/latex_envs/envsLatex.js\n",
      "\u001b[32m[I 16:16:59 InstallContribNbextensionsApp]\u001b[m Up to date: /home/ubuntu/.local/share/jupyter/nbextensions/latex_envs/example.png\n",
      "\u001b[32m[I 16:16:59 InstallContribNbextensionsApp]\u001b[m Up to date: /home/ubuntu/.local/share/jupyter/nbextensions/latex_envs/latex_envs.yaml\n",
      "\u001b[32m[I 16:16:59 InstallContribNbextensionsApp]\u001b[m Up to date: /home/ubuntu/.local/share/jupyter/nbextensions/latex_envs/thmsInNb4.js\n",
      "\u001b[32m[I 16:16:59 InstallContribNbextensionsApp]\u001b[m Up to date: /home/ubuntu/.local/share/jupyter/nbextensions/latex_envs/bibInNb4.js\n",
      "\u001b[32m[I 16:16:59 InstallContribNbextensionsApp]\u001b[m Up to date: /home/ubuntu/.local/share/jupyter/nbextensions/latex_envs/configuration_toolbar.png\n",
      "\u001b[32m[I 16:16:59 InstallContribNbextensionsApp]\u001b[m Up to date: /home/ubuntu/.local/share/jupyter/nbextensions/latex_envs/README.md\n",
      "\u001b[32m[I 16:16:59 InstallContribNbextensionsApp]\u001b[m Up to date: /home/ubuntu/.local/share/jupyter/nbextensions/latex_envs/main_toolbar.png\n",
      "\u001b[32m[I 16:16:59 InstallContribNbextensionsApp]\u001b[m Up to date: /home/ubuntu/.local/share/jupyter/nbextensions/latex_envs/example_user_envs.json\n",
      "\u001b[32m[I 16:16:59 InstallContribNbextensionsApp]\u001b[m Up to date: /home/ubuntu/.local/share/jupyter/nbextensions/latex_envs/envsLatex.json\n",
      "\u001b[32m[I 16:16:59 InstallContribNbextensionsApp]\u001b[m Up to date: /home/ubuntu/.local/share/jupyter/nbextensions/latex_envs/icon.png\n",
      "\u001b[32m[I 16:16:59 InstallContribNbextensionsApp]\u001b[m Up to date: /home/ubuntu/.local/share/jupyter/nbextensions/latex_envs/initNb.js\n",
      "\u001b[32m[I 16:16:59 InstallContribNbextensionsApp]\u001b[m Up to date: /home/ubuntu/.local/share/jupyter/nbextensions/latex_envs/latex_envs.css\n",
      "\u001b[32m[I 16:16:59 InstallContribNbextensionsApp]\u001b[m Up to date: /home/ubuntu/.local/share/jupyter/nbextensions/latex_envs/doc/latex_env_doc.ipynb\n",
      "\u001b[32m[I 16:16:59 InstallContribNbextensionsApp]\u001b[m Up to date: /home/ubuntu/.local/share/jupyter/nbextensions/latex_envs/doc/IEEEtran.bst\n",
      "\u001b[32m[I 16:16:59 InstallContribNbextensionsApp]\u001b[m Up to date: /home/ubuntu/.local/share/jupyter/nbextensions/latex_envs/doc/LaTeX_envs_menu.png\n",
      "\u001b[32m[I 16:16:59 InstallContribNbextensionsApp]\u001b[m Up to date: /home/ubuntu/.local/share/jupyter/nbextensions/latex_envs/doc/latex_env_doc.html\n",
      "\u001b[32m[I 16:16:59 InstallContribNbextensionsApp]\u001b[m Up to date: /home/ubuntu/.local/share/jupyter/nbextensions/latex_envs/doc/documentation.tex\n",
      "\u001b[32m[I 16:16:59 InstallContribNbextensionsApp]\u001b[m Up to date: /home/ubuntu/.local/share/jupyter/nbextensions/latex_envs/doc/Toggles.png\n",
      "\u001b[32m[I 16:16:59 InstallContribNbextensionsApp]\u001b[m Up to date: /home/ubuntu/.local/share/jupyter/nbextensions/latex_envs/doc/example.png\n",
      "\u001b[32m[I 16:16:59 InstallContribNbextensionsApp]\u001b[m Up to date: /home/ubuntu/.local/share/jupyter/nbextensions/latex_envs/doc/config_toolbar.png\n",
      "\u001b[32m[I 16:16:59 InstallContribNbextensionsApp]\u001b[m Up to date: /home/ubuntu/.local/share/jupyter/nbextensions/latex_envs/doc/documentation.pdf\n",
      "\u001b[32m[I 16:16:59 InstallContribNbextensionsApp]\u001b[m Up to date: /home/ubuntu/.local/share/jupyter/nbextensions/latex_envs/doc/biblio_ipython.bib\n",
      "\u001b[32m[I 16:16:59 InstallContribNbextensionsApp]\u001b[m Up to date: /home/ubuntu/.local/share/jupyter/nbextensions/latex_envs/doc/latex_env_doc.tex\n",
      "\u001b[32m[I 16:16:59 InstallContribNbextensionsApp]\u001b[m Up to date: /home/ubuntu/.local/share/jupyter/nbextensions/latex_envs/doc/configuration_toolbar.png\n",
      "\u001b[32m[I 16:16:59 InstallContribNbextensionsApp]\u001b[m Up to date: /home/ubuntu/.local/share/jupyter/nbextensions/latex_envs/doc/README.md\n",
      "\u001b[32m[I 16:16:59 InstallContribNbextensionsApp]\u001b[m Up to date: /home/ubuntu/.local/share/jupyter/nbextensions/latex_envs/doc/main_toolbar.png\n",
      "\u001b[32m[I 16:16:59 InstallContribNbextensionsApp]\u001b[m Up to date: /home/ubuntu/.local/share/jupyter/nbextensions/latex_envs/doc/header.tex\n",
      "\u001b[32m[I 16:16:59 InstallContribNbextensionsApp]\u001b[m Up to date: /home/ubuntu/.local/share/jupyter/nbextensions/latex_envs/doc/latex_env_doc_files/latex_env_doc_26_2.png\n",
      "\u001b[32m[I 16:16:59 InstallContribNbextensionsApp]\u001b[m Up to date: /home/ubuntu/.local/share/jupyter/nbextensions/latex_envs/doc/latex_env_doc_files/latex_env_doc_47_0.png\n",
      "\u001b[32m[I 16:16:59 InstallContribNbextensionsApp]\u001b[m Up to date: /home/ubuntu/.local/share/jupyter/nbextensions/latex_envs/doc/latex_env_doc_files/latex_env_doc_52_0.png\n",
      "\u001b[32m[I 16:16:59 InstallContribNbextensionsApp]\u001b[m Up to date: /home/ubuntu/.local/share/jupyter/nbextensions/latex_envs/doc/latex_env_doc_files/latex_env_doc_48_0.png\n",
      "\u001b[32m[I 16:16:59 InstallContribNbextensionsApp]\u001b[m Up to date: /home/ubuntu/.local/share/jupyter/nbextensions/latex_envs/doc/latex_env_doc_files/latex_env_doc_51_0.png\n",
      "\u001b[32m[I 16:16:59 InstallContribNbextensionsApp]\u001b[m Up to date: /home/ubuntu/.local/share/jupyter/nbextensions/latex_envs/doc/latex_env_doc_files/latex_env_doc_49_0.png\n",
      "\u001b[32m[I 16:16:59 InstallContribNbextensionsApp]\u001b[m Up to date: /home/ubuntu/.local/share/jupyter/nbextensions/latex_envs/doc/latex_env_doc_files/latex_env_doc_44_0.png\n",
      "\u001b[32m[I 16:16:59 InstallContribNbextensionsApp]\u001b[m Up to date: /home/ubuntu/.local/share/jupyter/nbextensions/latex_envs/doc/latex_env_doc_files/latex_env_doc_50_0.png\n",
      "\u001b[32m[I 16:16:59 InstallContribNbextensionsApp]\u001b[m Up to date: /home/ubuntu/.local/share/jupyter/nbextensions/latex_envs/doc/latex_env_doc_files/latex_env_doc_45_0.png\n",
      "\u001b[32m[I 16:16:59 InstallContribNbextensionsApp]\u001b[m Up to date: /home/ubuntu/.local/share/jupyter/nbextensions/latex_envs/doc/latex_env_doc_files/latex_env_doc_42_0.png\n",
      "\u001b[32m[I 16:16:59 InstallContribNbextensionsApp]\u001b[m Up to date: /home/ubuntu/.local/share/jupyter/nbextensions/latex_envs/doc/latex_env_doc_files/latex_env_doc_43_0.png\n",
      "\u001b[32m[I 16:16:59 InstallContribNbextensionsApp]\u001b[m Up to date: /home/ubuntu/.local/share/jupyter/nbextensions/latex_envs/doc/latex_env_doc_files/latex_env_doc_46_0.png\n",
      "\u001b[32m[I 16:16:59 InstallContribNbextensionsApp]\u001b[m Up to date: /home/ubuntu/.local/share/jupyter/nbextensions/latex_envs/doc/latex_env_doc_files/latex_env_doc_27_2.png\n",
      "\u001b[32m[I 16:16:59 InstallContribNbextensionsApp]\u001b[m Up to date: /home/ubuntu/.local/share/jupyter/nbextensions/latex_envs/doc/latex_env_doc_files/latex_env_doc_41_0.png\n",
      "\u001b[32m[I 16:16:59 InstallContribNbextensionsApp]\u001b[m Up to date: /home/ubuntu/.local/share/jupyter/nbextensions/latex_envs/doc/latex_env_doc_files/latex_env_doc_24_2.png\n",
      "\u001b[32m[I 16:16:59 InstallContribNbextensionsApp]\u001b[m Up to date: /home/ubuntu/.local/share/jupyter/nbextensions/latex_envs/doc/latex_env_doc_files/latex_env_doc_23_2.png\n",
      "\u001b[32m[I 16:16:59 InstallContribNbextensionsApp]\u001b[m Up to date: /home/ubuntu/.local/share/jupyter/nbextensions/latex_envs/doc/.ipynb_checkpoints/latex_env_doc-checkpoint.ipynb\n",
      "\u001b[32m[I 16:16:59 InstallContribNbextensionsApp]\u001b[m - Validating: \u001b[32mOK\u001b[0m\n",
      "\u001b[32m[I 16:16:59 InstallContribNbextensionsApp]\u001b[m Installing jupyter_contrib_nbextensions items to config in /home/ubuntu/.jupyter\n",
      "Enabling: jupyter_nbextensions_configurator\n",
      "- Writing config: /home/ubuntu/.jupyter\n",
      "    - Validating...\n",
      "      jupyter_nbextensions_configurator 0.4.1 \u001b[32mOK\u001b[0m\n",
      "Enabling notebook nbextension nbextensions_configurator/config_menu/main...\n",
      "Enabling tree nbextension nbextensions_configurator/tree_tab/main...\n",
      "\u001b[32m[I 16:16:59 InstallContribNbextensionsApp]\u001b[m Enabling notebook extension contrib_nbextensions_help_item/main...\n",
      "\u001b[32m[I 16:16:59 InstallContribNbextensionsApp]\u001b[m       - Validating: \u001b[32mOK\u001b[0m\n",
      "\u001b[32m[I 16:16:59 InstallContribNbextensionsApp]\u001b[m - Editing config: /home/ubuntu/.jupyter/jupyter_nbconvert_config.json\n",
      "\u001b[32m[I 16:16:59 InstallContribNbextensionsApp]\u001b[m --  Configuring nbconvert template path\n",
      "\u001b[32m[I 16:16:59 InstallContribNbextensionsApp]\u001b[m --  Configuring nbconvert preprocessors\n",
      "\u001b[32m[I 16:16:59 InstallContribNbextensionsApp]\u001b[m - Writing config: /home/ubuntu/.jupyter/jupyter_nbconvert_config.json\n",
      "\u001b[32m[I 16:16:59 InstallContribNbextensionsApp]\u001b[m --  Writing updated config file /home/ubuntu/.jupyter/jupyter_nbconvert_config.json\n",
      "Enabling notebook extension execute_time/ExecuteTime...\n",
      "      - Validating: \u001b[32mOK\u001b[0m\n"
     ]
    }
   ],
   "source": [
    "!pip install jupyter_contrib_nbextensions\n",
    "!jupyter contrib nbextension install --user\n",
    "!jupyter nbextension enable execute_time/ExecuteTime"
   ]
  },
  {
   "cell_type": "code",
   "execution_count": 2,
   "metadata": {},
   "outputs": [],
   "source": [
    "from src.model import *"
   ]
  },
  {
   "cell_type": "code",
   "execution_count": 3,
   "metadata": {},
   "outputs": [
    {
     "data": {
      "application/vnd.jupyter.widget-view+json": {
       "model_id": "4c9211b21683402fac265eed755f2d06",
       "version_major": 2,
       "version_minor": 0
      },
      "text/plain": [
       "HBox(children=(FloatProgress(value=1.0, bar_style='info', max=1.0), HTML(value='')))"
      ]
     },
     "metadata": {},
     "output_type": "display_data"
    },
    {
     "name": "stdout",
     "output_type": "stream",
     "text": [
      "\n"
     ]
    }
   ],
   "source": [
    "SPECTRA_DIR = 'Bruker_MPA/*'\n",
    "\n",
    "AFSIS_PATH = Path('afsis/2009-2013/Dry_Chemistry/ICRAF/')\n",
    "\n",
    "spectra_df = load_spectra_df(SPECTRA_DIR, AFSIS_PATH)\n"
   ]
  },
  {
   "cell_type": "code",
   "execution_count": 4,
   "metadata": {},
   "outputs": [
    {
     "data": {
      "text/html": [
       "<div>\n",
       "<style scoped>\n",
       "    .dataframe tbody tr th:only-of-type {\n",
       "        vertical-align: middle;\n",
       "    }\n",
       "\n",
       "    .dataframe tbody tr th {\n",
       "        vertical-align: top;\n",
       "    }\n",
       "\n",
       "    .dataframe thead th {\n",
       "        text-align: right;\n",
       "    }\n",
       "</style>\n",
       "<table border=\"1\" class=\"dataframe\">\n",
       "  <thead>\n",
       "    <tr style=\"text-align: right;\">\n",
       "      <th></th>\n",
       "      <th>SSN</th>\n",
       "      <th>Public</th>\n",
       "      <th>EC</th>\n",
       "      <th>ExAc</th>\n",
       "      <th>ExBas</th>\n",
       "      <th>M3 Al</th>\n",
       "      <th>M3 B</th>\n",
       "      <th>M3 Ca</th>\n",
       "      <th>M3 Cu</th>\n",
       "      <th>M3 Fe</th>\n",
       "      <th>M3 K</th>\n",
       "      <th>M3 Mg</th>\n",
       "      <th>M3 Mn</th>\n",
       "      <th>M3 Na</th>\n",
       "      <th>M3 P</th>\n",
       "      <th>M3 S</th>\n",
       "      <th>M3 Zn</th>\n",
       "      <th>PH</th>\n",
       "      <th>PSI</th>\n",
       "    </tr>\n",
       "  </thead>\n",
       "  <tbody>\n",
       "    <tr>\n",
       "      <th>0</th>\n",
       "      <td>icr006475</td>\n",
       "      <td>True</td>\n",
       "      <td>0.053</td>\n",
       "      <td>2.56</td>\n",
       "      <td>2.744241</td>\n",
       "      <td>1095.0</td>\n",
       "      <td>0.3337</td>\n",
       "      <td>207.1</td>\n",
       "      <td>1.3150</td>\n",
       "      <td>153.70</td>\n",
       "      <td>306.30</td>\n",
       "      <td>89.5</td>\n",
       "      <td>9.266</td>\n",
       "      <td>42.71</td>\n",
       "      <td>4.495</td>\n",
       "      <td>18.960</td>\n",
       "      <td>2.825</td>\n",
       "      <td>4.682</td>\n",
       "      <td>67.052495</td>\n",
       "    </tr>\n",
       "    <tr>\n",
       "      <th>1</th>\n",
       "      <td>icr006586</td>\n",
       "      <td>True</td>\n",
       "      <td>0.193</td>\n",
       "      <td>0.59</td>\n",
       "      <td>16.797753</td>\n",
       "      <td>1165.0</td>\n",
       "      <td>0.7899</td>\n",
       "      <td>1665.0</td>\n",
       "      <td>2.8140</td>\n",
       "      <td>126.80</td>\n",
       "      <td>1186.00</td>\n",
       "      <td>636.7</td>\n",
       "      <td>254.700</td>\n",
       "      <td>40.83</td>\n",
       "      <td>12.510</td>\n",
       "      <td>13.600</td>\n",
       "      <td>1.952</td>\n",
       "      <td>7.062</td>\n",
       "      <td>30.420552</td>\n",
       "    </tr>\n",
       "    <tr>\n",
       "      <th>2</th>\n",
       "      <td>icr007929</td>\n",
       "      <td>True</td>\n",
       "      <td>0.305</td>\n",
       "      <td>0.19</td>\n",
       "      <td>16.503619</td>\n",
       "      <td>727.6</td>\n",
       "      <td>0.6142</td>\n",
       "      <td>2518.0</td>\n",
       "      <td>0.2496</td>\n",
       "      <td>260.40</td>\n",
       "      <td>72.57</td>\n",
       "      <td>428.5</td>\n",
       "      <td>35.820</td>\n",
       "      <td>42.94</td>\n",
       "      <td>21.090</td>\n",
       "      <td>14.810</td>\n",
       "      <td>2.742</td>\n",
       "      <td>7.114</td>\n",
       "      <td>60.506163</td>\n",
       "    </tr>\n",
       "    <tr>\n",
       "      <th>3</th>\n",
       "      <td>icr008008</td>\n",
       "      <td>True</td>\n",
       "      <td>0.053</td>\n",
       "      <td>0.48</td>\n",
       "      <td>6.302775</td>\n",
       "      <td>1458.0</td>\n",
       "      <td>0.3603</td>\n",
       "      <td>734.3</td>\n",
       "      <td>1.3690</td>\n",
       "      <td>134.10</td>\n",
       "      <td>274.60</td>\n",
       "      <td>222.5</td>\n",
       "      <td>29.110</td>\n",
       "      <td>20.73</td>\n",
       "      <td>109.200</td>\n",
       "      <td>11.400</td>\n",
       "      <td>0.980</td>\n",
       "      <td>5.650</td>\n",
       "      <td>51.470143</td>\n",
       "    </tr>\n",
       "    <tr>\n",
       "      <th>4</th>\n",
       "      <td>icr010198</td>\n",
       "      <td>True</td>\n",
       "      <td>0.032</td>\n",
       "      <td>1.05</td>\n",
       "      <td>2.390303</td>\n",
       "      <td>2166.0</td>\n",
       "      <td>0.0100</td>\n",
       "      <td>261.8</td>\n",
       "      <td>1.6860</td>\n",
       "      <td>97.49</td>\n",
       "      <td>91.76</td>\n",
       "      <td>76.5</td>\n",
       "      <td>375.200</td>\n",
       "      <td>49.31</td>\n",
       "      <td>3.958</td>\n",
       "      <td>5.281</td>\n",
       "      <td>1.258</td>\n",
       "      <td>5.501</td>\n",
       "      <td>247.626533</td>\n",
       "    </tr>\n",
       "  </tbody>\n",
       "</table>\n",
       "</div>"
      ],
      "text/plain": [
       "         SSN  Public     EC  ExAc      ExBas   M3 Al    M3 B   M3 Ca   M3 Cu  \\\n",
       "0  icr006475    True  0.053  2.56   2.744241  1095.0  0.3337   207.1  1.3150   \n",
       "1  icr006586    True  0.193  0.59  16.797753  1165.0  0.7899  1665.0  2.8140   \n",
       "2  icr007929    True  0.305  0.19  16.503619   727.6  0.6142  2518.0  0.2496   \n",
       "3  icr008008    True  0.053  0.48   6.302775  1458.0  0.3603   734.3  1.3690   \n",
       "4  icr010198    True  0.032  1.05   2.390303  2166.0  0.0100   261.8  1.6860   \n",
       "\n",
       "    M3 Fe     M3 K  M3 Mg    M3 Mn  M3 Na     M3 P    M3 S  M3 Zn     PH  \\\n",
       "0  153.70   306.30   89.5    9.266  42.71    4.495  18.960  2.825  4.682   \n",
       "1  126.80  1186.00  636.7  254.700  40.83   12.510  13.600  1.952  7.062   \n",
       "2  260.40    72.57  428.5   35.820  42.94   21.090  14.810  2.742  7.114   \n",
       "3  134.10   274.60  222.5   29.110  20.73  109.200  11.400  0.980  5.650   \n",
       "4   97.49    91.76   76.5  375.200  49.31    3.958   5.281  1.258  5.501   \n",
       "\n",
       "          PSI  \n",
       "0   67.052495  \n",
       "1   30.420552  \n",
       "2   60.506163  \n",
       "3   51.470143  \n",
       "4  247.626533  "
      ]
     },
     "execution_count": 4,
     "metadata": {},
     "output_type": "execute_result"
    }
   ],
   "source": [
    "wet_chem_df = pd.read_csv('afsis/2009-2013/Wet_Chemistry/CROPNUTS/Wet_Chemistry_CROPNUTS.csv')\n",
    "wet_chem_df.head()"
   ]
  },
  {
   "cell_type": "markdown",
   "metadata": {},
   "source": [
    "focus on elements with known relations"
   ]
  },
  {
   "cell_type": "code",
   "execution_count": 5,
   "metadata": {},
   "outputs": [],
   "source": [
    "WET_CHEM_PATH = 'afsis/2009-2013/Wet_Chemistry/CROPNUTS/Wet_Chemistry_CROPNUTS.csv'\n",
    "elements = ['EC', 'M3 Ca', 'M3 K', 'M3 Mg', 'M3 P', 'PH' ]\n",
    "columns_to_load = elements + ['SSN']\n",
    "\n",
    "\n",
    "wet_chem_df = pd.read_csv(WET_CHEM_PATH, index_col='SSN', usecols=columns_to_load)"
   ]
  },
  {
   "cell_type": "code",
   "execution_count": 6,
   "metadata": {},
   "outputs": [
    {
     "name": "stdout",
     "output_type": "stream",
     "text": [
      "CPU times: user 11 ms, sys: 0 ns, total: 11 ms\n",
      "Wall time: 14.7 ms\n"
     ]
    }
   ],
   "source": [
    "%%time\n",
    "data_df = spectra_df.merge(wet_chem_df, left_index=True, right_index=True)\n"
   ]
  },
  {
   "cell_type": "code",
   "execution_count": 7,
   "metadata": {},
   "outputs": [
    {
     "name": "stdout",
     "output_type": "stream",
     "text": [
      "CPU times: user 54.9 ms, sys: 23.6 ms, total: 78.6 ms\n",
      "Wall time: 77.6 ms\n"
     ]
    },
    {
     "data": {
      "text/plain": [
       "False"
      ]
     },
     "execution_count": 7,
     "metadata": {},
     "output_type": "execute_result"
    }
   ],
   "source": [
    "%%time\n",
    "contains_nan = data_df.isnull().values.any()\n",
    "contains_nan"
   ]
  },
  {
   "cell_type": "code",
   "execution_count": 8,
   "metadata": {},
   "outputs": [
    {
     "data": {
      "text/html": [
       "<div>\n",
       "<style scoped>\n",
       "    .dataframe tbody tr th:only-of-type {\n",
       "        vertical-align: middle;\n",
       "    }\n",
       "\n",
       "    .dataframe tbody tr th {\n",
       "        vertical-align: top;\n",
       "    }\n",
       "\n",
       "    .dataframe thead th {\n",
       "        text-align: right;\n",
       "    }\n",
       "</style>\n",
       "<table border=\"1\" class=\"dataframe\">\n",
       "  <thead>\n",
       "    <tr style=\"text-align: right;\">\n",
       "      <th></th>\n",
       "      <th>12493.177</th>\n",
       "      <th>12489.320</th>\n",
       "      <th>12485.463</th>\n",
       "      <th>12481.606</th>\n",
       "      <th>12477.749</th>\n",
       "      <th>12473.892</th>\n",
       "      <th>12470.034</th>\n",
       "      <th>12466.177</th>\n",
       "      <th>12462.320</th>\n",
       "      <th>12458.463</th>\n",
       "      <th>...</th>\n",
       "      <th>3617.969</th>\n",
       "      <th>3614.111</th>\n",
       "      <th>3610.254</th>\n",
       "      <th>3606.397</th>\n",
       "      <th>3602.540</th>\n",
       "      <th>3598.683</th>\n",
       "      <th>M3 Ca</th>\n",
       "      <th>M3 K</th>\n",
       "      <th>M3 Mg</th>\n",
       "      <th>M3 P</th>\n",
       "    </tr>\n",
       "  </thead>\n",
       "  <tbody>\n",
       "    <tr>\n",
       "      <th>icr049735</th>\n",
       "      <td>0.765804</td>\n",
       "      <td>0.765579</td>\n",
       "      <td>0.776812</td>\n",
       "      <td>0.795354</td>\n",
       "      <td>0.815153</td>\n",
       "      <td>0.827822</td>\n",
       "      <td>0.823997</td>\n",
       "      <td>0.810204</td>\n",
       "      <td>0.802608</td>\n",
       "      <td>0.806628</td>\n",
       "      <td>...</td>\n",
       "      <td>2.836452</td>\n",
       "      <td>2.845037</td>\n",
       "      <td>2.801358</td>\n",
       "      <td>2.664036</td>\n",
       "      <td>2.955150</td>\n",
       "      <td>2.821408</td>\n",
       "      <td>1100.00</td>\n",
       "      <td>1440.000</td>\n",
       "      <td>2250.000</td>\n",
       "      <td>20.100</td>\n",
       "    </tr>\n",
       "    <tr>\n",
       "      <th>icr033851</th>\n",
       "      <td>0.781866</td>\n",
       "      <td>0.782740</td>\n",
       "      <td>0.778067</td>\n",
       "      <td>0.776011</td>\n",
       "      <td>0.785837</td>\n",
       "      <td>0.794327</td>\n",
       "      <td>0.795452</td>\n",
       "      <td>0.796135</td>\n",
       "      <td>0.795599</td>\n",
       "      <td>0.795504</td>\n",
       "      <td>...</td>\n",
       "      <td>2.128170</td>\n",
       "      <td>2.226499</td>\n",
       "      <td>2.363049</td>\n",
       "      <td>2.424301</td>\n",
       "      <td>2.460464</td>\n",
       "      <td>2.437714</td>\n",
       "      <td>4898.32</td>\n",
       "      <td>1311.000</td>\n",
       "      <td>1068.000</td>\n",
       "      <td>3.200</td>\n",
       "    </tr>\n",
       "    <tr>\n",
       "      <th>icr068419</th>\n",
       "      <td>0.462182</td>\n",
       "      <td>0.459072</td>\n",
       "      <td>0.460319</td>\n",
       "      <td>0.461889</td>\n",
       "      <td>0.461745</td>\n",
       "      <td>0.461250</td>\n",
       "      <td>0.464106</td>\n",
       "      <td>0.470280</td>\n",
       "      <td>0.473516</td>\n",
       "      <td>0.472700</td>\n",
       "      <td>...</td>\n",
       "      <td>2.269487</td>\n",
       "      <td>2.307636</td>\n",
       "      <td>2.471763</td>\n",
       "      <td>2.745914</td>\n",
       "      <td>2.518233</td>\n",
       "      <td>2.416593</td>\n",
       "      <td>589.00</td>\n",
       "      <td>54.500</td>\n",
       "      <td>60.200</td>\n",
       "      <td>7.590</td>\n",
       "    </tr>\n",
       "    <tr>\n",
       "      <th>icr010078</th>\n",
       "      <td>0.900252</td>\n",
       "      <td>0.889631</td>\n",
       "      <td>0.893853</td>\n",
       "      <td>0.907193</td>\n",
       "      <td>0.921731</td>\n",
       "      <td>0.927977</td>\n",
       "      <td>0.921417</td>\n",
       "      <td>0.911963</td>\n",
       "      <td>0.908837</td>\n",
       "      <td>0.901939</td>\n",
       "      <td>...</td>\n",
       "      <td>2.596959</td>\n",
       "      <td>2.621600</td>\n",
       "      <td>2.642620</td>\n",
       "      <td>2.516314</td>\n",
       "      <td>2.375122</td>\n",
       "      <td>2.418391</td>\n",
       "      <td>466.20</td>\n",
       "      <td>71.800</td>\n",
       "      <td>106.500</td>\n",
       "      <td>11.180</td>\n",
       "    </tr>\n",
       "    <tr>\n",
       "      <th>icr075696</th>\n",
       "      <td>0.658960</td>\n",
       "      <td>0.654330</td>\n",
       "      <td>0.662424</td>\n",
       "      <td>0.672969</td>\n",
       "      <td>0.670191</td>\n",
       "      <td>0.663969</td>\n",
       "      <td>0.674582</td>\n",
       "      <td>0.691545</td>\n",
       "      <td>0.692512</td>\n",
       "      <td>0.682609</td>\n",
       "      <td>...</td>\n",
       "      <td>2.365294</td>\n",
       "      <td>2.268732</td>\n",
       "      <td>2.149735</td>\n",
       "      <td>2.193754</td>\n",
       "      <td>2.258132</td>\n",
       "      <td>2.280757</td>\n",
       "      <td>389.00</td>\n",
       "      <td>60.800</td>\n",
       "      <td>46.300</td>\n",
       "      <td>5.670</td>\n",
       "    </tr>\n",
       "    <tr>\n",
       "      <th>...</th>\n",
       "      <td>...</td>\n",
       "      <td>...</td>\n",
       "      <td>...</td>\n",
       "      <td>...</td>\n",
       "      <td>...</td>\n",
       "      <td>...</td>\n",
       "      <td>...</td>\n",
       "      <td>...</td>\n",
       "      <td>...</td>\n",
       "      <td>...</td>\n",
       "      <td>...</td>\n",
       "      <td>...</td>\n",
       "      <td>...</td>\n",
       "      <td>...</td>\n",
       "      <td>...</td>\n",
       "      <td>...</td>\n",
       "      <td>...</td>\n",
       "      <td>...</td>\n",
       "      <td>...</td>\n",
       "      <td>...</td>\n",
       "      <td>...</td>\n",
       "    </tr>\n",
       "    <tr>\n",
       "      <th>icr049317</th>\n",
       "      <td>0.577725</td>\n",
       "      <td>0.585054</td>\n",
       "      <td>0.594410</td>\n",
       "      <td>0.599507</td>\n",
       "      <td>0.596028</td>\n",
       "      <td>0.589259</td>\n",
       "      <td>0.583887</td>\n",
       "      <td>0.578564</td>\n",
       "      <td>0.574233</td>\n",
       "      <td>0.576303</td>\n",
       "      <td>...</td>\n",
       "      <td>2.266359</td>\n",
       "      <td>2.198900</td>\n",
       "      <td>2.379056</td>\n",
       "      <td>3.142864</td>\n",
       "      <td>3.147451</td>\n",
       "      <td>3.099391</td>\n",
       "      <td>392.00</td>\n",
       "      <td>49.000</td>\n",
       "      <td>73.700</td>\n",
       "      <td>7.710</td>\n",
       "    </tr>\n",
       "    <tr>\n",
       "      <th>icr030368</th>\n",
       "      <td>0.301494</td>\n",
       "      <td>0.300201</td>\n",
       "      <td>0.299240</td>\n",
       "      <td>0.299279</td>\n",
       "      <td>0.302239</td>\n",
       "      <td>0.304967</td>\n",
       "      <td>0.305884</td>\n",
       "      <td>0.306842</td>\n",
       "      <td>0.306473</td>\n",
       "      <td>0.304401</td>\n",
       "      <td>...</td>\n",
       "      <td>2.108062</td>\n",
       "      <td>2.165118</td>\n",
       "      <td>2.147911</td>\n",
       "      <td>2.130198</td>\n",
       "      <td>2.207439</td>\n",
       "      <td>2.265409</td>\n",
       "      <td>33130.00</td>\n",
       "      <td>55.360</td>\n",
       "      <td>558.000</td>\n",
       "      <td>0.554</td>\n",
       "    </tr>\n",
       "    <tr>\n",
       "      <th>icr033545</th>\n",
       "      <td>0.417591</td>\n",
       "      <td>0.419255</td>\n",
       "      <td>0.421359</td>\n",
       "      <td>0.418838</td>\n",
       "      <td>0.412399</td>\n",
       "      <td>0.409302</td>\n",
       "      <td>0.412396</td>\n",
       "      <td>0.418643</td>\n",
       "      <td>0.422270</td>\n",
       "      <td>0.421899</td>\n",
       "      <td>...</td>\n",
       "      <td>2.528144</td>\n",
       "      <td>2.706835</td>\n",
       "      <td>2.640629</td>\n",
       "      <td>2.687847</td>\n",
       "      <td>2.946014</td>\n",
       "      <td>2.619882</td>\n",
       "      <td>10888.30</td>\n",
       "      <td>1239.000</td>\n",
       "      <td>607.000</td>\n",
       "      <td>11.523</td>\n",
       "    </tr>\n",
       "    <tr>\n",
       "      <th>icr075607</th>\n",
       "      <td>0.339942</td>\n",
       "      <td>0.339147</td>\n",
       "      <td>0.341375</td>\n",
       "      <td>0.342699</td>\n",
       "      <td>0.343420</td>\n",
       "      <td>0.345608</td>\n",
       "      <td>0.346978</td>\n",
       "      <td>0.346391</td>\n",
       "      <td>0.346559</td>\n",
       "      <td>0.345918</td>\n",
       "      <td>...</td>\n",
       "      <td>2.208282</td>\n",
       "      <td>2.124147</td>\n",
       "      <td>2.161024</td>\n",
       "      <td>2.271009</td>\n",
       "      <td>2.336334</td>\n",
       "      <td>2.271137</td>\n",
       "      <td>324.00</td>\n",
       "      <td>78.400</td>\n",
       "      <td>60.800</td>\n",
       "      <td>55.000</td>\n",
       "    </tr>\n",
       "    <tr>\n",
       "      <th>icr034773</th>\n",
       "      <td>0.524614</td>\n",
       "      <td>0.527508</td>\n",
       "      <td>0.525666</td>\n",
       "      <td>0.523025</td>\n",
       "      <td>0.525776</td>\n",
       "      <td>0.532132</td>\n",
       "      <td>0.535092</td>\n",
       "      <td>0.533703</td>\n",
       "      <td>0.532729</td>\n",
       "      <td>0.530701</td>\n",
       "      <td>...</td>\n",
       "      <td>2.339896</td>\n",
       "      <td>3.138012</td>\n",
       "      <td>3.145216</td>\n",
       "      <td>2.545671</td>\n",
       "      <td>2.369565</td>\n",
       "      <td>2.278613</td>\n",
       "      <td>235.30</td>\n",
       "      <td>36.943</td>\n",
       "      <td>57.483</td>\n",
       "      <td>7.595</td>\n",
       "    </tr>\n",
       "  </tbody>\n",
       "</table>\n",
       "<p>1907 rows × 2311 columns</p>\n",
       "</div>"
      ],
      "text/plain": [
       "           12493.177  12489.320  12485.463  12481.606  12477.749  12473.892  \\\n",
       "icr049735   0.765804   0.765579   0.776812   0.795354   0.815153   0.827822   \n",
       "icr033851   0.781866   0.782740   0.778067   0.776011   0.785837   0.794327   \n",
       "icr068419   0.462182   0.459072   0.460319   0.461889   0.461745   0.461250   \n",
       "icr010078   0.900252   0.889631   0.893853   0.907193   0.921731   0.927977   \n",
       "icr075696   0.658960   0.654330   0.662424   0.672969   0.670191   0.663969   \n",
       "...              ...        ...        ...        ...        ...        ...   \n",
       "icr049317   0.577725   0.585054   0.594410   0.599507   0.596028   0.589259   \n",
       "icr030368   0.301494   0.300201   0.299240   0.299279   0.302239   0.304967   \n",
       "icr033545   0.417591   0.419255   0.421359   0.418838   0.412399   0.409302   \n",
       "icr075607   0.339942   0.339147   0.341375   0.342699   0.343420   0.345608   \n",
       "icr034773   0.524614   0.527508   0.525666   0.523025   0.525776   0.532132   \n",
       "\n",
       "           12470.034  12466.177  12462.320  12458.463  ...  3617.969  \\\n",
       "icr049735   0.823997   0.810204   0.802608   0.806628  ...  2.836452   \n",
       "icr033851   0.795452   0.796135   0.795599   0.795504  ...  2.128170   \n",
       "icr068419   0.464106   0.470280   0.473516   0.472700  ...  2.269487   \n",
       "icr010078   0.921417   0.911963   0.908837   0.901939  ...  2.596959   \n",
       "icr075696   0.674582   0.691545   0.692512   0.682609  ...  2.365294   \n",
       "...              ...        ...        ...        ...  ...       ...   \n",
       "icr049317   0.583887   0.578564   0.574233   0.576303  ...  2.266359   \n",
       "icr030368   0.305884   0.306842   0.306473   0.304401  ...  2.108062   \n",
       "icr033545   0.412396   0.418643   0.422270   0.421899  ...  2.528144   \n",
       "icr075607   0.346978   0.346391   0.346559   0.345918  ...  2.208282   \n",
       "icr034773   0.535092   0.533703   0.532729   0.530701  ...  2.339896   \n",
       "\n",
       "           3614.111  3610.254  3606.397  3602.540  3598.683     M3 Ca  \\\n",
       "icr049735  2.845037  2.801358  2.664036  2.955150  2.821408   1100.00   \n",
       "icr033851  2.226499  2.363049  2.424301  2.460464  2.437714   4898.32   \n",
       "icr068419  2.307636  2.471763  2.745914  2.518233  2.416593    589.00   \n",
       "icr010078  2.621600  2.642620  2.516314  2.375122  2.418391    466.20   \n",
       "icr075696  2.268732  2.149735  2.193754  2.258132  2.280757    389.00   \n",
       "...             ...       ...       ...       ...       ...       ...   \n",
       "icr049317  2.198900  2.379056  3.142864  3.147451  3.099391    392.00   \n",
       "icr030368  2.165118  2.147911  2.130198  2.207439  2.265409  33130.00   \n",
       "icr033545  2.706835  2.640629  2.687847  2.946014  2.619882  10888.30   \n",
       "icr075607  2.124147  2.161024  2.271009  2.336334  2.271137    324.00   \n",
       "icr034773  3.138012  3.145216  2.545671  2.369565  2.278613    235.30   \n",
       "\n",
       "               M3 K     M3 Mg    M3 P  \n",
       "icr049735  1440.000  2250.000  20.100  \n",
       "icr033851  1311.000  1068.000   3.200  \n",
       "icr068419    54.500    60.200   7.590  \n",
       "icr010078    71.800   106.500  11.180  \n",
       "icr075696    60.800    46.300   5.670  \n",
       "...             ...       ...     ...  \n",
       "icr049317    49.000    73.700   7.710  \n",
       "icr030368    55.360   558.000   0.554  \n",
       "icr033545  1239.000   607.000  11.523  \n",
       "icr075607    78.400    60.800  55.000  \n",
       "icr034773    36.943    57.483   7.595  \n",
       "\n",
       "[1907 rows x 2311 columns]"
      ]
     },
     "execution_count": 8,
     "metadata": {},
     "output_type": "execute_result"
    }
   ],
   "source": [
    "data_df"
   ]
  },
  {
   "cell_type": "code",
   "execution_count": 11,
   "metadata": {},
   "outputs": [
    {
     "name": "stdout",
     "output_type": "stream",
     "text": [
      "CPU times: user 1.15 ms, sys: 0 ns, total: 1.15 ms\n",
      "Wall time: 1.12 ms\n"
     ]
    }
   ],
   "source": [
    "%%time\n",
    "y = data_df[['M3 Ca', 'M3 K', 'M3 Mg', 'M3 P']]"
   ]
  },
  {
   "cell_type": "code",
   "execution_count": 15,
   "metadata": {},
   "outputs": [
    {
     "name": "stdout",
     "output_type": "stream",
     "text": [
      "CPU times: user 4 µs, sys: 1e+03 ns, total: 5 µs\n",
      "Wall time: 6.68 µs\n"
     ]
    }
   ],
   "source": [
    "%%time\n",
    "if contains_nan:\n",
    "    y_mask = y.notnull()\n",
    "    y = y[y_mask]\n",
    "    X = spectra_df[y_mask]\n",
    "else:\n",
    "    X = spectra_df"
   ]
  },
  {
   "cell_type": "code",
   "execution_count": 16,
   "metadata": {},
   "outputs": [
    {
     "name": "stdout",
     "output_type": "stream",
     "text": [
      "CPU times: user 1 ms, sys: 0 ns, total: 1 ms\n",
      "Wall time: 735 µs\n"
     ]
    }
   ],
   "source": [
    "%%time\n",
    "y = np.log1p(y)"
   ]
  },
  {
   "cell_type": "code",
   "execution_count": 17,
   "metadata": {},
   "outputs": [
    {
     "name": "stdout",
     "output_type": "stream",
     "text": [
      "CPU times: user 69.8 ms, sys: 99 µs, total: 69.9 ms\n",
      "Wall time: 69.1 ms\n"
     ]
    }
   ],
   "source": [
    "%%time\n",
    "X = np.apply_along_axis(np.gradient, 1, X)"
   ]
  },
  {
   "cell_type": "code",
   "execution_count": 18,
   "metadata": {},
   "outputs": [],
   "source": [
    "X_train, X_validate, y_train, y_test = train_test_split(X, y, test_size=0.33, random_state=42)"
   ]
  },
  {
   "cell_type": "code",
   "execution_count": 10,
   "metadata": {
    "collapsed": true,
    "jupyter": {
     "outputs_hidden": true,
     "source_hidden": true
    }
   },
   "outputs": [
    {
     "name": "stdout",
     "output_type": "stream",
     "text": [
      "Training model for M3 K.\n",
      "1907 samples available.\n"
     ]
    },
    {
     "ename": "KeyboardInterrupt",
     "evalue": "",
     "output_type": "error",
     "traceback": [
      "\u001b[0;31m------------------------------------------------------------------------\u001b[0m",
      "\u001b[0;31mKeyboardInterrupt\u001b[0m                      Traceback (most recent call last)",
      "\u001b[0;32m<ipython-input-10-8f270620c532>\u001b[0m in \u001b[0;36m<module>\u001b[0;34m\u001b[0m\n\u001b[1;32m      1\u001b[0m \u001b[0mY_COLUMN\u001b[0m \u001b[0;34m=\u001b[0m \u001b[0;34m'M3 K'\u001b[0m\u001b[0;34m\u001b[0m\u001b[0;34m\u001b[0m\u001b[0m\n\u001b[1;32m      2\u001b[0m \u001b[0;34m\u001b[0m\u001b[0m\n\u001b[0;32m----> 3\u001b[0;31m \u001b[0mm3_k_xgb\u001b[0m \u001b[0;34m=\u001b[0m \u001b[0mbasic_xgboost\u001b[0m\u001b[0;34m(\u001b[0m\u001b[0mspectra_df\u001b[0m\u001b[0;34m,\u001b[0m \u001b[0mWET_CHEM_PATH\u001b[0m\u001b[0;34m,\u001b[0m \u001b[0mY_COLUMN\u001b[0m\u001b[0;34m)\u001b[0m\u001b[0;34m\u001b[0m\u001b[0;34m\u001b[0m\u001b[0m\n\u001b[0m",
      "\u001b[0;32m~/projects/soil_health_prediction/src/model.py\u001b[0m in \u001b[0;36mbasic_xgboost\u001b[0;34m(spectra_df, WET_CHEM_PATH, Y_COLUMN)\u001b[0m\n\u001b[1;32m     52\u001b[0m     \u001b[0mmodel\u001b[0m \u001b[0;34m=\u001b[0m \u001b[0mXGBRegressor\u001b[0m\u001b[0;34m(\u001b[0m\u001b[0mn_estimators\u001b[0m\u001b[0;34m=\u001b[0m\u001b[0;36m500\u001b[0m\u001b[0;34m,\u001b[0m \u001b[0mmin_child_weight\u001b[0m\u001b[0;34m=\u001b[0m\u001b[0;36m20\u001b[0m\u001b[0;34m,\u001b[0m \u001b[0mn_jobs\u001b[0m\u001b[0;34m=\u001b[0m\u001b[0;34m-\u001b[0m\u001b[0;36m1\u001b[0m\u001b[0;34m,\u001b[0m \u001b[0mobjective\u001b[0m\u001b[0;34m=\u001b[0m\u001b[0;34m'reg:squarederror'\u001b[0m\u001b[0;34m)\u001b[0m\u001b[0;34m\u001b[0m\u001b[0;34m\u001b[0m\u001b[0m\n\u001b[1;32m     53\u001b[0m \u001b[0;34m\u001b[0m\u001b[0m\n\u001b[0;32m---> 54\u001b[0;31m     \u001b[0mcv_result\u001b[0m \u001b[0;34m=\u001b[0m \u001b[0mcross_validate\u001b[0m\u001b[0;34m(\u001b[0m\u001b[0mmodel\u001b[0m\u001b[0;34m,\u001b[0m \u001b[0mx\u001b[0m\u001b[0;34m,\u001b[0m \u001b[0my\u001b[0m\u001b[0;34m,\u001b[0m \u001b[0mscoring\u001b[0m\u001b[0;34m=\u001b[0m\u001b[0;34m'r2'\u001b[0m\u001b[0;34m,\u001b[0m \u001b[0mcv\u001b[0m\u001b[0;34m=\u001b[0m\u001b[0mkfold\u001b[0m\u001b[0;34m)\u001b[0m\u001b[0;34m[\u001b[0m\u001b[0;34m'test_score'\u001b[0m\u001b[0;34m]\u001b[0m\u001b[0;34m\u001b[0m\u001b[0;34m\u001b[0m\u001b[0m\n\u001b[0m\u001b[1;32m     55\u001b[0m     \u001b[0mprint\u001b[0m\u001b[0;34m(\u001b[0m\u001b[0;34mf'CV r^2 score: {np.mean(cv_result)}'\u001b[0m\u001b[0;34m)\u001b[0m\u001b[0;34m\u001b[0m\u001b[0;34m\u001b[0m\u001b[0m\n\u001b[1;32m     56\u001b[0m \u001b[0;34m\u001b[0m\u001b[0m\n",
      "\u001b[0;32m~/anaconda3/lib/python3.7/site-packages/sklearn/model_selection/_validation.py\u001b[0m in \u001b[0;36mcross_validate\u001b[0;34m(estimator, X, y, groups, scoring, cv, n_jobs, verbose, fit_params, pre_dispatch, return_train_score, return_estimator, error_score)\u001b[0m\n\u001b[1;32m    234\u001b[0m             \u001b[0mreturn_times\u001b[0m\u001b[0;34m=\u001b[0m\u001b[0;32mTrue\u001b[0m\u001b[0;34m,\u001b[0m \u001b[0mreturn_estimator\u001b[0m\u001b[0;34m=\u001b[0m\u001b[0mreturn_estimator\u001b[0m\u001b[0;34m,\u001b[0m\u001b[0;34m\u001b[0m\u001b[0;34m\u001b[0m\u001b[0m\n\u001b[1;32m    235\u001b[0m             error_score=error_score)\n\u001b[0;32m--> 236\u001b[0;31m         for train, test in cv.split(X, y, groups))\n\u001b[0m\u001b[1;32m    237\u001b[0m \u001b[0;34m\u001b[0m\u001b[0m\n\u001b[1;32m    238\u001b[0m     \u001b[0mzipped_scores\u001b[0m \u001b[0;34m=\u001b[0m \u001b[0mlist\u001b[0m\u001b[0;34m(\u001b[0m\u001b[0mzip\u001b[0m\u001b[0;34m(\u001b[0m\u001b[0;34m*\u001b[0m\u001b[0mscores\u001b[0m\u001b[0;34m)\u001b[0m\u001b[0;34m)\u001b[0m\u001b[0;34m\u001b[0m\u001b[0;34m\u001b[0m\u001b[0m\n",
      "\u001b[0;32m~/anaconda3/lib/python3.7/site-packages/joblib/parallel.py\u001b[0m in \u001b[0;36m__call__\u001b[0;34m(self, iterable)\u001b[0m\n\u001b[1;32m   1002\u001b[0m             \u001b[0;31m# remaining jobs.\u001b[0m\u001b[0;34m\u001b[0m\u001b[0;34m\u001b[0m\u001b[0;34m\u001b[0m\u001b[0m\n\u001b[1;32m   1003\u001b[0m             \u001b[0mself\u001b[0m\u001b[0;34m.\u001b[0m\u001b[0m_iterating\u001b[0m \u001b[0;34m=\u001b[0m \u001b[0;32mFalse\u001b[0m\u001b[0;34m\u001b[0m\u001b[0;34m\u001b[0m\u001b[0m\n\u001b[0;32m-> 1004\u001b[0;31m             \u001b[0;32mif\u001b[0m \u001b[0mself\u001b[0m\u001b[0;34m.\u001b[0m\u001b[0mdispatch_one_batch\u001b[0m\u001b[0;34m(\u001b[0m\u001b[0miterator\u001b[0m\u001b[0;34m)\u001b[0m\u001b[0;34m:\u001b[0m\u001b[0;34m\u001b[0m\u001b[0;34m\u001b[0m\u001b[0m\n\u001b[0m\u001b[1;32m   1005\u001b[0m                 \u001b[0mself\u001b[0m\u001b[0;34m.\u001b[0m\u001b[0m_iterating\u001b[0m \u001b[0;34m=\u001b[0m \u001b[0mself\u001b[0m\u001b[0;34m.\u001b[0m\u001b[0m_original_iterator\u001b[0m \u001b[0;32mis\u001b[0m \u001b[0;32mnot\u001b[0m \u001b[0;32mNone\u001b[0m\u001b[0;34m\u001b[0m\u001b[0;34m\u001b[0m\u001b[0m\n\u001b[1;32m   1006\u001b[0m \u001b[0;34m\u001b[0m\u001b[0m\n",
      "\u001b[0;32m~/anaconda3/lib/python3.7/site-packages/joblib/parallel.py\u001b[0m in \u001b[0;36mdispatch_one_batch\u001b[0;34m(self, iterator)\u001b[0m\n\u001b[1;32m    833\u001b[0m                 \u001b[0;32mreturn\u001b[0m \u001b[0;32mFalse\u001b[0m\u001b[0;34m\u001b[0m\u001b[0;34m\u001b[0m\u001b[0m\n\u001b[1;32m    834\u001b[0m             \u001b[0;32melse\u001b[0m\u001b[0;34m:\u001b[0m\u001b[0;34m\u001b[0m\u001b[0;34m\u001b[0m\u001b[0m\n\u001b[0;32m--> 835\u001b[0;31m                 \u001b[0mself\u001b[0m\u001b[0;34m.\u001b[0m\u001b[0m_dispatch\u001b[0m\u001b[0;34m(\u001b[0m\u001b[0mtasks\u001b[0m\u001b[0;34m)\u001b[0m\u001b[0;34m\u001b[0m\u001b[0;34m\u001b[0m\u001b[0m\n\u001b[0m\u001b[1;32m    836\u001b[0m                 \u001b[0;32mreturn\u001b[0m \u001b[0;32mTrue\u001b[0m\u001b[0;34m\u001b[0m\u001b[0;34m\u001b[0m\u001b[0m\n\u001b[1;32m    837\u001b[0m \u001b[0;34m\u001b[0m\u001b[0m\n",
      "\u001b[0;32m~/anaconda3/lib/python3.7/site-packages/joblib/parallel.py\u001b[0m in \u001b[0;36m_dispatch\u001b[0;34m(self, batch)\u001b[0m\n\u001b[1;32m    752\u001b[0m         \u001b[0;32mwith\u001b[0m \u001b[0mself\u001b[0m\u001b[0;34m.\u001b[0m\u001b[0m_lock\u001b[0m\u001b[0;34m:\u001b[0m\u001b[0;34m\u001b[0m\u001b[0;34m\u001b[0m\u001b[0m\n\u001b[1;32m    753\u001b[0m             \u001b[0mjob_idx\u001b[0m \u001b[0;34m=\u001b[0m \u001b[0mlen\u001b[0m\u001b[0;34m(\u001b[0m\u001b[0mself\u001b[0m\u001b[0;34m.\u001b[0m\u001b[0m_jobs\u001b[0m\u001b[0;34m)\u001b[0m\u001b[0;34m\u001b[0m\u001b[0;34m\u001b[0m\u001b[0m\n\u001b[0;32m--> 754\u001b[0;31m             \u001b[0mjob\u001b[0m \u001b[0;34m=\u001b[0m \u001b[0mself\u001b[0m\u001b[0;34m.\u001b[0m\u001b[0m_backend\u001b[0m\u001b[0;34m.\u001b[0m\u001b[0mapply_async\u001b[0m\u001b[0;34m(\u001b[0m\u001b[0mbatch\u001b[0m\u001b[0;34m,\u001b[0m \u001b[0mcallback\u001b[0m\u001b[0;34m=\u001b[0m\u001b[0mcb\u001b[0m\u001b[0;34m)\u001b[0m\u001b[0;34m\u001b[0m\u001b[0;34m\u001b[0m\u001b[0m\n\u001b[0m\u001b[1;32m    755\u001b[0m             \u001b[0;31m# A job can complete so quickly than its callback is\u001b[0m\u001b[0;34m\u001b[0m\u001b[0;34m\u001b[0m\u001b[0;34m\u001b[0m\u001b[0m\n\u001b[1;32m    756\u001b[0m             \u001b[0;31m# called before we get here, causing self._jobs to\u001b[0m\u001b[0;34m\u001b[0m\u001b[0;34m\u001b[0m\u001b[0;34m\u001b[0m\u001b[0m\n",
      "\u001b[0;32m~/anaconda3/lib/python3.7/site-packages/joblib/_parallel_backends.py\u001b[0m in \u001b[0;36mapply_async\u001b[0;34m(self, func, callback)\u001b[0m\n\u001b[1;32m    207\u001b[0m     \u001b[0;32mdef\u001b[0m \u001b[0mapply_async\u001b[0m\u001b[0;34m(\u001b[0m\u001b[0mself\u001b[0m\u001b[0;34m,\u001b[0m \u001b[0mfunc\u001b[0m\u001b[0;34m,\u001b[0m \u001b[0mcallback\u001b[0m\u001b[0;34m=\u001b[0m\u001b[0;32mNone\u001b[0m\u001b[0;34m)\u001b[0m\u001b[0;34m:\u001b[0m\u001b[0;34m\u001b[0m\u001b[0;34m\u001b[0m\u001b[0m\n\u001b[1;32m    208\u001b[0m         \u001b[0;34m\"\"\"Schedule a func to be run\"\"\"\u001b[0m\u001b[0;34m\u001b[0m\u001b[0;34m\u001b[0m\u001b[0m\n\u001b[0;32m--> 209\u001b[0;31m         \u001b[0mresult\u001b[0m \u001b[0;34m=\u001b[0m \u001b[0mImmediateResult\u001b[0m\u001b[0;34m(\u001b[0m\u001b[0mfunc\u001b[0m\u001b[0;34m)\u001b[0m\u001b[0;34m\u001b[0m\u001b[0;34m\u001b[0m\u001b[0m\n\u001b[0m\u001b[1;32m    210\u001b[0m         \u001b[0;32mif\u001b[0m \u001b[0mcallback\u001b[0m\u001b[0;34m:\u001b[0m\u001b[0;34m\u001b[0m\u001b[0;34m\u001b[0m\u001b[0m\n\u001b[1;32m    211\u001b[0m             \u001b[0mcallback\u001b[0m\u001b[0;34m(\u001b[0m\u001b[0mresult\u001b[0m\u001b[0;34m)\u001b[0m\u001b[0;34m\u001b[0m\u001b[0;34m\u001b[0m\u001b[0m\n",
      "\u001b[0;32m~/anaconda3/lib/python3.7/site-packages/joblib/_parallel_backends.py\u001b[0m in \u001b[0;36m__init__\u001b[0;34m(self, batch)\u001b[0m\n\u001b[1;32m    588\u001b[0m         \u001b[0;31m# Don't delay the application, to avoid keeping the input\u001b[0m\u001b[0;34m\u001b[0m\u001b[0;34m\u001b[0m\u001b[0;34m\u001b[0m\u001b[0m\n\u001b[1;32m    589\u001b[0m         \u001b[0;31m# arguments in memory\u001b[0m\u001b[0;34m\u001b[0m\u001b[0;34m\u001b[0m\u001b[0;34m\u001b[0m\u001b[0m\n\u001b[0;32m--> 590\u001b[0;31m         \u001b[0mself\u001b[0m\u001b[0;34m.\u001b[0m\u001b[0mresults\u001b[0m \u001b[0;34m=\u001b[0m \u001b[0mbatch\u001b[0m\u001b[0;34m(\u001b[0m\u001b[0;34m)\u001b[0m\u001b[0;34m\u001b[0m\u001b[0;34m\u001b[0m\u001b[0m\n\u001b[0m\u001b[1;32m    591\u001b[0m \u001b[0;34m\u001b[0m\u001b[0m\n\u001b[1;32m    592\u001b[0m     \u001b[0;32mdef\u001b[0m \u001b[0mget\u001b[0m\u001b[0;34m(\u001b[0m\u001b[0mself\u001b[0m\u001b[0;34m)\u001b[0m\u001b[0;34m:\u001b[0m\u001b[0;34m\u001b[0m\u001b[0;34m\u001b[0m\u001b[0m\n",
      "\u001b[0;32m~/anaconda3/lib/python3.7/site-packages/joblib/parallel.py\u001b[0m in \u001b[0;36m__call__\u001b[0;34m(self)\u001b[0m\n\u001b[1;32m    254\u001b[0m         \u001b[0;32mwith\u001b[0m \u001b[0mparallel_backend\u001b[0m\u001b[0;34m(\u001b[0m\u001b[0mself\u001b[0m\u001b[0;34m.\u001b[0m\u001b[0m_backend\u001b[0m\u001b[0;34m,\u001b[0m \u001b[0mn_jobs\u001b[0m\u001b[0;34m=\u001b[0m\u001b[0mself\u001b[0m\u001b[0;34m.\u001b[0m\u001b[0m_n_jobs\u001b[0m\u001b[0;34m)\u001b[0m\u001b[0;34m:\u001b[0m\u001b[0;34m\u001b[0m\u001b[0;34m\u001b[0m\u001b[0m\n\u001b[1;32m    255\u001b[0m             return [func(*args, **kwargs)\n\u001b[0;32m--> 256\u001b[0;31m                     for func, args, kwargs in self.items]\n\u001b[0m\u001b[1;32m    257\u001b[0m \u001b[0;34m\u001b[0m\u001b[0m\n\u001b[1;32m    258\u001b[0m     \u001b[0;32mdef\u001b[0m \u001b[0m__len__\u001b[0m\u001b[0;34m(\u001b[0m\u001b[0mself\u001b[0m\u001b[0;34m)\u001b[0m\u001b[0;34m:\u001b[0m\u001b[0;34m\u001b[0m\u001b[0;34m\u001b[0m\u001b[0m\n",
      "\u001b[0;32m~/anaconda3/lib/python3.7/site-packages/joblib/parallel.py\u001b[0m in \u001b[0;36m<listcomp>\u001b[0;34m(.0)\u001b[0m\n\u001b[1;32m    254\u001b[0m         \u001b[0;32mwith\u001b[0m \u001b[0mparallel_backend\u001b[0m\u001b[0;34m(\u001b[0m\u001b[0mself\u001b[0m\u001b[0;34m.\u001b[0m\u001b[0m_backend\u001b[0m\u001b[0;34m,\u001b[0m \u001b[0mn_jobs\u001b[0m\u001b[0;34m=\u001b[0m\u001b[0mself\u001b[0m\u001b[0;34m.\u001b[0m\u001b[0m_n_jobs\u001b[0m\u001b[0;34m)\u001b[0m\u001b[0;34m:\u001b[0m\u001b[0;34m\u001b[0m\u001b[0;34m\u001b[0m\u001b[0m\n\u001b[1;32m    255\u001b[0m             return [func(*args, **kwargs)\n\u001b[0;32m--> 256\u001b[0;31m                     for func, args, kwargs in self.items]\n\u001b[0m\u001b[1;32m    257\u001b[0m \u001b[0;34m\u001b[0m\u001b[0m\n\u001b[1;32m    258\u001b[0m     \u001b[0;32mdef\u001b[0m \u001b[0m__len__\u001b[0m\u001b[0;34m(\u001b[0m\u001b[0mself\u001b[0m\u001b[0;34m)\u001b[0m\u001b[0;34m:\u001b[0m\u001b[0;34m\u001b[0m\u001b[0;34m\u001b[0m\u001b[0m\n",
      "\u001b[0;32m~/anaconda3/lib/python3.7/site-packages/sklearn/model_selection/_validation.py\u001b[0m in \u001b[0;36m_fit_and_score\u001b[0;34m(estimator, X, y, scorer, train, test, verbose, parameters, fit_params, return_train_score, return_parameters, return_n_test_samples, return_times, return_estimator, error_score)\u001b[0m\n\u001b[1;32m    513\u001b[0m             \u001b[0mestimator\u001b[0m\u001b[0;34m.\u001b[0m\u001b[0mfit\u001b[0m\u001b[0;34m(\u001b[0m\u001b[0mX_train\u001b[0m\u001b[0;34m,\u001b[0m \u001b[0;34m**\u001b[0m\u001b[0mfit_params\u001b[0m\u001b[0;34m)\u001b[0m\u001b[0;34m\u001b[0m\u001b[0;34m\u001b[0m\u001b[0m\n\u001b[1;32m    514\u001b[0m         \u001b[0;32melse\u001b[0m\u001b[0;34m:\u001b[0m\u001b[0;34m\u001b[0m\u001b[0;34m\u001b[0m\u001b[0m\n\u001b[0;32m--> 515\u001b[0;31m             \u001b[0mestimator\u001b[0m\u001b[0;34m.\u001b[0m\u001b[0mfit\u001b[0m\u001b[0;34m(\u001b[0m\u001b[0mX_train\u001b[0m\u001b[0;34m,\u001b[0m \u001b[0my_train\u001b[0m\u001b[0;34m,\u001b[0m \u001b[0;34m**\u001b[0m\u001b[0mfit_params\u001b[0m\u001b[0;34m)\u001b[0m\u001b[0;34m\u001b[0m\u001b[0;34m\u001b[0m\u001b[0m\n\u001b[0m\u001b[1;32m    516\u001b[0m \u001b[0;34m\u001b[0m\u001b[0m\n\u001b[1;32m    517\u001b[0m     \u001b[0;32mexcept\u001b[0m \u001b[0mException\u001b[0m \u001b[0;32mas\u001b[0m \u001b[0me\u001b[0m\u001b[0;34m:\u001b[0m\u001b[0;34m\u001b[0m\u001b[0;34m\u001b[0m\u001b[0m\n",
      "\u001b[0;32m~/anaconda3/lib/python3.7/site-packages/xgboost/sklearn.py\u001b[0m in \u001b[0;36mfit\u001b[0;34m(self, X, y, sample_weight, base_margin, eval_set, eval_metric, early_stopping_rounds, verbose, xgb_model, sample_weight_eval_set, callbacks)\u001b[0m\n\u001b[1;32m    547\u001b[0m                               \u001b[0mevals_result\u001b[0m\u001b[0;34m=\u001b[0m\u001b[0mevals_result\u001b[0m\u001b[0;34m,\u001b[0m \u001b[0mobj\u001b[0m\u001b[0;34m=\u001b[0m\u001b[0mobj\u001b[0m\u001b[0;34m,\u001b[0m \u001b[0mfeval\u001b[0m\u001b[0;34m=\u001b[0m\u001b[0mfeval\u001b[0m\u001b[0;34m,\u001b[0m\u001b[0;34m\u001b[0m\u001b[0;34m\u001b[0m\u001b[0m\n\u001b[1;32m    548\u001b[0m                               \u001b[0mverbose_eval\u001b[0m\u001b[0;34m=\u001b[0m\u001b[0mverbose\u001b[0m\u001b[0;34m,\u001b[0m \u001b[0mxgb_model\u001b[0m\u001b[0;34m=\u001b[0m\u001b[0mxgb_model\u001b[0m\u001b[0;34m,\u001b[0m\u001b[0;34m\u001b[0m\u001b[0;34m\u001b[0m\u001b[0m\n\u001b[0;32m--> 549\u001b[0;31m                               callbacks=callbacks)\n\u001b[0m\u001b[1;32m    550\u001b[0m \u001b[0;34m\u001b[0m\u001b[0m\n\u001b[1;32m    551\u001b[0m         \u001b[0;32mif\u001b[0m \u001b[0mevals_result\u001b[0m\u001b[0;34m:\u001b[0m\u001b[0;34m\u001b[0m\u001b[0;34m\u001b[0m\u001b[0m\n",
      "\u001b[0;32m~/anaconda3/lib/python3.7/site-packages/xgboost/training.py\u001b[0m in \u001b[0;36mtrain\u001b[0;34m(params, dtrain, num_boost_round, evals, obj, feval, maximize, early_stopping_rounds, evals_result, verbose_eval, xgb_model, callbacks)\u001b[0m\n\u001b[1;32m    207\u001b[0m                            \u001b[0mevals\u001b[0m\u001b[0;34m=\u001b[0m\u001b[0mevals\u001b[0m\u001b[0;34m,\u001b[0m\u001b[0;34m\u001b[0m\u001b[0;34m\u001b[0m\u001b[0m\n\u001b[1;32m    208\u001b[0m                            \u001b[0mobj\u001b[0m\u001b[0;34m=\u001b[0m\u001b[0mobj\u001b[0m\u001b[0;34m,\u001b[0m \u001b[0mfeval\u001b[0m\u001b[0;34m=\u001b[0m\u001b[0mfeval\u001b[0m\u001b[0;34m,\u001b[0m\u001b[0;34m\u001b[0m\u001b[0;34m\u001b[0m\u001b[0m\n\u001b[0;32m--> 209\u001b[0;31m                            xgb_model=xgb_model, callbacks=callbacks)\n\u001b[0m\u001b[1;32m    210\u001b[0m \u001b[0;34m\u001b[0m\u001b[0m\n\u001b[1;32m    211\u001b[0m \u001b[0;34m\u001b[0m\u001b[0m\n",
      "\u001b[0;32m~/anaconda3/lib/python3.7/site-packages/xgboost/training.py\u001b[0m in \u001b[0;36m_train_internal\u001b[0;34m(params, dtrain, num_boost_round, evals, obj, feval, xgb_model, callbacks)\u001b[0m\n\u001b[1;32m     72\u001b[0m         \u001b[0;31m# Skip the first update if it is a recovery step.\u001b[0m\u001b[0;34m\u001b[0m\u001b[0;34m\u001b[0m\u001b[0;34m\u001b[0m\u001b[0m\n\u001b[1;32m     73\u001b[0m         \u001b[0;32mif\u001b[0m \u001b[0mversion\u001b[0m \u001b[0;34m%\u001b[0m \u001b[0;36m2\u001b[0m \u001b[0;34m==\u001b[0m \u001b[0;36m0\u001b[0m\u001b[0;34m:\u001b[0m\u001b[0;34m\u001b[0m\u001b[0;34m\u001b[0m\u001b[0m\n\u001b[0;32m---> 74\u001b[0;31m             \u001b[0mbst\u001b[0m\u001b[0;34m.\u001b[0m\u001b[0mupdate\u001b[0m\u001b[0;34m(\u001b[0m\u001b[0mdtrain\u001b[0m\u001b[0;34m,\u001b[0m \u001b[0mi\u001b[0m\u001b[0;34m,\u001b[0m \u001b[0mobj\u001b[0m\u001b[0;34m)\u001b[0m\u001b[0;34m\u001b[0m\u001b[0;34m\u001b[0m\u001b[0m\n\u001b[0m\u001b[1;32m     75\u001b[0m             \u001b[0mbst\u001b[0m\u001b[0;34m.\u001b[0m\u001b[0msave_rabit_checkpoint\u001b[0m\u001b[0;34m(\u001b[0m\u001b[0;34m)\u001b[0m\u001b[0;34m\u001b[0m\u001b[0;34m\u001b[0m\u001b[0m\n\u001b[1;32m     76\u001b[0m             \u001b[0mversion\u001b[0m \u001b[0;34m+=\u001b[0m \u001b[0;36m1\u001b[0m\u001b[0;34m\u001b[0m\u001b[0;34m\u001b[0m\u001b[0m\n",
      "\u001b[0;32m~/anaconda3/lib/python3.7/site-packages/xgboost/core.py\u001b[0m in \u001b[0;36mupdate\u001b[0;34m(self, dtrain, iteration, fobj)\u001b[0m\n\u001b[1;32m   1247\u001b[0m             _check_call(_LIB.XGBoosterUpdateOneIter(self.handle,\n\u001b[1;32m   1248\u001b[0m                                                     \u001b[0mctypes\u001b[0m\u001b[0;34m.\u001b[0m\u001b[0mc_int\u001b[0m\u001b[0;34m(\u001b[0m\u001b[0miteration\u001b[0m\u001b[0;34m)\u001b[0m\u001b[0;34m,\u001b[0m\u001b[0;34m\u001b[0m\u001b[0;34m\u001b[0m\u001b[0m\n\u001b[0;32m-> 1249\u001b[0;31m                                                     dtrain.handle))\n\u001b[0m\u001b[1;32m   1250\u001b[0m         \u001b[0;32melse\u001b[0m\u001b[0;34m:\u001b[0m\u001b[0;34m\u001b[0m\u001b[0;34m\u001b[0m\u001b[0m\n\u001b[1;32m   1251\u001b[0m             \u001b[0mpred\u001b[0m \u001b[0;34m=\u001b[0m \u001b[0mself\u001b[0m\u001b[0;34m.\u001b[0m\u001b[0mpredict\u001b[0m\u001b[0;34m(\u001b[0m\u001b[0mdtrain\u001b[0m\u001b[0;34m,\u001b[0m \u001b[0mtraining\u001b[0m\u001b[0;34m=\u001b[0m\u001b[0;32mTrue\u001b[0m\u001b[0;34m)\u001b[0m\u001b[0;34m\u001b[0m\u001b[0;34m\u001b[0m\u001b[0m\n",
      "\u001b[0;31mKeyboardInterrupt\u001b[0m: "
     ]
    }
   ],
   "source": [
    "Y_COLUMN = 'M3 K'\n",
    "\n",
    "m3_k_xgb = basic_xgboost(spectra_df, WET_CHEM_PATH, Y_COLUMN)"
   ]
  },
  {
   "cell_type": "code",
   "execution_count": 19,
   "metadata": {
    "collapsed": true,
    "jupyter": {
     "outputs_hidden": true
    }
   },
   "outputs": [
    {
     "name": "stdout",
     "output_type": "stream",
     "text": [
      "Training model for M3 Ca.\n",
      "1907 samples available.\n"
     ]
    },
    {
     "ename": "KeyboardInterrupt",
     "evalue": "",
     "output_type": "error",
     "traceback": [
      "\u001b[0;31m------------------------------------------------------------------------\u001b[0m",
      "\u001b[0;31mKeyboardInterrupt\u001b[0m                      Traceback (most recent call last)",
      "\u001b[0;32m<timed exec>\u001b[0m in \u001b[0;36m<module>\u001b[0;34m\u001b[0m\n",
      "\u001b[0;32m~/projects/soil_health_prediction/src/model.py\u001b[0m in \u001b[0;36mbasic_xgboost\u001b[0;34m(spectra_df, WET_CHEM_PATH, Y_COLUMN)\u001b[0m\n\u001b[1;32m     52\u001b[0m     \u001b[0mmodel\u001b[0m \u001b[0;34m=\u001b[0m \u001b[0mXGBRegressor\u001b[0m\u001b[0;34m(\u001b[0m\u001b[0mn_estimators\u001b[0m\u001b[0;34m=\u001b[0m\u001b[0;36m500\u001b[0m\u001b[0;34m,\u001b[0m \u001b[0mmin_child_weight\u001b[0m\u001b[0;34m=\u001b[0m\u001b[0;36m20\u001b[0m\u001b[0;34m,\u001b[0m \u001b[0mn_jobs\u001b[0m\u001b[0;34m=\u001b[0m\u001b[0;34m-\u001b[0m\u001b[0;36m1\u001b[0m\u001b[0;34m,\u001b[0m \u001b[0mobjective\u001b[0m\u001b[0;34m=\u001b[0m\u001b[0;34m'reg:squarederror'\u001b[0m\u001b[0;34m)\u001b[0m\u001b[0;34m\u001b[0m\u001b[0;34m\u001b[0m\u001b[0m\n\u001b[1;32m     53\u001b[0m \u001b[0;34m\u001b[0m\u001b[0m\n\u001b[0;32m---> 54\u001b[0;31m     \u001b[0mcv_result\u001b[0m \u001b[0;34m=\u001b[0m \u001b[0mcross_validate\u001b[0m\u001b[0;34m(\u001b[0m\u001b[0mmodel\u001b[0m\u001b[0;34m,\u001b[0m \u001b[0mx\u001b[0m\u001b[0;34m,\u001b[0m \u001b[0my\u001b[0m\u001b[0;34m,\u001b[0m \u001b[0mscoring\u001b[0m\u001b[0;34m=\u001b[0m\u001b[0;34m'r2'\u001b[0m\u001b[0;34m,\u001b[0m \u001b[0mcv\u001b[0m\u001b[0;34m=\u001b[0m\u001b[0mkfold\u001b[0m\u001b[0;34m)\u001b[0m\u001b[0;34m[\u001b[0m\u001b[0;34m'test_score'\u001b[0m\u001b[0;34m]\u001b[0m\u001b[0;34m\u001b[0m\u001b[0;34m\u001b[0m\u001b[0m\n\u001b[0m\u001b[1;32m     55\u001b[0m     \u001b[0mprint\u001b[0m\u001b[0;34m(\u001b[0m\u001b[0;34mf'CV r^2 score: {np.mean(cv_result)}'\u001b[0m\u001b[0;34m)\u001b[0m\u001b[0;34m\u001b[0m\u001b[0;34m\u001b[0m\u001b[0m\n\u001b[1;32m     56\u001b[0m \u001b[0;34m\u001b[0m\u001b[0m\n",
      "\u001b[0;32m~/anaconda3/lib/python3.7/site-packages/sklearn/model_selection/_validation.py\u001b[0m in \u001b[0;36mcross_validate\u001b[0;34m(estimator, X, y, groups, scoring, cv, n_jobs, verbose, fit_params, pre_dispatch, return_train_score, return_estimator, error_score)\u001b[0m\n\u001b[1;32m    234\u001b[0m             \u001b[0mreturn_times\u001b[0m\u001b[0;34m=\u001b[0m\u001b[0;32mTrue\u001b[0m\u001b[0;34m,\u001b[0m \u001b[0mreturn_estimator\u001b[0m\u001b[0;34m=\u001b[0m\u001b[0mreturn_estimator\u001b[0m\u001b[0;34m,\u001b[0m\u001b[0;34m\u001b[0m\u001b[0;34m\u001b[0m\u001b[0m\n\u001b[1;32m    235\u001b[0m             error_score=error_score)\n\u001b[0;32m--> 236\u001b[0;31m         for train, test in cv.split(X, y, groups))\n\u001b[0m\u001b[1;32m    237\u001b[0m \u001b[0;34m\u001b[0m\u001b[0m\n\u001b[1;32m    238\u001b[0m     \u001b[0mzipped_scores\u001b[0m \u001b[0;34m=\u001b[0m \u001b[0mlist\u001b[0m\u001b[0;34m(\u001b[0m\u001b[0mzip\u001b[0m\u001b[0;34m(\u001b[0m\u001b[0;34m*\u001b[0m\u001b[0mscores\u001b[0m\u001b[0;34m)\u001b[0m\u001b[0;34m)\u001b[0m\u001b[0;34m\u001b[0m\u001b[0;34m\u001b[0m\u001b[0m\n",
      "\u001b[0;32m~/anaconda3/lib/python3.7/site-packages/joblib/parallel.py\u001b[0m in \u001b[0;36m__call__\u001b[0;34m(self, iterable)\u001b[0m\n\u001b[1;32m   1002\u001b[0m             \u001b[0;31m# remaining jobs.\u001b[0m\u001b[0;34m\u001b[0m\u001b[0;34m\u001b[0m\u001b[0;34m\u001b[0m\u001b[0m\n\u001b[1;32m   1003\u001b[0m             \u001b[0mself\u001b[0m\u001b[0;34m.\u001b[0m\u001b[0m_iterating\u001b[0m \u001b[0;34m=\u001b[0m \u001b[0;32mFalse\u001b[0m\u001b[0;34m\u001b[0m\u001b[0;34m\u001b[0m\u001b[0m\n\u001b[0;32m-> 1004\u001b[0;31m             \u001b[0;32mif\u001b[0m \u001b[0mself\u001b[0m\u001b[0;34m.\u001b[0m\u001b[0mdispatch_one_batch\u001b[0m\u001b[0;34m(\u001b[0m\u001b[0miterator\u001b[0m\u001b[0;34m)\u001b[0m\u001b[0;34m:\u001b[0m\u001b[0;34m\u001b[0m\u001b[0;34m\u001b[0m\u001b[0m\n\u001b[0m\u001b[1;32m   1005\u001b[0m                 \u001b[0mself\u001b[0m\u001b[0;34m.\u001b[0m\u001b[0m_iterating\u001b[0m \u001b[0;34m=\u001b[0m \u001b[0mself\u001b[0m\u001b[0;34m.\u001b[0m\u001b[0m_original_iterator\u001b[0m \u001b[0;32mis\u001b[0m \u001b[0;32mnot\u001b[0m \u001b[0;32mNone\u001b[0m\u001b[0;34m\u001b[0m\u001b[0;34m\u001b[0m\u001b[0m\n\u001b[1;32m   1006\u001b[0m \u001b[0;34m\u001b[0m\u001b[0m\n",
      "\u001b[0;32m~/anaconda3/lib/python3.7/site-packages/joblib/parallel.py\u001b[0m in \u001b[0;36mdispatch_one_batch\u001b[0;34m(self, iterator)\u001b[0m\n\u001b[1;32m    833\u001b[0m                 \u001b[0;32mreturn\u001b[0m \u001b[0;32mFalse\u001b[0m\u001b[0;34m\u001b[0m\u001b[0;34m\u001b[0m\u001b[0m\n\u001b[1;32m    834\u001b[0m             \u001b[0;32melse\u001b[0m\u001b[0;34m:\u001b[0m\u001b[0;34m\u001b[0m\u001b[0;34m\u001b[0m\u001b[0m\n\u001b[0;32m--> 835\u001b[0;31m                 \u001b[0mself\u001b[0m\u001b[0;34m.\u001b[0m\u001b[0m_dispatch\u001b[0m\u001b[0;34m(\u001b[0m\u001b[0mtasks\u001b[0m\u001b[0;34m)\u001b[0m\u001b[0;34m\u001b[0m\u001b[0;34m\u001b[0m\u001b[0m\n\u001b[0m\u001b[1;32m    836\u001b[0m                 \u001b[0;32mreturn\u001b[0m \u001b[0;32mTrue\u001b[0m\u001b[0;34m\u001b[0m\u001b[0;34m\u001b[0m\u001b[0m\n\u001b[1;32m    837\u001b[0m \u001b[0;34m\u001b[0m\u001b[0m\n",
      "\u001b[0;32m~/anaconda3/lib/python3.7/site-packages/joblib/parallel.py\u001b[0m in \u001b[0;36m_dispatch\u001b[0;34m(self, batch)\u001b[0m\n\u001b[1;32m    752\u001b[0m         \u001b[0;32mwith\u001b[0m \u001b[0mself\u001b[0m\u001b[0;34m.\u001b[0m\u001b[0m_lock\u001b[0m\u001b[0;34m:\u001b[0m\u001b[0;34m\u001b[0m\u001b[0;34m\u001b[0m\u001b[0m\n\u001b[1;32m    753\u001b[0m             \u001b[0mjob_idx\u001b[0m \u001b[0;34m=\u001b[0m \u001b[0mlen\u001b[0m\u001b[0;34m(\u001b[0m\u001b[0mself\u001b[0m\u001b[0;34m.\u001b[0m\u001b[0m_jobs\u001b[0m\u001b[0;34m)\u001b[0m\u001b[0;34m\u001b[0m\u001b[0;34m\u001b[0m\u001b[0m\n\u001b[0;32m--> 754\u001b[0;31m             \u001b[0mjob\u001b[0m \u001b[0;34m=\u001b[0m \u001b[0mself\u001b[0m\u001b[0;34m.\u001b[0m\u001b[0m_backend\u001b[0m\u001b[0;34m.\u001b[0m\u001b[0mapply_async\u001b[0m\u001b[0;34m(\u001b[0m\u001b[0mbatch\u001b[0m\u001b[0;34m,\u001b[0m \u001b[0mcallback\u001b[0m\u001b[0;34m=\u001b[0m\u001b[0mcb\u001b[0m\u001b[0;34m)\u001b[0m\u001b[0;34m\u001b[0m\u001b[0;34m\u001b[0m\u001b[0m\n\u001b[0m\u001b[1;32m    755\u001b[0m             \u001b[0;31m# A job can complete so quickly than its callback is\u001b[0m\u001b[0;34m\u001b[0m\u001b[0;34m\u001b[0m\u001b[0;34m\u001b[0m\u001b[0m\n\u001b[1;32m    756\u001b[0m             \u001b[0;31m# called before we get here, causing self._jobs to\u001b[0m\u001b[0;34m\u001b[0m\u001b[0;34m\u001b[0m\u001b[0;34m\u001b[0m\u001b[0m\n",
      "\u001b[0;32m~/anaconda3/lib/python3.7/site-packages/joblib/_parallel_backends.py\u001b[0m in \u001b[0;36mapply_async\u001b[0;34m(self, func, callback)\u001b[0m\n\u001b[1;32m    207\u001b[0m     \u001b[0;32mdef\u001b[0m \u001b[0mapply_async\u001b[0m\u001b[0;34m(\u001b[0m\u001b[0mself\u001b[0m\u001b[0;34m,\u001b[0m \u001b[0mfunc\u001b[0m\u001b[0;34m,\u001b[0m \u001b[0mcallback\u001b[0m\u001b[0;34m=\u001b[0m\u001b[0;32mNone\u001b[0m\u001b[0;34m)\u001b[0m\u001b[0;34m:\u001b[0m\u001b[0;34m\u001b[0m\u001b[0;34m\u001b[0m\u001b[0m\n\u001b[1;32m    208\u001b[0m         \u001b[0;34m\"\"\"Schedule a func to be run\"\"\"\u001b[0m\u001b[0;34m\u001b[0m\u001b[0;34m\u001b[0m\u001b[0m\n\u001b[0;32m--> 209\u001b[0;31m         \u001b[0mresult\u001b[0m \u001b[0;34m=\u001b[0m \u001b[0mImmediateResult\u001b[0m\u001b[0;34m(\u001b[0m\u001b[0mfunc\u001b[0m\u001b[0;34m)\u001b[0m\u001b[0;34m\u001b[0m\u001b[0;34m\u001b[0m\u001b[0m\n\u001b[0m\u001b[1;32m    210\u001b[0m         \u001b[0;32mif\u001b[0m \u001b[0mcallback\u001b[0m\u001b[0;34m:\u001b[0m\u001b[0;34m\u001b[0m\u001b[0;34m\u001b[0m\u001b[0m\n\u001b[1;32m    211\u001b[0m             \u001b[0mcallback\u001b[0m\u001b[0;34m(\u001b[0m\u001b[0mresult\u001b[0m\u001b[0;34m)\u001b[0m\u001b[0;34m\u001b[0m\u001b[0;34m\u001b[0m\u001b[0m\n",
      "\u001b[0;32m~/anaconda3/lib/python3.7/site-packages/joblib/_parallel_backends.py\u001b[0m in \u001b[0;36m__init__\u001b[0;34m(self, batch)\u001b[0m\n\u001b[1;32m    588\u001b[0m         \u001b[0;31m# Don't delay the application, to avoid keeping the input\u001b[0m\u001b[0;34m\u001b[0m\u001b[0;34m\u001b[0m\u001b[0;34m\u001b[0m\u001b[0m\n\u001b[1;32m    589\u001b[0m         \u001b[0;31m# arguments in memory\u001b[0m\u001b[0;34m\u001b[0m\u001b[0;34m\u001b[0m\u001b[0;34m\u001b[0m\u001b[0m\n\u001b[0;32m--> 590\u001b[0;31m         \u001b[0mself\u001b[0m\u001b[0;34m.\u001b[0m\u001b[0mresults\u001b[0m \u001b[0;34m=\u001b[0m \u001b[0mbatch\u001b[0m\u001b[0;34m(\u001b[0m\u001b[0;34m)\u001b[0m\u001b[0;34m\u001b[0m\u001b[0;34m\u001b[0m\u001b[0m\n\u001b[0m\u001b[1;32m    591\u001b[0m \u001b[0;34m\u001b[0m\u001b[0m\n\u001b[1;32m    592\u001b[0m     \u001b[0;32mdef\u001b[0m \u001b[0mget\u001b[0m\u001b[0;34m(\u001b[0m\u001b[0mself\u001b[0m\u001b[0;34m)\u001b[0m\u001b[0;34m:\u001b[0m\u001b[0;34m\u001b[0m\u001b[0;34m\u001b[0m\u001b[0m\n",
      "\u001b[0;32m~/anaconda3/lib/python3.7/site-packages/joblib/parallel.py\u001b[0m in \u001b[0;36m__call__\u001b[0;34m(self)\u001b[0m\n\u001b[1;32m    254\u001b[0m         \u001b[0;32mwith\u001b[0m \u001b[0mparallel_backend\u001b[0m\u001b[0;34m(\u001b[0m\u001b[0mself\u001b[0m\u001b[0;34m.\u001b[0m\u001b[0m_backend\u001b[0m\u001b[0;34m,\u001b[0m \u001b[0mn_jobs\u001b[0m\u001b[0;34m=\u001b[0m\u001b[0mself\u001b[0m\u001b[0;34m.\u001b[0m\u001b[0m_n_jobs\u001b[0m\u001b[0;34m)\u001b[0m\u001b[0;34m:\u001b[0m\u001b[0;34m\u001b[0m\u001b[0;34m\u001b[0m\u001b[0m\n\u001b[1;32m    255\u001b[0m             return [func(*args, **kwargs)\n\u001b[0;32m--> 256\u001b[0;31m                     for func, args, kwargs in self.items]\n\u001b[0m\u001b[1;32m    257\u001b[0m \u001b[0;34m\u001b[0m\u001b[0m\n\u001b[1;32m    258\u001b[0m     \u001b[0;32mdef\u001b[0m \u001b[0m__len__\u001b[0m\u001b[0;34m(\u001b[0m\u001b[0mself\u001b[0m\u001b[0;34m)\u001b[0m\u001b[0;34m:\u001b[0m\u001b[0;34m\u001b[0m\u001b[0;34m\u001b[0m\u001b[0m\n",
      "\u001b[0;32m~/anaconda3/lib/python3.7/site-packages/joblib/parallel.py\u001b[0m in \u001b[0;36m<listcomp>\u001b[0;34m(.0)\u001b[0m\n\u001b[1;32m    254\u001b[0m         \u001b[0;32mwith\u001b[0m \u001b[0mparallel_backend\u001b[0m\u001b[0;34m(\u001b[0m\u001b[0mself\u001b[0m\u001b[0;34m.\u001b[0m\u001b[0m_backend\u001b[0m\u001b[0;34m,\u001b[0m \u001b[0mn_jobs\u001b[0m\u001b[0;34m=\u001b[0m\u001b[0mself\u001b[0m\u001b[0;34m.\u001b[0m\u001b[0m_n_jobs\u001b[0m\u001b[0;34m)\u001b[0m\u001b[0;34m:\u001b[0m\u001b[0;34m\u001b[0m\u001b[0;34m\u001b[0m\u001b[0m\n\u001b[1;32m    255\u001b[0m             return [func(*args, **kwargs)\n\u001b[0;32m--> 256\u001b[0;31m                     for func, args, kwargs in self.items]\n\u001b[0m\u001b[1;32m    257\u001b[0m \u001b[0;34m\u001b[0m\u001b[0m\n\u001b[1;32m    258\u001b[0m     \u001b[0;32mdef\u001b[0m \u001b[0m__len__\u001b[0m\u001b[0;34m(\u001b[0m\u001b[0mself\u001b[0m\u001b[0;34m)\u001b[0m\u001b[0;34m:\u001b[0m\u001b[0;34m\u001b[0m\u001b[0;34m\u001b[0m\u001b[0m\n",
      "\u001b[0;32m~/anaconda3/lib/python3.7/site-packages/sklearn/model_selection/_validation.py\u001b[0m in \u001b[0;36m_fit_and_score\u001b[0;34m(estimator, X, y, scorer, train, test, verbose, parameters, fit_params, return_train_score, return_parameters, return_n_test_samples, return_times, return_estimator, error_score)\u001b[0m\n\u001b[1;32m    513\u001b[0m             \u001b[0mestimator\u001b[0m\u001b[0;34m.\u001b[0m\u001b[0mfit\u001b[0m\u001b[0;34m(\u001b[0m\u001b[0mX_train\u001b[0m\u001b[0;34m,\u001b[0m \u001b[0;34m**\u001b[0m\u001b[0mfit_params\u001b[0m\u001b[0;34m)\u001b[0m\u001b[0;34m\u001b[0m\u001b[0;34m\u001b[0m\u001b[0m\n\u001b[1;32m    514\u001b[0m         \u001b[0;32melse\u001b[0m\u001b[0;34m:\u001b[0m\u001b[0;34m\u001b[0m\u001b[0;34m\u001b[0m\u001b[0m\n\u001b[0;32m--> 515\u001b[0;31m             \u001b[0mestimator\u001b[0m\u001b[0;34m.\u001b[0m\u001b[0mfit\u001b[0m\u001b[0;34m(\u001b[0m\u001b[0mX_train\u001b[0m\u001b[0;34m,\u001b[0m \u001b[0my_train\u001b[0m\u001b[0;34m,\u001b[0m \u001b[0;34m**\u001b[0m\u001b[0mfit_params\u001b[0m\u001b[0;34m)\u001b[0m\u001b[0;34m\u001b[0m\u001b[0;34m\u001b[0m\u001b[0m\n\u001b[0m\u001b[1;32m    516\u001b[0m \u001b[0;34m\u001b[0m\u001b[0m\n\u001b[1;32m    517\u001b[0m     \u001b[0;32mexcept\u001b[0m \u001b[0mException\u001b[0m \u001b[0;32mas\u001b[0m \u001b[0me\u001b[0m\u001b[0;34m:\u001b[0m\u001b[0;34m\u001b[0m\u001b[0;34m\u001b[0m\u001b[0m\n",
      "\u001b[0;32m~/anaconda3/lib/python3.7/site-packages/xgboost/sklearn.py\u001b[0m in \u001b[0;36mfit\u001b[0;34m(self, X, y, sample_weight, base_margin, eval_set, eval_metric, early_stopping_rounds, verbose, xgb_model, sample_weight_eval_set, callbacks)\u001b[0m\n\u001b[1;32m    547\u001b[0m                               \u001b[0mevals_result\u001b[0m\u001b[0;34m=\u001b[0m\u001b[0mevals_result\u001b[0m\u001b[0;34m,\u001b[0m \u001b[0mobj\u001b[0m\u001b[0;34m=\u001b[0m\u001b[0mobj\u001b[0m\u001b[0;34m,\u001b[0m \u001b[0mfeval\u001b[0m\u001b[0;34m=\u001b[0m\u001b[0mfeval\u001b[0m\u001b[0;34m,\u001b[0m\u001b[0;34m\u001b[0m\u001b[0;34m\u001b[0m\u001b[0m\n\u001b[1;32m    548\u001b[0m                               \u001b[0mverbose_eval\u001b[0m\u001b[0;34m=\u001b[0m\u001b[0mverbose\u001b[0m\u001b[0;34m,\u001b[0m \u001b[0mxgb_model\u001b[0m\u001b[0;34m=\u001b[0m\u001b[0mxgb_model\u001b[0m\u001b[0;34m,\u001b[0m\u001b[0;34m\u001b[0m\u001b[0;34m\u001b[0m\u001b[0m\n\u001b[0;32m--> 549\u001b[0;31m                               callbacks=callbacks)\n\u001b[0m\u001b[1;32m    550\u001b[0m \u001b[0;34m\u001b[0m\u001b[0m\n\u001b[1;32m    551\u001b[0m         \u001b[0;32mif\u001b[0m \u001b[0mevals_result\u001b[0m\u001b[0;34m:\u001b[0m\u001b[0;34m\u001b[0m\u001b[0;34m\u001b[0m\u001b[0m\n",
      "\u001b[0;32m~/anaconda3/lib/python3.7/site-packages/xgboost/training.py\u001b[0m in \u001b[0;36mtrain\u001b[0;34m(params, dtrain, num_boost_round, evals, obj, feval, maximize, early_stopping_rounds, evals_result, verbose_eval, xgb_model, callbacks)\u001b[0m\n\u001b[1;32m    207\u001b[0m                            \u001b[0mevals\u001b[0m\u001b[0;34m=\u001b[0m\u001b[0mevals\u001b[0m\u001b[0;34m,\u001b[0m\u001b[0;34m\u001b[0m\u001b[0;34m\u001b[0m\u001b[0m\n\u001b[1;32m    208\u001b[0m                            \u001b[0mobj\u001b[0m\u001b[0;34m=\u001b[0m\u001b[0mobj\u001b[0m\u001b[0;34m,\u001b[0m \u001b[0mfeval\u001b[0m\u001b[0;34m=\u001b[0m\u001b[0mfeval\u001b[0m\u001b[0;34m,\u001b[0m\u001b[0;34m\u001b[0m\u001b[0;34m\u001b[0m\u001b[0m\n\u001b[0;32m--> 209\u001b[0;31m                            xgb_model=xgb_model, callbacks=callbacks)\n\u001b[0m\u001b[1;32m    210\u001b[0m \u001b[0;34m\u001b[0m\u001b[0m\n\u001b[1;32m    211\u001b[0m \u001b[0;34m\u001b[0m\u001b[0m\n",
      "\u001b[0;32m~/anaconda3/lib/python3.7/site-packages/xgboost/training.py\u001b[0m in \u001b[0;36m_train_internal\u001b[0;34m(params, dtrain, num_boost_round, evals, obj, feval, xgb_model, callbacks)\u001b[0m\n\u001b[1;32m     72\u001b[0m         \u001b[0;31m# Skip the first update if it is a recovery step.\u001b[0m\u001b[0;34m\u001b[0m\u001b[0;34m\u001b[0m\u001b[0;34m\u001b[0m\u001b[0m\n\u001b[1;32m     73\u001b[0m         \u001b[0;32mif\u001b[0m \u001b[0mversion\u001b[0m \u001b[0;34m%\u001b[0m \u001b[0;36m2\u001b[0m \u001b[0;34m==\u001b[0m \u001b[0;36m0\u001b[0m\u001b[0;34m:\u001b[0m\u001b[0;34m\u001b[0m\u001b[0;34m\u001b[0m\u001b[0m\n\u001b[0;32m---> 74\u001b[0;31m             \u001b[0mbst\u001b[0m\u001b[0;34m.\u001b[0m\u001b[0mupdate\u001b[0m\u001b[0;34m(\u001b[0m\u001b[0mdtrain\u001b[0m\u001b[0;34m,\u001b[0m \u001b[0mi\u001b[0m\u001b[0;34m,\u001b[0m \u001b[0mobj\u001b[0m\u001b[0;34m)\u001b[0m\u001b[0;34m\u001b[0m\u001b[0;34m\u001b[0m\u001b[0m\n\u001b[0m\u001b[1;32m     75\u001b[0m             \u001b[0mbst\u001b[0m\u001b[0;34m.\u001b[0m\u001b[0msave_rabit_checkpoint\u001b[0m\u001b[0;34m(\u001b[0m\u001b[0;34m)\u001b[0m\u001b[0;34m\u001b[0m\u001b[0;34m\u001b[0m\u001b[0m\n\u001b[1;32m     76\u001b[0m             \u001b[0mversion\u001b[0m \u001b[0;34m+=\u001b[0m \u001b[0;36m1\u001b[0m\u001b[0;34m\u001b[0m\u001b[0;34m\u001b[0m\u001b[0m\n",
      "\u001b[0;32m~/anaconda3/lib/python3.7/site-packages/xgboost/core.py\u001b[0m in \u001b[0;36mupdate\u001b[0;34m(self, dtrain, iteration, fobj)\u001b[0m\n\u001b[1;32m   1247\u001b[0m             _check_call(_LIB.XGBoosterUpdateOneIter(self.handle,\n\u001b[1;32m   1248\u001b[0m                                                     \u001b[0mctypes\u001b[0m\u001b[0;34m.\u001b[0m\u001b[0mc_int\u001b[0m\u001b[0;34m(\u001b[0m\u001b[0miteration\u001b[0m\u001b[0;34m)\u001b[0m\u001b[0;34m,\u001b[0m\u001b[0;34m\u001b[0m\u001b[0;34m\u001b[0m\u001b[0m\n\u001b[0;32m-> 1249\u001b[0;31m                                                     dtrain.handle))\n\u001b[0m\u001b[1;32m   1250\u001b[0m         \u001b[0;32melse\u001b[0m\u001b[0;34m:\u001b[0m\u001b[0;34m\u001b[0m\u001b[0;34m\u001b[0m\u001b[0m\n\u001b[1;32m   1251\u001b[0m             \u001b[0mpred\u001b[0m \u001b[0;34m=\u001b[0m \u001b[0mself\u001b[0m\u001b[0;34m.\u001b[0m\u001b[0mpredict\u001b[0m\u001b[0;34m(\u001b[0m\u001b[0mdtrain\u001b[0m\u001b[0;34m,\u001b[0m \u001b[0mtraining\u001b[0m\u001b[0;34m=\u001b[0m\u001b[0;32mTrue\u001b[0m\u001b[0;34m)\u001b[0m\u001b[0;34m\u001b[0m\u001b[0;34m\u001b[0m\u001b[0m\n",
      "\u001b[0;31mKeyboardInterrupt\u001b[0m: "
     ]
    }
   ],
   "source": [
    "%%time\n",
    "Y_COLUMN = 'M3 Ca'\n",
    "\n",
    "m3_ca_xgb = basic_xgboost(spectra_df, WET_CHEM_PATH, Y_COLUMN)"
   ]
  },
  {
   "cell_type": "code",
   "execution_count": 50,
   "metadata": {},
   "outputs": [],
   "source": [
    "from sklearn.metrics import mean_squared_error, mean_squared_log_error, mean_absolute_error"
   ]
  },
  {
   "cell_type": "code",
   "execution_count": 20,
   "metadata": {},
   "outputs": [
    {
     "name": "stdout",
     "output_type": "stream",
     "text": [
      "Training model for M3 Ca.\n",
      "1277 samples available.\n",
      "CV r^2 score: 0.6787347479344881\n",
      "CPU times: user 5min 9s, sys: 71.7 ms, total: 5min 9s\n",
      "Wall time: 5min 9s\n"
     ]
    }
   ],
   "source": [
    "%%time\n",
    "Y_COLUMN = 'M3 Ca'\n",
    "\n",
    "m3_ca_xgb = basic_xgboost3(X_train, y_train[Y_COLUMN])"
   ]
  },
  {
   "cell_type": "code",
   "execution_count": 22,
   "metadata": {},
   "outputs": [
    {
     "name": "stdout",
     "output_type": "stream",
     "text": [
      "CPU times: user 1min 42s, sys: 12 ms, total: 1min 42s\n",
      "Wall time: 1min 42s\n"
     ]
    },
    {
     "data": {
      "text/plain": [
       "XGBRegressor(base_score=0.5, booster=None, colsample_bylevel=1,\n",
       "             colsample_bynode=1, colsample_bytree=1, gamma=0, gpu_id=-1,\n",
       "             importance_type='gain', interaction_constraints=None,\n",
       "             learning_rate=0.300000012, max_delta_step=0, max_depth=6,\n",
       "             min_child_weight=20, missing=nan, monotone_constraints=None,\n",
       "             n_estimators=500, n_jobs=-1, num_parallel_tree=1,\n",
       "             objective='reg:squarederror', random_state=0, reg_alpha=0,\n",
       "             reg_lambda=1, scale_pos_weight=1, subsample=1, tree_method=None,\n",
       "             validate_parameters=False, verbosity=None)"
      ]
     },
     "execution_count": 22,
     "metadata": {},
     "output_type": "execute_result"
    }
   ],
   "source": [
    "%%time\n",
    "m3_ca_xgb.fit(X_train, y_train[Y_COLUMN])"
   ]
  },
  {
   "cell_type": "code",
   "execution_count": 23,
   "metadata": {},
   "outputs": [
    {
     "name": "stdout",
     "output_type": "stream",
     "text": [
      "CPU times: user 32.6 ms, sys: 1 µs, total: 32.6 ms\n",
      "Wall time: 31.8 ms\n"
     ]
    }
   ],
   "source": [
    "%%time\n",
    "yhat = m3_ca_xgb.predict(X_validate)"
   ]
  },
  {
   "cell_type": "code",
   "execution_count": 25,
   "metadata": {},
   "outputs": [
    {
     "data": {
      "text/plain": [
       "0.12162717132053891"
      ]
     },
     "execution_count": 25,
     "metadata": {},
     "output_type": "execute_result"
    }
   ],
   "source": [
    "rmse = np.sqrt(mean_squared_error(y_test[Y_COLUMN], yhat))"
   ]
  },
  {
   "cell_type": "code",
   "execution_count": 81,
   "metadata": {},
   "outputs": [
    {
     "data": {
      "text/plain": [
       "0.060494188002702516"
      ]
     },
     "execution_count": 81,
     "metadata": {},
     "output_type": "execute_result"
    }
   ],
   "source": [
    "yhat = m3_ca_xgb.predict(X_validate)\n",
    "rmse = np.sqrt(mean_squared_error(y_test['M3 Ca'], yhat))\n",
    "_mean = y['M3 Ca'].mean()\n",
    "rmse / _mean"
   ]
  },
  {
   "cell_type": "code",
   "execution_count": 82,
   "metadata": {},
   "outputs": [
    {
     "data": {
      "text/plain": [
       "[<matplotlib.lines.Line2D at 0x7f09e1197c90>]"
      ]
     },
     "execution_count": 82,
     "metadata": {},
     "output_type": "execute_result"
    },
    {
     "data": {
      "image/png": "[encoded data removed]",
      "text/plain": [
       "<Figure size 432x288 with 1 Axes>"
      ]
     },
     "metadata": {
      "needs_background": "light"
     },
     "output_type": "display_data"
    }
   ],
   "source": [
    "plt.plot(m3_p_xgb.feature_importances_)"
   ]
  },
  {
   "cell_type": "code",
   "execution_count": 18,
   "metadata": {},
   "outputs": [
    {
     "name": "stdout",
     "output_type": "stream",
     "text": [
      "Training model for M3 Mg.\n",
      "1277 samples available.\n",
      "CV r^2 score: -0.002401975056961325\n",
      "CPU times: user 1.41 s, sys: 1.06 ms, total: 1.41 s\n",
      "Wall time: 1.4 s\n"
     ]
    }
   ],
   "source": [
    "%%time\n",
    "Y_COLUMN = 'M3 Mg'\n",
    "\n",
    "m3_mg_xgb = basic_xgboost3(X_train, y_train[Y_COLUMN])\n"
   ]
  },
  {
   "cell_type": "code",
   "execution_count": null,
   "metadata": {},
   "outputs": [],
   "source": [
    "Y_COLUMN = 'M3 P'"
   ]
  },
  {
   "cell_type": "code",
   "execution_count": 26,
   "metadata": {},
   "outputs": [
    {
     "name": "stdout",
     "output_type": "stream",
     "text": [
      "Training model for M3 Mg.\n",
      "1277 samples available.\n",
      "CV r^2 score: 0.645165407991274\n",
      "CPU times: user 4min 12s, sys: 76 ms, total: 4min 12s\n",
      "Wall time: 4min 12s\n"
     ]
    }
   ],
   "source": [
    "%%time\n",
    "Y_COLUMN = 'M3 Mg'\n",
    "\n",
    "m3_mg_xgb = basic_xgboost3(X_train, y_train[Y_COLUMN])"
   ]
  },
  {
   "cell_type": "code",
   "execution_count": 27,
   "metadata": {},
   "outputs": [
    {
     "name": "stdout",
     "output_type": "stream",
     "text": [
      "CPU times: user 1min 21s, sys: 16 ms, total: 1min 21s\n",
      "Wall time: 1min 21s\n"
     ]
    },
    {
     "data": {
      "text/plain": [
       "XGBRegressor(base_score=0.5, booster=None, colsample_bylevel=1,\n",
       "             colsample_bynode=1, colsample_bytree=1, gamma=0, gpu_id=-1,\n",
       "             importance_type='gain', interaction_constraints=None,\n",
       "             learning_rate=0.300000012, max_delta_step=0, max_depth=6,\n",
       "             min_child_weight=20, missing=nan, monotone_constraints=None,\n",
       "             n_estimators=500, n_jobs=-1, num_parallel_tree=1,\n",
       "             objective='reg:squarederror', random_state=0, reg_alpha=0,\n",
       "             reg_lambda=1, scale_pos_weight=1, subsample=1, tree_method=None,\n",
       "             validate_parameters=False, verbosity=None)"
      ]
     },
     "execution_count": 27,
     "metadata": {},
     "output_type": "execute_result"
    }
   ],
   "source": [
    "%%time\n",
    "m3_mg_xgb.fit(X_train, y_train[Y_COLUMN])"
   ]
  },
  {
   "cell_type": "code",
   "execution_count": 28,
   "metadata": {},
   "outputs": [
    {
     "name": "stdout",
     "output_type": "stream",
     "text": [
      "CPU times: user 24.9 ms, sys: 4 ms, total: 28.9 ms\n",
      "Wall time: 28.1 ms\n"
     ]
    }
   ],
   "source": [
    "%%time\n",
    "yhat = m3_mg_xgb.predict(X_validate)"
   ]
  },
  {
   "cell_type": "code",
   "execution_count": 40,
   "metadata": {},
   "outputs": [],
   "source": [
    "rmse = np.sqrt(mean_squared_error(y_test[Y_COLUMN], yhat))"
   ]
  },
  {
   "cell_type": "code",
   "execution_count": 41,
   "metadata": {},
   "outputs": [],
   "source": [
    "_mean = y[Y_COLUMN].mean()"
   ]
  },
  {
   "cell_type": "code",
   "execution_count": 42,
   "metadata": {},
   "outputs": [
    {
     "data": {
      "text/plain": [
       "0.0648945510462739"
      ]
     },
     "execution_count": 42,
     "metadata": {},
     "output_type": "execute_result"
    }
   ],
   "source": [
    "rmse / _mean"
   ]
  },
  {
   "cell_type": "code",
   "execution_count": 79,
   "metadata": {},
   "outputs": [
    {
     "data": {
      "text/plain": [
       "[<matplotlib.lines.Line2D at 0x7f09e11d6b50>]"
      ]
     },
     "execution_count": 79,
     "metadata": {},
     "output_type": "execute_result"
    },
    {
     "data": {
      "image/png": "[encoded data removed]",
      "text/plain": [
       "<Figure size 432x288 with 1 Axes>"
      ]
     },
     "metadata": {
      "needs_background": "light"
     },
     "output_type": "display_data"
    }
   ],
   "source": [
    "plt.plot(m3_mg_xgb.feature_importances_)"
   ]
  },
  {
   "cell_type": "code",
   "execution_count": 44,
   "metadata": {},
   "outputs": [
    {
     "data": {
      "text/plain": [
       "0.18552749620900413"
      ]
     },
     "execution_count": 44,
     "metadata": {},
     "output_type": "execute_result"
    }
   ],
   "source": [
    "y[Y_COLUMN].std()"
   ]
  },
  {
   "cell_type": "code",
   "execution_count": null,
   "metadata": {},
   "outputs": [],
   "source": [
    "# plot prediction vs output, compare visually\n",
    "#partial dependency, how far off on avg, always wrong in this region vs that region and informs features to engineer"
   ]
  },
  {
   "cell_type": "code",
   "execution_count": 45,
   "metadata": {},
   "outputs": [],
   "source": [
    "%%time\n",
    "Y_COLUMN = 'M3 P'\n",
    "m3_p_xgb = basic_xgboost3(X_train, y_train[Y_COLUMN])"
   ]
  },
  {
   "cell_type": "code",
   "execution_count": 46,
   "metadata": {},
   "outputs": [
    {
     "data": {
      "text/plain": [
       "0.2608249363629176"
      ]
     },
     "execution_count": 46,
     "metadata": {},
     "output_type": "execute_result"
    }
   ],
   "source": [
    "m3_p_xgb.fit(X_train, y_train[Y_COLUMN])\n",
    "yhat = m3_p_xgb.predict(X_validate)\n",
    "rmse = np.sqrt(mean_squared_error(y_test[Y_COLUMN], yhat))\n",
    "_mean = y[Y_COLUMN].mean()\n",
    "rmse / _mean"
   ]
  },
  {
   "cell_type": "code",
   "execution_count": 78,
   "metadata": {},
   "outputs": [
    {
     "data": {
      "text/plain": [
       "[<matplotlib.lines.Line2D at 0x7f09e11ab0d0>]"
      ]
     },
     "execution_count": 78,
     "metadata": {},
     "output_type": "execute_result"
    },
    {
     "data": {
      "image/png": "[encoded data removed]",
      "text/plain": [
       "<Figure size 432x288 with 1 Axes>"
      ]
     },
     "metadata": {
      "needs_background": "light"
     },
     "output_type": "display_data"
    }
   ],
   "source": [
    "plt.plot(m3_p_xgb.feature_importances_)"
   ]
  },
  {
   "cell_type": "code",
   "execution_count": 47,
   "metadata": {},
   "outputs": [
    {
     "name": "stdout",
     "output_type": "stream",
     "text": [
      "Training model for M3 K.\n",
      "1277 samples available.\n",
      "CV r^2 score: 0.44896083662554775\n",
      "CPU times: user 5min 29s, sys: 84 ms, total: 5min 29s\n",
      "Wall time: 5min 29s\n"
     ]
    }
   ],
   "source": [
    "%%time\n",
    "Y_COLUMN = 'M3 K'\n",
    "m3_k_xgb = basic_xgboost3(X_train, y_train[Y_COLUMN])"
   ]
  },
  {
   "cell_type": "code",
   "execution_count": 48,
   "metadata": {},
   "outputs": [
    {
     "name": "stdout",
     "output_type": "stream",
     "text": [
      "CPU times: user 2min 7s, sys: 20 ms, total: 2min 7s\n",
      "Wall time: 2min 7s\n"
     ]
    },
    {
     "data": {
      "text/plain": [
       "0.07712345694923932"
      ]
     },
     "execution_count": 48,
     "metadata": {},
     "output_type": "execute_result"
    }
   ],
   "source": [
    "%%time\n",
    "m3_k_xgb.fit(X_train, y_train[Y_COLUMN])\n",
    "yhat = m3_k_xgb.predict(X_validate)\n",
    "rmse = np.sqrt(mean_squared_error(y_test[Y_COLUMN], yhat))\n",
    "_mean = y[Y_COLUMN].mean()\n",
    "rmse / _mean"
   ]
  },
  {
   "cell_type": "code",
   "execution_count": 49,
   "metadata": {},
   "outputs": [
    {
     "data": {
      "text/plain": [
       "0.13204418023958925"
      ]
     },
     "execution_count": 49,
     "metadata": {},
     "output_type": "execute_result"
    }
   ],
   "source": [
    "np.sqrt(mean_squared_error(y_test[Y_COLUMN], yhat))"
   ]
  },
  {
   "cell_type": "code",
   "execution_count": 51,
   "metadata": {},
   "outputs": [
    {
     "data": {
      "text/plain": [
       "0.05750316695953364"
      ]
     },
     "execution_count": 51,
     "metadata": {},
     "output_type": "execute_result"
    }
   ],
   "source": [
    "np.sqrt(mean_squared_log_error(y_test[Y_COLUMN], yhat))"
   ]
  },
  {
   "cell_type": "code",
   "execution_count": 54,
   "metadata": {},
   "outputs": [
    {
     "data": {
      "text/plain": [
       "<matplotlib.collections.PathCollection at 0x7f09e53c5bd0>"
      ]
     },
     "execution_count": 54,
     "metadata": {},
     "output_type": "execute_result"
    },
    {
     "data": {
      "image/png": "[encoded data removed]",
      "text/plain": [
       "<Figure size 432x288 with 1 Axes>"
      ]
     },
     "metadata": {
      "needs_background": "light"
     },
     "output_type": "display_data"
    }
   ],
   "source": [
    "plt.scatter(y_test[Y_COLUMN], yhat)"
   ]
  },
  {
   "cell_type": "code",
   "execution_count": 59,
   "metadata": {},
   "outputs": [
    {
     "data": {
      "text/plain": [
       "0.4400076265834207"
      ]
     },
     "execution_count": 59,
     "metadata": {},
     "output_type": "execute_result"
    }
   ],
   "source": [
    "m3_k_xgb.score(X_validate, y_test[Y_COLUMN])"
   ]
  },
  {
   "cell_type": "code",
   "execution_count": 76,
   "metadata": {},
   "outputs": [
    {
     "data": {
      "text/plain": [
       "array([0.0000000e+00, 0.0000000e+00, 6.6897897e-08, 4.0640258e-05,\n",
       "       0.0000000e+00], dtype=float32)"
      ]
     },
     "execution_count": 76,
     "metadata": {},
     "output_type": "execute_result"
    }
   ],
   "source": [
    "m3_k_xgb.feature_importances_[:5]\n"
   ]
  },
  {
   "cell_type": "code",
   "execution_count": 74,
   "metadata": {},
   "outputs": [
    {
     "data": {
      "text/plain": [
       "[<matplotlib.lines.Line2D at 0x7f09e11e7ad0>]"
      ]
     },
     "execution_count": 74,
     "metadata": {},
     "output_type": "execute_result"
    },
    {
     "data": {
      "image/png": "[encoded data removed]",
      "text/plain": [
       "<Figure size 432x288 with 1 Axes>"
      ]
     },
     "metadata": {
      "needs_background": "light"
     },
     "output_type": "display_data"
    }
   ],
   "source": [
    "plt.plot(m3_k_xgb.feature_importances_"
   ]
  },
  {
   "cell_type": "code",
   "execution_count": null,
   "metadata": {},
   "outputs": [],
   "source": []
  }
 ],
 "metadata": {
  "kernelspec": {
   "display_name": "Python 3",
   "language": "python",
   "name": "python3"
  },
  "language_info": {
   "codemirror_mode": {
    "name": "ipython",
    "version": 3
   },
   "file_extension": ".py",
   "mimetype": "text/x-python",
   "name": "python",
   "nbconvert_exporter": "python",
   "pygments_lexer": "ipython3",
   "version": "3.7.6"
  }
 },
 "nbformat": 4,
 "nbformat_minor": 4
}
