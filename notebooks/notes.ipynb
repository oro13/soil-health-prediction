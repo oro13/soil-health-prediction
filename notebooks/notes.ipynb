{
 "cells": [
  {
   "cell_type": "markdown",
   "metadata": {},
   "source": [
    "ran basic model for different elements\n",
    "\n",
    "found bottle neck in converting values for training the model\n",
    "\n",
    "Dropping nans globally and refactoring code to frontload bottle neck instead of repeating it\n",
    "\n",
    "if necessary, consider using alt/external methods for the process\n",
    "\n",
    "denoise w wavelet transform\n",
    "https://www.worldscientific.com/doi/abs/10.1142/9789812796769_0015\n",
    "http://plaza.ufl.edu/yiz21cn/refer/wavelet%20denoising.pdf\n",
    "\n",
    "partial dependency plot xgboost\n",
    "https://github.com/dmlc/xgboost/issues/2035\n",
    "\n",
    "\n",
    "NOW: considering haar transform\n",
    "\n",
    "cwt: https://docs.scipy.org/doc/scipy-0.16.0/reference/generated/scipy.signal.cwt.html\n",
    "\n",
    "confirm "
   ]
  },
  {
   "cell_type": "markdown",
   "metadata": {},
   "source": [
    "\n",
    "suggestion to use deep tensor neural network for spectra ensemble (certain tools are better for different spectra)\n",
    "\n",
    "https://onlinelibrary.wiley.com/doi/full/10.1002/advs.201801367\n",
    "\n",
    "\n",
    "spectra modeling\n",
    "\n",
    "\n",
    "synergistic effect of multi-task learning.\n",
    "\n",
    "https://towardsdatascience.com/deep-learning-and-soil-science-part-1-8c0669b18097\n",
    "\n",
    "\n",
    "will the weights have to be given explicitly or will the neural network detect this well\n",
    "\n",
    "model enemble average weights vs neural net? given geographical data?\n",
    "model enemble - https://medium.com/weightsandbiases/an-introduction-to-model-ensembling-63effc2ca4b3\n",
    "\n",
    "comparing infrared methods and their strengths for soil science\n",
    "https://www.researchgate.net/publication/304068936_Synergistic_Use_of_Vis-NIR_MIR_and_XRF_Spectroscopy_for_the_Determination_of_Soil_Geochemistry\n",
    "\n",
    "basic keras - https://datascienceplus.com/keras-regression-based-neural-networks/\n",
    "pedo transfer to calc certain properties without prediction\n",
    "https://en.wikipedia.org/wiki/Pedotransfer_function\n",
    "\n",
    "transfer learning based on geography\n",
    "https://www.researchgate.net/publication/330145641_Transfer_learning_to_localise_a_continental_soil_vis-NIR_calibration_model\n",
    "\n",
    "\n",
    "https://www.sciencedirect.com/science/article/abs/pii/S2352009418302785?via%3Dihub\n",
    "\n",
    "\n",
    "afsis kaggle\n",
    "https://www.kaggle.com/c/afsis-soil-properties/leaderboard\n",
    "\n",
    "winning ish \n",
    "https://github.com/Yasssser/AFSIS2014/blob/master/main.r"
   ]
  },
  {
   "cell_type": "markdown",
   "metadata": {},
   "source": [
    "noticed P rmsep is pretty bad, compared to other initial target elements (image p nir msep)\n"
   ]
  },
  {
   "cell_type": "markdown",
   "metadata": {},
   "source": [
    "motivation for deep tensor neural network vs neural network\n",
    "\n",
    "pytorch vs keras/tensorflow\n",
    "\n",
    "\n",
    "whats a tensor? its a way of representing data that keeps its meaning during transformations"
   ]
  }
 ],
 "metadata": {
  "kernelspec": {
   "display_name": "Python 3",
   "language": "python",
   "name": "python3"
  },
  "language_info": {
   "codemirror_mode": {
    "name": "ipython",
    "version": 3
   },
   "file_extension": ".py",
   "mimetype": "text/x-python",
   "name": "python",
   "nbconvert_exporter": "python",
   "pygments_lexer": "ipython3",
   "version": "3.7.6"
  }
 },
 "nbformat": 4,
 "nbformat_minor": 4
}
