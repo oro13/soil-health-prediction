{
 "cells": [
  {
   "cell_type": "code",
   "execution_count": null,
   "metadata": {},
   "outputs": [],
   "source": [
    "SPECTRA_DIR = 'Bruker_Alpha_ZnSe/*'\n",
    "\n",
    "AFSIS_PATH = Path('afsis/2009-2013/Dry_Chemistry/ICRAF/')\n",
    "\n",
    "spectra_df_A_ZnSE = load_spectra_df(SPECTRA_DIR, AFSIS_PATH)"
   ]
  },
  {
   "cell_type": "code",
   "execution_count": null,
   "metadata": {},
   "outputs": [],
   "source": [
    "SPECTRA_DIR = 'Bruker_Alpha_KBr/*' #FT-IR\n",
    "\n",
    "AFSIS_PATH = Path('afsis/2009-2013/Dry_Chemistry/ICRAF/')\n",
    "\n",
    "spectra_df_A_KBr = load_spectra_df(SPECTRA_DIR, AFSIS_PATH)"
   ]
  },
  {
   "cell_type": "code",
   "execution_count": null,
   "metadata": {},
   "outputs": [],
   "source": [
    "SPECTRA_DIR = 'Bruker_MPA/*'\n",
    "\n",
    "AFSIS_PATH = Path('afsis/2009-2013/Dry_Chemistry/ICRAF/')\n",
    "\n",
    "spectra_df_MPA = load_spectra_df(SPECTRA_DIR, AFSIS_PATH)\n"
   ]
  }
 ],
 "metadata": {
  "kernelspec": {
   "display_name": "Environment (conda_tensorflow_p36)",
   "language": "python",
   "name": "conda_tensorflow_p36"
  },
  "language_info": {
   "codemirror_mode": {
    "name": "ipython",
    "version": 3
   },
   "file_extension": ".py",
   "mimetype": "text/x-python",
   "name": "python",
   "nbconvert_exporter": "python",
   "pygments_lexer": "ipython3",
   "version": "3.6.10"
  }
 },
 "nbformat": 4,
 "nbformat_minor": 4
}
